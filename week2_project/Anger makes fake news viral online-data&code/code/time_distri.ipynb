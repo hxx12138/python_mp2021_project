{
 "cells": [
  {
   "cell_type": "code",
   "execution_count": 1,
   "metadata": {},
   "outputs": [
    {
     "data": {
      "text/plain": [
       "((10000, 8), (22479, 8))"
      ]
     },
     "execution_count": 1,
     "metadata": {},
     "output_type": "execute_result"
    }
   ],
   "source": [
    "import pandas as pd\n",
    "import numpy as np\n",
    "\n",
    "true_news = pd.read_csv(r'data\\df_real_data.csv')\n",
    "false_news = pd.read_csv(r'data\\df_rumor_data.csv')\n",
    "true_news.shape, false_news.shape"
   ]
  },
  {
   "cell_type": "code",
   "execution_count": 2,
   "metadata": {},
   "outputs": [
    {
     "data": {
      "text/html": [
       "<div>\n",
       "<style scoped>\n",
       "    .dataframe tbody tr th:only-of-type {\n",
       "        vertical-align: middle;\n",
       "    }\n",
       "\n",
       "    .dataframe tbody tr th {\n",
       "        vertical-align: top;\n",
       "    }\n",
       "\n",
       "    .dataframe thead th {\n",
       "        text-align: right;\n",
       "    }\n",
       "</style>\n",
       "<table border=\"1\" class=\"dataframe\">\n",
       "  <thead>\n",
       "    <tr style=\"text-align: right;\">\n",
       "      <th></th>\n",
       "      <th>authorDic</th>\n",
       "      <th>edges</th>\n",
       "      <th>keyUser</th>\n",
       "      <th>layerNum</th>\n",
       "      <th>rpsttimeline</th>\n",
       "      <th>status</th>\n",
       "      <th>weiboID</th>\n",
       "    </tr>\n",
       "  </thead>\n",
       "  <tbody>\n",
       "    <tr>\n",
       "      <th>0</th>\n",
       "      <td>{'province': '11', 'weiboText': '远去的大师', 'scre...</td>\n",
       "      <td>{}</td>\n",
       "      <td>{'4010120209906916': 'http://tva3.sinaimg.cn/c...</td>\n",
       "      <td>[0, 0, 0, 0, 0, 0]</td>\n",
       "      <td>[['2014-12-31 22:50:00', 0], ['2014-12-31 23:0...</td>\n",
       "      <td>1</td>\n",
       "      <td>3793976291216967</td>\n",
       "    </tr>\n",
       "    <tr>\n",
       "      <th>1</th>\n",
       "      <td>{'province': '11', 'weiboText': '中国青年女科学家奖十周年纪...</td>\n",
       "      <td>{'3658686746755393': {'posttime': 'Mon Dec 23 ...</td>\n",
       "      <td>{'4010120209906916': 'http://tva3.sinaimg.cn/c...</td>\n",
       "      <td>[2, 0, 0, 0, 0, 0]</td>\n",
       "      <td>[['2013-12-18 11:00:00', 1], ['2013-12-18 11:1...</td>\n",
       "      <td>1</td>\n",
       "      <td>3656813583185243</td>\n",
       "    </tr>\n",
       "    <tr>\n",
       "      <th>2</th>\n",
       "      <td>{'province': '11', 'weiboText': '【民办教师首次纳入职评体系...</td>\n",
       "      <td>{}</td>\n",
       "      <td>{'4006787155492653': 'http://tva3.sinaimg.cn/c...</td>\n",
       "      <td>[0, 0, 0, 0, 0, 0]</td>\n",
       "      <td>[['2016-04-19 09:00:00', 0], ['2016-04-19 09:1...</td>\n",
       "      <td>1</td>\n",
       "      <td>3965901743766209</td>\n",
       "    </tr>\n",
       "    <tr>\n",
       "      <th>3</th>\n",
       "      <td>{'province': '22', 'weiboText': '转发微博', 'scree...</td>\n",
       "      <td>{}</td>\n",
       "      <td>{'4010300573400632': 'http://tva1.sinaimg.cn/c...</td>\n",
       "      <td>[0, 0, 0, 0, 0, 0]</td>\n",
       "      <td>[['2016-02-23 09:10:00', 0], ['2016-02-23 09:2...</td>\n",
       "      <td>1</td>\n",
       "      <td>3945608626241268</td>\n",
       "    </tr>\n",
       "    <tr>\n",
       "      <th>4</th>\n",
       "      <td>{'province': '64', 'weiboText': '转发微博', 'scree...</td>\n",
       "      <td>{}</td>\n",
       "      <td>{'4010300573400632': 'http://tva1.sinaimg.cn/c...</td>\n",
       "      <td>[0, 0, 0, 0, 0, 0]</td>\n",
       "      <td>[['2016-08-19 09:50:00', 0], ['2016-08-19 10:0...</td>\n",
       "      <td>1</td>\n",
       "      <td>4010124030948666</td>\n",
       "    </tr>\n",
       "  </tbody>\n",
       "</table>\n",
       "</div>"
      ],
      "text/plain": [
       "                                           authorDic  \\\n",
       "0  {'province': '11', 'weiboText': '远去的大师', 'scre...   \n",
       "1  {'province': '11', 'weiboText': '中国青年女科学家奖十周年纪...   \n",
       "2  {'province': '11', 'weiboText': '【民办教师首次纳入职评体系...   \n",
       "3  {'province': '22', 'weiboText': '转发微博', 'scree...   \n",
       "4  {'province': '64', 'weiboText': '转发微博', 'scree...   \n",
       "\n",
       "                                               edges  \\\n",
       "0                                                 {}   \n",
       "1  {'3658686746755393': {'posttime': 'Mon Dec 23 ...   \n",
       "2                                                 {}   \n",
       "3                                                 {}   \n",
       "4                                                 {}   \n",
       "\n",
       "                                             keyUser            layerNum  \\\n",
       "0  {'4010120209906916': 'http://tva3.sinaimg.cn/c...  [0, 0, 0, 0, 0, 0]   \n",
       "1  {'4010120209906916': 'http://tva3.sinaimg.cn/c...  [2, 0, 0, 0, 0, 0]   \n",
       "2  {'4006787155492653': 'http://tva3.sinaimg.cn/c...  [0, 0, 0, 0, 0, 0]   \n",
       "3  {'4010300573400632': 'http://tva1.sinaimg.cn/c...  [0, 0, 0, 0, 0, 0]   \n",
       "4  {'4010300573400632': 'http://tva1.sinaimg.cn/c...  [0, 0, 0, 0, 0, 0]   \n",
       "\n",
       "                                        rpsttimeline  status           weiboID  \n",
       "0  [['2014-12-31 22:50:00', 0], ['2014-12-31 23:0...       1  3793976291216967  \n",
       "1  [['2013-12-18 11:00:00', 1], ['2013-12-18 11:1...       1  3656813583185243  \n",
       "2  [['2016-04-19 09:00:00', 0], ['2016-04-19 09:1...       1  3965901743766209  \n",
       "3  [['2016-02-23 09:10:00', 0], ['2016-02-23 09:2...       1  3945608626241268  \n",
       "4  [['2016-08-19 09:50:00', 0], ['2016-08-19 10:0...       1  4010124030948666  "
      ]
     },
     "execution_count": 2,
     "metadata": {},
     "output_type": "execute_result"
    }
   ],
   "source": [
    "true_false_news = true_news.append(false_news)\n",
    "true_false_news = true_false_news.drop(['Unnamed: 0'], axis=1)\n",
    "true_false_news = true_false_news.reset_index(drop=True)\n",
    "true_false_news.head()"
   ]
  },
  {
   "cell_type": "code",
   "execution_count": 3,
   "metadata": {},
   "outputs": [],
   "source": [
    "import ast\n",
    "import datetime\n",
    "def timeline(tl):\n",
    "    tl = ast.literal_eval(tl)\n",
    "    tmp = tl[0][0].split('-')\n",
    "    return tmp[0]\n",
    "true_false_news['repost_time'] = true_false_news['rpsttimeline'].apply(timeline)"
   ]
  },
  {
   "cell_type": "code",
   "execution_count": 4,
   "metadata": {},
   "outputs": [],
   "source": [
    "from collections import Counter\n",
    "\n",
    "dic = dict(Counter(true_false_news['repost_time']))\n",
    "keys = sorted(dic)"
   ]
  },
  {
   "cell_type": "code",
   "execution_count": 7,
   "metadata": {},
   "outputs": [
    {
     "data": {
      "image/png": "[encoded data removed]",
      "text/plain": [
       "<Figure size 432x288 with 1 Axes>"
      ]
     },
     "metadata": {
      "needs_background": "light"
     },
     "output_type": "display_data"
    }
   ],
   "source": [
    "import matplotlib.pyplot as plt\n",
    "\n",
    "font1 = {\n",
    "    'weight' : 'normal',\n",
    "    'size'   : 18,\n",
    "}\n",
    "font2 = {\n",
    "    'weight' : 'normal',\n",
    "    'size'   : 18,\n",
    "}\n",
    "# plt.style.use('ggplot')\n",
    "fig, ax = plt.subplots()\n",
    "ax.bar(keys, [dic[key] for key in keys], color='#58a6a6')\n",
    "ax.set_xlabel('Year', font1, color='black')\n",
    "ax.set_ylabel('Count', font1, color='black')\n",
    "# ax.legend(prop = font1, ncol=2)\n",
    "ax.tick_params(labelsize=14, colors='black')\n",
    "# ax.set_ylim(0,1)\n",
    "plt.tight_layout()\n",
    "plt.savefig('images/year_count.pdf')\n",
    "plt.savefig('images/year_count.jpg', dpi=600)\n",
    "plt.show()"
   ]
  },
  {
   "cell_type": "code",
   "execution_count": null,
   "metadata": {},
   "outputs": [],
   "source": []
  }
 ],
 "metadata": {
  "kernelspec": {
   "display_name": "Python 3",
   "language": "python",
   "name": "python3"
  },
  "language_info": {
   "codemirror_mode": {
    "name": "ipython",
    "version": 3
   },
   "file_extension": ".py",
   "mimetype": "text/x-python",
   "name": "python",
   "nbconvert_exporter": "python",
   "pygments_lexer": "ipython3",
   "version": "3.7.4"
  }
 },
 "nbformat": 4,
 "nbformat_minor": 2
}
