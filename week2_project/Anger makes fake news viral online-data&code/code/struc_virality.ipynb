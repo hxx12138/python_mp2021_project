{
 "cells": [
  {
   "cell_type": "code",
   "execution_count": 70,
   "metadata": {},
   "outputs": [],
   "source": [
    "import pandas as pd\n",
    "import numpy as np\n",
    "\n",
    "class Node():\n",
    "    def __init__(self, n, father='0', child=[]):\n",
    "        self.n = n\n",
    "        self.child = child\n",
    "    def children(self):\n",
    "        return self.child\n",
    "\n",
    "class T():\n",
    "    def __init__(self, sou_tar, root):\n",
    "        self.sou_tar = sou_tar\n",
    "        self.root = root\n",
    "        self.source = list(sou_tar['source'].drop_duplicates().get_values())\n",
    "        self.target = list(sou_tar['target'].drop_duplicates().get_values())\n",
    "        self.nodes = np.unique(self.source + self.target)\n",
    "    def built(self):\n",
    "        node_list = []\n",
    "        root_node = Node(self.root)\n",
    "        child = self.sou_tar['target'][self.sou_tar['source']==self.root]\n",
    "        if len(child)>0:\n",
    "            root_node.child = child\n",
    "        else:\n",
    "            pass\n",
    "        return root_node\n",
    "    def size(self):\n",
    "        return len(self.nodes)            "
   ]
  },
  {
   "cell_type": "code",
   "execution_count": 28,
   "metadata": {},
   "outputs": [],
   "source": [
    "def subtree_moments(sou_tar, root):\n",
    "    Tr = T(sou_tar, root)\n",
    "    if Tr.size() == 1:\n",
    "        size = 1\n",
    "        sum_sizes = 1\n",
    "        sum_sizes_sqr = 1\n",
    "    else:\n",
    "        r = Tr.built()\n",
    "        size_dic = {}\n",
    "        sum_sizes_dic = {}\n",
    "        sum_sizes_sqr_dic = {}\n",
    "        for c in r.children():\n",
    "            size_dic[c], sum_sizes_dic[c], sum_sizes_sqr_dic[c] = subtree_moments(sou_tar, c)\n",
    "        size = 0\n",
    "        sum_sizes = 0\n",
    "        sum_sizes_sqr = 0\n",
    "        for c in r.children():\n",
    "            size += size_dic[c]\n",
    "            sum_sizes += sum_sizes_dic[c]\n",
    "            sum_sizes_sqr += sum_sizes_sqr_dic[c]\n",
    "        size += 1\n",
    "        sum_sizes += size\n",
    "        sum_sizes_sqr += size**2\n",
    "    return size, sum_sizes, sum_sizes_sqr\n",
    "\n",
    "def average_distance(sou_tar, root):\n",
    "    size, sum_sizes, sum_sizes_sqr = subtree_moments(sou_tar, root)\n",
    "    if size == 1:\n",
    "        dist_avg = 0\n",
    "    else:\n",
    "        dist_avg = (2*size/(size-1))*(sum_sizes/size-sum_sizes_sqr/(size**2))\n",
    "    return dist_avg"
   ]
  },
  {
   "cell_type": "code",
   "execution_count": 3,
   "metadata": {},
   "outputs": [
    {
     "data": {
      "text/html": [
       "<div>\n",
       "<style scoped>\n",
       "    .dataframe tbody tr th:only-of-type {\n",
       "        vertical-align: middle;\n",
       "    }\n",
       "\n",
       "    .dataframe tbody tr th {\n",
       "        vertical-align: top;\n",
       "    }\n",
       "\n",
       "    .dataframe thead th {\n",
       "        text-align: right;\n",
       "    }\n",
       "</style>\n",
       "<table border=\"1\" class=\"dataframe\">\n",
       "  <thead>\n",
       "    <tr style=\"text-align: right;\">\n",
       "      <th></th>\n",
       "      <th>Unnamed: 0</th>\n",
       "      <th>authorDic</th>\n",
       "      <th>edges</th>\n",
       "      <th>keyUser</th>\n",
       "      <th>layerNum</th>\n",
       "      <th>rpsttimeline</th>\n",
       "      <th>status</th>\n",
       "      <th>weiboID</th>\n",
       "      <th>repost_user_ids</th>\n",
       "      <th>id</th>\n",
       "    </tr>\n",
       "  </thead>\n",
       "  <tbody>\n",
       "    <tr>\n",
       "      <th>0</th>\n",
       "      <td>0</td>\n",
       "      <td>{'province': '21', 'weiboText': '\"【熊孩子驾车引发惨烈车祸...</td>\n",
       "      <td>{'3950782372067939': {'posttime': 'Tue Mar 08 ...</td>\n",
       "      <td>{}</td>\n",
       "      <td>[7, 0, 0, 0, 0, 0]</td>\n",
       "      <td>[['2016-03-08 10:00:00', 0], ['2016-03-08 10:1...</td>\n",
       "      <td>1</td>\n",
       "      <td>3950696707151772</td>\n",
       "      <td>['2069094965', '1751143994', '3749715145', '58...</td>\n",
       "      <td>5269634098</td>\n",
       "    </tr>\n",
       "    <tr>\n",
       "      <th>1</th>\n",
       "      <td>1</td>\n",
       "      <td>{'province': '400', 'weiboText': '特大新闻，今天某地一桑拿...</td>\n",
       "      <td>{'3950017993116161': {'posttime': 'Sun Mar 06 ...</td>\n",
       "      <td>{'3949751483920081': 'http://tva4.sinaimg.cn/c...</td>\n",
       "      <td>[169, 103, 9, 4, 0, 0]</td>\n",
       "      <td>[['2016-03-05 13:30:00', 3], ['2016-03-05 13:4...</td>\n",
       "      <td>1</td>\n",
       "      <td>3949660958003450</td>\n",
       "      <td>['3957883643', '1477623350', '1411110415', '29...</td>\n",
       "      <td>5559568190</td>\n",
       "    </tr>\n",
       "    <tr>\n",
       "      <th>2</th>\n",
       "      <td>2</td>\n",
       "      <td>{'province': '21', 'weiboText': '.. 急找孩子，求转   ...</td>\n",
       "      <td>{}</td>\n",
       "      <td>{'3949751483920081': 'http://tva4.sinaimg.cn/c...</td>\n",
       "      <td>[0, 0, 0, 0, 0, 0]</td>\n",
       "      <td>[['2016-03-07 22:10:00', 0], ['2016-03-07 22:2...</td>\n",
       "      <td>1</td>\n",
       "      <td>3950515929249677</td>\n",
       "      <td>[]</td>\n",
       "      <td>1692637037</td>\n",
       "    </tr>\n",
       "    <tr>\n",
       "      <th>3</th>\n",
       "      <td>3</td>\n",
       "      <td>{'province': '44', 'weiboText': '急找孩子，求转  实验小学...</td>\n",
       "      <td>{}</td>\n",
       "      <td>{'3949751483920081': 'http://tva4.sinaimg.cn/c...</td>\n",
       "      <td>[0, 0, 0, 0, 0, 0]</td>\n",
       "      <td>[['2016-03-07 21:50:00', 0], ['2016-03-07 22:0...</td>\n",
       "      <td>1</td>\n",
       "      <td>3950512342047569</td>\n",
       "      <td>[]</td>\n",
       "      <td>2211424651</td>\n",
       "    </tr>\n",
       "    <tr>\n",
       "      <th>4</th>\n",
       "      <td>4</td>\n",
       "      <td>{'province': '13', 'weiboText': '急找孩子，求转 寻人启事 ...</td>\n",
       "      <td>{}</td>\n",
       "      <td>{'3949751483920081': 'http://tva4.sinaimg.cn/c...</td>\n",
       "      <td>[0, 0, 0, 0, 0, 0]</td>\n",
       "      <td>[['2016-03-07 20:10:00', 0], ['2016-03-07 20:2...</td>\n",
       "      <td>1</td>\n",
       "      <td>3950485830376193</td>\n",
       "      <td>[]</td>\n",
       "      <td>2145377515</td>\n",
       "    </tr>\n",
       "  </tbody>\n",
       "</table>\n",
       "</div>"
      ],
      "text/plain": [
       "   Unnamed: 0                                          authorDic  \\\n",
       "0           0  {'province': '21', 'weiboText': '\"【熊孩子驾车引发惨烈车祸...   \n",
       "1           1  {'province': '400', 'weiboText': '特大新闻，今天某地一桑拿...   \n",
       "2           2  {'province': '21', 'weiboText': '.. 急找孩子，求转   ...   \n",
       "3           3  {'province': '44', 'weiboText': '急找孩子，求转  实验小学...   \n",
       "4           4  {'province': '13', 'weiboText': '急找孩子，求转 寻人启事 ...   \n",
       "\n",
       "                                               edges  \\\n",
       "0  {'3950782372067939': {'posttime': 'Tue Mar 08 ...   \n",
       "1  {'3950017993116161': {'posttime': 'Sun Mar 06 ...   \n",
       "2                                                 {}   \n",
       "3                                                 {}   \n",
       "4                                                 {}   \n",
       "\n",
       "                                             keyUser                layerNum  \\\n",
       "0                                                 {}      [7, 0, 0, 0, 0, 0]   \n",
       "1  {'3949751483920081': 'http://tva4.sinaimg.cn/c...  [169, 103, 9, 4, 0, 0]   \n",
       "2  {'3949751483920081': 'http://tva4.sinaimg.cn/c...      [0, 0, 0, 0, 0, 0]   \n",
       "3  {'3949751483920081': 'http://tva4.sinaimg.cn/c...      [0, 0, 0, 0, 0, 0]   \n",
       "4  {'3949751483920081': 'http://tva4.sinaimg.cn/c...      [0, 0, 0, 0, 0, 0]   \n",
       "\n",
       "                                        rpsttimeline  status  \\\n",
       "0  [['2016-03-08 10:00:00', 0], ['2016-03-08 10:1...       1   \n",
       "1  [['2016-03-05 13:30:00', 3], ['2016-03-05 13:4...       1   \n",
       "2  [['2016-03-07 22:10:00', 0], ['2016-03-07 22:2...       1   \n",
       "3  [['2016-03-07 21:50:00', 0], ['2016-03-07 22:0...       1   \n",
       "4  [['2016-03-07 20:10:00', 0], ['2016-03-07 20:2...       1   \n",
       "\n",
       "            weiboID                                    repost_user_ids  \\\n",
       "0  3950696707151772  ['2069094965', '1751143994', '3749715145', '58...   \n",
       "1  3949660958003450  ['3957883643', '1477623350', '1411110415', '29...   \n",
       "2  3950515929249677                                                 []   \n",
       "3  3950512342047569                                                 []   \n",
       "4  3950485830376193                                                 []   \n",
       "\n",
       "           id  \n",
       "0  5269634098  \n",
       "1  5559568190  \n",
       "2  1692637037  \n",
       "3  2211424651  \n",
       "4  2145377515  "
      ]
     },
     "execution_count": 3,
     "metadata": {},
     "output_type": "execute_result"
    }
   ],
   "source": [
    "true_news = pd.read_csv('data/true_news.csv')\n",
    "fake_news = pd.read_csv('data/fake_news.csv')\n",
    "fake_news.head()"
   ]
  },
  {
   "cell_type": "code",
   "execution_count": 4,
   "metadata": {},
   "outputs": [],
   "source": [
    "import re\n",
    "patt_edge= '\\'(.*?)\\': {.*?\\'repostedid\\': \\'(.*?)\\',.*?}'\n",
    "def findall_edge(data, patt):\n",
    "    result = re.findall(patt,data)\n",
    "    sou_tar = pd.DataFrame(result, columns=['target', 'source'])\n",
    "    return sou_tar"
   ]
  },
  {
   "cell_type": "code",
   "execution_count": null,
   "metadata": {},
   "outputs": [],
   "source": [
    "true_news['sou_tar'] = true_news['edges'].apply(lambda s: findall_edge(s, patt_edge))\n",
    "fake_news['sou_tar'] = fake_news['edges'].apply(lambda s: findall_edge(s, patt_edge))"
   ]
  },
  {
   "cell_type": "code",
   "execution_count": 71,
   "metadata": {},
   "outputs": [
    {
     "data": {
      "text/plain": [
       "2.7565206723101463"
      ]
     },
     "execution_count": 71,
     "metadata": {},
     "output_type": "execute_result"
    }
   ],
   "source": [
    "average_distance(fake_news['sou_tar'][1], '3949660958003450')"
   ]
  },
  {
   "cell_type": "code",
   "execution_count": 78,
   "metadata": {},
   "outputs": [],
   "source": [
    "true_news['struc_virality'] = true_news.apply(lambda s: average_distance(s['sou_tar'], str(s['weiboID'])), axis=1)\n",
    "fake_news['struc_virality'] = fake_news.apply(lambda s: average_distance(s['sou_tar'], str(s['weiboID'])), axis=1)"
   ]
  },
  {
   "cell_type": "code",
   "execution_count": 82,
   "metadata": {},
   "outputs": [],
   "source": [
    "import ast\n",
    "\n",
    "true_news['repostNum'] = true_news['authorDic'].apply(lambda info: ast.literal_eval(info)['repostNum'])\n",
    "fake_news['repostNum'] = fake_news['authorDic'].apply(lambda info: ast.literal_eval(info)['repostNum'])"
   ]
  },
  {
   "cell_type": "code",
   "execution_count": 85,
   "metadata": {},
   "outputs": [
    {
     "data": {
      "text/plain": [
       "count    8255.000000\n",
       "mean        0.553373\n",
       "std         0.701503\n",
       "min         0.000000\n",
       "25%         0.000000\n",
       "50%         0.000000\n",
       "75%         1.000000\n",
       "max         3.055556\n",
       "Name: struc_virality, dtype: float64"
      ]
     },
     "execution_count": 85,
     "metadata": {},
     "output_type": "execute_result"
    }
   ],
   "source": [
    "true_news['struc_virality'][true_news['repostNum']<10].describe()"
   ]
  },
  {
   "cell_type": "code",
   "execution_count": 86,
   "metadata": {},
   "outputs": [
    {
     "data": {
      "text/plain": [
       "count    16318.000000\n",
       "mean         0.433163\n",
       "std          0.700064\n",
       "min          0.000000\n",
       "25%          0.000000\n",
       "50%          0.000000\n",
       "75%          1.000000\n",
       "max          3.333333\n",
       "Name: struc_virality, dtype: float64"
      ]
     },
     "execution_count": 86,
     "metadata": {},
     "output_type": "execute_result"
    }
   ],
   "source": [
    "fake_news['struc_virality'][fake_news['repostNum']<10].describe()"
   ]
  },
  {
   "cell_type": "code",
   "execution_count": 87,
   "metadata": {},
   "outputs": [
    {
     "data": {
      "text/plain": [
       "count    1745.000000\n",
       "mean        2.375547\n",
       "std         0.581990\n",
       "min         1.818182\n",
       "25%         1.997980\n",
       "50%         2.167320\n",
       "75%         2.551718\n",
       "max         7.142302\n",
       "Name: struc_virality, dtype: float64"
      ]
     },
     "execution_count": 87,
     "metadata": {},
     "output_type": "execute_result"
    }
   ],
   "source": [
    "true_news['struc_virality'][true_news['repostNum']>=10].describe()"
   ]
  },
  {
   "cell_type": "code",
   "execution_count": 88,
   "metadata": {},
   "outputs": [
    {
     "data": {
      "text/plain": [
       "count    6161.000000\n",
       "mean        3.251625\n",
       "std         1.130913\n",
       "min         1.818182\n",
       "25%         2.395915\n",
       "50%         2.969014\n",
       "75%         3.834382\n",
       "max         9.894752\n",
       "Name: struc_virality, dtype: float64"
      ]
     },
     "execution_count": 88,
     "metadata": {},
     "output_type": "execute_result"
    }
   ],
   "source": [
    "fake_news['struc_virality'][fake_news['repostNum']>=10].describe()"
   ]
  },
  {
   "cell_type": "code",
   "execution_count": 171,
   "metadata": {},
   "outputs": [],
   "source": [
    "# true_news.groupby('repostNum').mean().index.get_values()"
   ]
  },
  {
   "cell_type": "code",
   "execution_count": 115,
   "metadata": {},
   "outputs": [
    {
     "data": {
      "text/plain": [
       "array([   0,    1,    2, ..., 1992, 1993, 1998], dtype=int64)"
      ]
     },
     "execution_count": 115,
     "metadata": {},
     "output_type": "execute_result"
    }
   ],
   "source": [
    "fake_news.groupby('repostNum').mean().index.get_values()"
   ]
  },
  {
   "cell_type": "code",
   "execution_count": 104,
   "metadata": {},
   "outputs": [],
   "source": [
    "true_news['label'] = 'true'\n",
    "fake_news['label'] = 'fake'\n",
    "news = true_news.append(fake_news)\n",
    "news = news.reset_index(drop=True)\n",
    "news.drop(['sou_tar'],axis=1).to_csv('data/struc_virality.csv', index=False)"
   ]
  },
  {
   "cell_type": "code",
   "execution_count": 13,
   "metadata": {},
   "outputs": [],
   "source": [
    "import matplotlib.pyplot as plt\n",
    "def plot_sv(T, F, column):\n",
    "    labels = ['T news', 'F news']\n",
    "    news_list = [T, F]\n",
    "    plt.style.use('seaborn-white')\n",
    "    for i in range(2):\n",
    "        x = news_list[i].groupby('repostNum').mean().index.get_values()\n",
    "        y = news_list[i].groupby('repostNum').mean()[column]\n",
    "        plt.scatter(x,y, label=labels[i])\n",
    "    plt.xscale('log')\n",
    "    plt.axhline(y=2, lw=3, c='lightgrey')\n",
    "    plt.axvline(x=1e1, lw=3, c='lightgrey')\n",
    "    plt.xlim(1e0,1e3)\n",
    "    plt.legend()\n",
    "    plt.show()"
   ]
  },
  {
   "cell_type": "code",
   "execution_count": null,
   "metadata": {},
   "outputs": [],
   "source": []
  },
  {
   "cell_type": "code",
   "execution_count": null,
   "metadata": {},
   "outputs": [],
   "source": []
  },
  {
   "cell_type": "code",
   "execution_count": 1,
   "metadata": {},
   "outputs": [
    {
     "data": {
      "text/html": [
       "<div>\n",
       "<style scoped>\n",
       "    .dataframe tbody tr th:only-of-type {\n",
       "        vertical-align: middle;\n",
       "    }\n",
       "\n",
       "    .dataframe tbody tr th {\n",
       "        vertical-align: top;\n",
       "    }\n",
       "\n",
       "    .dataframe thead th {\n",
       "        text-align: right;\n",
       "    }\n",
       "</style>\n",
       "<table border=\"1\" class=\"dataframe\">\n",
       "  <thead>\n",
       "    <tr style=\"text-align: right;\">\n",
       "      <th></th>\n",
       "      <th>Unnamed: 0</th>\n",
       "      <th>authorDic</th>\n",
       "      <th>edges</th>\n",
       "      <th>keyUser</th>\n",
       "      <th>layerNum</th>\n",
       "      <th>rpsttimeline</th>\n",
       "      <th>status</th>\n",
       "      <th>weiboID</th>\n",
       "      <th>repost_user_ids</th>\n",
       "      <th>id</th>\n",
       "      <th>struc_virality</th>\n",
       "      <th>repostNum</th>\n",
       "      <th>label</th>\n",
       "    </tr>\n",
       "  </thead>\n",
       "  <tbody>\n",
       "    <tr>\n",
       "      <th>0</th>\n",
       "      <td>0</td>\n",
       "      <td>{'province': '11', 'weiboText': '远去的大师', 'scre...</td>\n",
       "      <td>{}</td>\n",
       "      <td>{'4010120209906916': 'http://tva3.sinaimg.cn/c...</td>\n",
       "      <td>[0, 0, 0, 0, 0, 0]</td>\n",
       "      <td>[['2014-12-31 22:50:00', 0], ['2014-12-31 23:0...</td>\n",
       "      <td>1</td>\n",
       "      <td>3793976291216967</td>\n",
       "      <td>[]</td>\n",
       "      <td>1943724947</td>\n",
       "      <td>0.000000</td>\n",
       "      <td>0</td>\n",
       "      <td>true</td>\n",
       "    </tr>\n",
       "    <tr>\n",
       "      <th>1</th>\n",
       "      <td>1</td>\n",
       "      <td>{'province': '11', 'weiboText': '中国青年女科学家奖十周年纪...</td>\n",
       "      <td>{'3658686746755393': {'posttime': 'Mon Dec 23 ...</td>\n",
       "      <td>{'4010120209906916': 'http://tva3.sinaimg.cn/c...</td>\n",
       "      <td>[2, 0, 0, 0, 0, 0]</td>\n",
       "      <td>[['2013-12-18 11:00:00', 1], ['2013-12-18 11:1...</td>\n",
       "      <td>1</td>\n",
       "      <td>3656813583185243</td>\n",
       "      <td>['3880085981', '1098289271']</td>\n",
       "      <td>1791353831</td>\n",
       "      <td>1.333333</td>\n",
       "      <td>2</td>\n",
       "      <td>true</td>\n",
       "    </tr>\n",
       "    <tr>\n",
       "      <th>2</th>\n",
       "      <td>2</td>\n",
       "      <td>{'province': '11', 'weiboText': '【民办教师首次纳入职评体系...</td>\n",
       "      <td>{}</td>\n",
       "      <td>{'4006787155492653': 'http://tva3.sinaimg.cn/c...</td>\n",
       "      <td>[0, 0, 0, 0, 0, 0]</td>\n",
       "      <td>[['2016-04-19 09:00:00', 0], ['2016-04-19 09:1...</td>\n",
       "      <td>1</td>\n",
       "      <td>3965901743766209</td>\n",
       "      <td>[]</td>\n",
       "      <td>1864313207</td>\n",
       "      <td>0.000000</td>\n",
       "      <td>0</td>\n",
       "      <td>true</td>\n",
       "    </tr>\n",
       "    <tr>\n",
       "      <th>3</th>\n",
       "      <td>3</td>\n",
       "      <td>{'province': '22', 'weiboText': '转发微博', 'scree...</td>\n",
       "      <td>{}</td>\n",
       "      <td>{'4010300573400632': 'http://tva1.sinaimg.cn/c...</td>\n",
       "      <td>[0, 0, 0, 0, 0, 0]</td>\n",
       "      <td>[['2016-02-23 09:10:00', 0], ['2016-02-23 09:2...</td>\n",
       "      <td>1</td>\n",
       "      <td>3945608626241268</td>\n",
       "      <td>[]</td>\n",
       "      <td>1765230662</td>\n",
       "      <td>0.000000</td>\n",
       "      <td>0</td>\n",
       "      <td>true</td>\n",
       "    </tr>\n",
       "    <tr>\n",
       "      <th>4</th>\n",
       "      <td>4</td>\n",
       "      <td>{'province': '64', 'weiboText': '转发微博', 'scree...</td>\n",
       "      <td>{}</td>\n",
       "      <td>{'4010300573400632': 'http://tva1.sinaimg.cn/c...</td>\n",
       "      <td>[0, 0, 0, 0, 0, 0]</td>\n",
       "      <td>[['2016-08-19 09:50:00', 0], ['2016-08-19 10:0...</td>\n",
       "      <td>1</td>\n",
       "      <td>4010124030948666</td>\n",
       "      <td>[]</td>\n",
       "      <td>1882632930</td>\n",
       "      <td>0.000000</td>\n",
       "      <td>0</td>\n",
       "      <td>true</td>\n",
       "    </tr>\n",
       "  </tbody>\n",
       "</table>\n",
       "</div>"
      ],
      "text/plain": [
       "   Unnamed: 0                                          authorDic  \\\n",
       "0           0  {'province': '11', 'weiboText': '远去的大师', 'scre...   \n",
       "1           1  {'province': '11', 'weiboText': '中国青年女科学家奖十周年纪...   \n",
       "2           2  {'province': '11', 'weiboText': '【民办教师首次纳入职评体系...   \n",
       "3           3  {'province': '22', 'weiboText': '转发微博', 'scree...   \n",
       "4           4  {'province': '64', 'weiboText': '转发微博', 'scree...   \n",
       "\n",
       "                                               edges  \\\n",
       "0                                                 {}   \n",
       "1  {'3658686746755393': {'posttime': 'Mon Dec 23 ...   \n",
       "2                                                 {}   \n",
       "3                                                 {}   \n",
       "4                                                 {}   \n",
       "\n",
       "                                             keyUser            layerNum  \\\n",
       "0  {'4010120209906916': 'http://tva3.sinaimg.cn/c...  [0, 0, 0, 0, 0, 0]   \n",
       "1  {'4010120209906916': 'http://tva3.sinaimg.cn/c...  [2, 0, 0, 0, 0, 0]   \n",
       "2  {'4006787155492653': 'http://tva3.sinaimg.cn/c...  [0, 0, 0, 0, 0, 0]   \n",
       "3  {'4010300573400632': 'http://tva1.sinaimg.cn/c...  [0, 0, 0, 0, 0, 0]   \n",
       "4  {'4010300573400632': 'http://tva1.sinaimg.cn/c...  [0, 0, 0, 0, 0, 0]   \n",
       "\n",
       "                                        rpsttimeline  status  \\\n",
       "0  [['2014-12-31 22:50:00', 0], ['2014-12-31 23:0...       1   \n",
       "1  [['2013-12-18 11:00:00', 1], ['2013-12-18 11:1...       1   \n",
       "2  [['2016-04-19 09:00:00', 0], ['2016-04-19 09:1...       1   \n",
       "3  [['2016-02-23 09:10:00', 0], ['2016-02-23 09:2...       1   \n",
       "4  [['2016-08-19 09:50:00', 0], ['2016-08-19 10:0...       1   \n",
       "\n",
       "            weiboID               repost_user_ids          id  struc_virality  \\\n",
       "0  3793976291216967                            []  1943724947        0.000000   \n",
       "1  3656813583185243  ['3880085981', '1098289271']  1791353831        1.333333   \n",
       "2  3965901743766209                            []  1864313207        0.000000   \n",
       "3  3945608626241268                            []  1765230662        0.000000   \n",
       "4  4010124030948666                            []  1882632930        0.000000   \n",
       "\n",
       "   repostNum label  \n",
       "0          0  true  \n",
       "1          2  true  \n",
       "2          0  true  \n",
       "3          0  true  \n",
       "4          0  true  "
      ]
     },
     "execution_count": 1,
     "metadata": {},
     "output_type": "execute_result"
    }
   ],
   "source": [
    "import networkx\n",
    "import pandas as pd\n",
    "import numpy as np\n",
    "\n",
    "news = pd.read_csv('data/struc_virality.csv')\n",
    "news.head()"
   ]
  },
  {
   "cell_type": "code",
   "execution_count": 6,
   "metadata": {},
   "outputs": [
    {
     "data": {
      "text/plain": [
       "1.3333333333333333"
      ]
     },
     "execution_count": 6,
     "metadata": {},
     "output_type": "execute_result"
    }
   ],
   "source": [
    "import re\n",
    "import networkx as nx\n",
    "patt_edge= '\\'(.*?)\\': {.*?\\'repostedid\\': \\'(.*?)\\',.*?}'\n",
    "def struc_varility_net(data, patt):\n",
    "    tar_sou = re.findall(patt,data)\n",
    "    G = nx.Graph()\n",
    "    G.add_edges_from(tar_sou)\n",
    "    if len(G.nodes())>1:\n",
    "        v = nx.average_shortest_path_length(G)\n",
    "    else:\n",
    "        v = 0\n",
    "    return v\n",
    "struc_varility_net(news['edges'][1], patt_edge)"
   ]
  },
  {
   "cell_type": "code",
   "execution_count": 8,
   "metadata": {},
   "outputs": [
    {
     "data": {
      "text/plain": [
       "1.6"
      ]
     },
     "execution_count": 8,
     "metadata": {},
     "output_type": "execute_result"
    }
   ],
   "source": [
    "struc_varility_net(news['edges'][7], patt_edge)"
   ]
  },
  {
   "cell_type": "code",
   "execution_count": 10,
   "metadata": {},
   "outputs": [],
   "source": [
    "news['struc_varility_net'] = news['edges'].apply(lambda s: struc_varility_net(s, patt_edge))"
   ]
  },
  {
   "cell_type": "code",
   "execution_count": 14,
   "metadata": {},
   "outputs": [
    {
     "data": {
      "image/png": "[encoded data removed]",
      "text/plain": [
       "<Figure size 432x288 with 1 Axes>"
      ]
     },
     "metadata": {},
     "output_type": "display_data"
    }
   ],
   "source": [
    "plot_sv(news[news['label']=='true'],news[news['label']=='fake'], 'struc_varility_net')"
   ]
  },
  {
   "cell_type": "code",
   "execution_count": 15,
   "metadata": {},
   "outputs": [],
   "source": [
    "news.to_csv('data/struc_varility_net.csv', index=False)"
   ]
  },
  {
   "cell_type": "code",
   "execution_count": null,
   "metadata": {},
   "outputs": [],
   "source": []
  }
 ],
 "metadata": {
  "kernelspec": {
   "display_name": "Python 3",
   "language": "python",
   "name": "python3"
  },
  "language_info": {
   "codemirror_mode": {
    "name": "ipython",
    "version": 3
   },
   "file_extension": ".py",
   "mimetype": "text/x-python",
   "name": "python",
   "nbconvert_exporter": "python",
   "pygments_lexer": "ipython3",
   "version": "3.7.3"
  }
 },
 "nbformat": 4,
 "nbformat_minor": 2
}
