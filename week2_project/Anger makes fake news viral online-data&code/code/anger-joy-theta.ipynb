{
 "cells": [
  {
   "cell_type": "code",
   "execution_count": 1,
   "metadata": {},
   "outputs": [
    {
     "data": {
      "text/plain": [
       "(30901, 41)"
      ]
     },
     "execution_count": 1,
     "metadata": {},
     "output_type": "execute_result"
    }
   ],
   "source": [
    "import pandas as pd\n",
    "import numpy as np\n",
    "\n",
    "data = pd.read_csv('data/classify_data_3_emo_cla_prob_extra_topic_extendEmoDict_2_updateSTSC.csv')\n",
    "data.shape"
   ]
  },
  {
   "cell_type": "code",
   "execution_count": 9,
   "metadata": {},
   "outputs": [
    {
     "name": "stderr",
     "output_type": "stream",
     "text": [
      "C:\\Users\\ChuAI\\Anaconda3\\envs\\pytorch\\lib\\site-packages\\ipykernel_launcher.py:8: UserWarning: Boolean Series key will be reindexed to match DataFrame index.\n",
      "  \n",
      "C:\\Users\\ChuAI\\Anaconda3\\envs\\pytorch\\lib\\site-packages\\ipykernel_launcher.py:9: UserWarning: Boolean Series key will be reindexed to match DataFrame index.\n",
      "  if __name__ == '__main__':\n",
      "C:\\Users\\ChuAI\\Anaconda3\\envs\\pytorch\\lib\\site-packages\\ipykernel_launcher.py:10: UserWarning: Boolean Series key will be reindexed to match DataFrame index.\n",
      "  # Remove the CWD from sys.path while we load stuff.\n"
     ]
    }
   ],
   "source": [
    "data = data[data['emo_prob_kw']!='-1']\n",
    "data['anger-joy'] = data['anger_kw'] - data['joy_kw']\n",
    "T = data[data['label']=='LT'].append(data[data['label']=='HT'])\n",
    "HT = data[data['label']=='HT']\n",
    "HF = data[data['label']=='HF']\n",
    "F = data[data['label']=='LF'].append(data[data['label']=='HF'])\n",
    "HLT = data[data['label']=='LT'][data['followers_count']>=1000]\n",
    "LHF = data[data['label']=='HF'][data['followers_count']<1000]\n",
    "HLF = data[data['label']=='LF'][data['followers_count']>=1000]\n",
    "L = data[data['label']=='LT'].append(data[data['label']=='LF'])\n",
    "H = data[data['label']=='HT'].append(data[data['label']=='HF'])"
   ]
  },
  {
   "cell_type": "code",
   "execution_count": 28,
   "metadata": {},
   "outputs": [],
   "source": [
    "def theta(news1, news2, alpha):\n",
    "    sub1 = news1[news1['anger_kw']>=alpha]\n",
    "    sub2 = news2[news2['anger_kw']>=alpha]\n",
    "    res = (sub1.shape[0]/news1.shape[0])-(sub2.shape[0]/news2.shape[0])\n",
    "    return (alpha, res)"
   ]
  },
  {
   "cell_type": "code",
   "execution_count": 29,
   "metadata": {},
   "outputs": [],
   "source": [
    "import matplotlib.pyplot as plt\n",
    "\n",
    "def plot_theta(diff):\n",
    "    font1 = {\n",
    "    'weight' : 'normal',\n",
    "    'size'   : 18,\n",
    "    }\n",
    "    fig, ax = plt.subplots()\n",
    "    diff = dict(diff)\n",
    "    ax.plot(list(diff.values()), linewidth=3, label='HF-HT', marker='s', \n",
    "            markerfacecolor='#58a6a6', \n",
    "            markeredgecolor='white',\n",
    "            color='#58a6a6',\n",
    "            markersize=10)\n",
    "    ax.set_xticks(np.arange(0,24,4))\n",
    "    ax.set_xticklabels([0, 0.2, 0.4, 0.6, 0.8, 1.0])\n",
    "    ax.tick_params(labelsize=16, colors='black')\n",
    "    ax.set_xlabel(r'$\\theta$', font1, color='black')\n",
    "    ax.set_ylabel(r'$\\beta$', font1, color='black')\n",
    "    plt.tight_layout()\n",
    "    plt.show()"
   ]
  },
  {
   "cell_type": "code",
   "execution_count": 30,
   "metadata": {},
   "outputs": [],
   "source": [
    "diff = []\n",
    "for x in np.arange(0,1.05,0.05):\n",
    "    diff.append(theta(HF, HT, x))"
   ]
  },
  {
   "cell_type": "code",
   "execution_count": 31,
   "metadata": {},
   "outputs": [
    {
     "data": {
      "image/png": "[encoded data removed]",
      "text/plain": [
       "<Figure size 432x288 with 1 Axes>"
      ]
     },
     "metadata": {
      "needs_background": "light"
     },
     "output_type": "display_data"
    }
   ],
   "source": [
    "plot_theta(diff)"
   ]
  },
  {
   "cell_type": "code",
   "execution_count": 32,
   "metadata": {},
   "outputs": [],
   "source": [
    "def ratio(news1, news2, alpha):\n",
    "    sub1 = news1[news1['anger_kw']>=alpha]\n",
    "    sub2 = news2[news2['anger_kw']>=alpha]\n",
    "    res1 = sub1.shape[0]/news1.shape[0]\n",
    "    res2 = sub2.shape[0]/news2.shape[0]\n",
    "    res3 = sub1.shape[0]/(sub1.shape[0]+sub2.shape[0])\n",
    "    res4 = res1/(res1+res2)\n",
    "    print(res1, res2, res3, res4)"
   ]
  },
  {
   "cell_type": "code",
   "execution_count": 34,
   "metadata": {},
   "outputs": [
    {
     "name": "stdout",
     "output_type": "stream",
     "text": [
      "0.46069909376733864 0.22043386983904828 0.8877405559515325 0.6763717488110991\n"
     ]
    }
   ],
   "source": [
    "ratio(HF, HT, 0.2)"
   ]
  }
 ],
 "metadata": {
  "kernelspec": {
   "display_name": "Python 3",
   "language": "python",
   "name": "python3"
  },
  "language_info": {
   "codemirror_mode": {
    "name": "ipython",
    "version": 3
   },
   "file_extension": ".py",
   "mimetype": "text/x-python",
   "name": "python",
   "nbconvert_exporter": "python",
   "pygments_lexer": "ipython3",
   "version": "3.7.3"
  }
 },
 "nbformat": 4,
 "nbformat_minor": 2
}
