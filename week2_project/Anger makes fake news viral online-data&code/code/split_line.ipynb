{
 "cells": [
  {
   "cell_type": "markdown",
   "metadata": {},
   "source": [
    "# 原始数据的分割线确定-比例差异最大化"
   ]
  },
  {
   "cell_type": "code",
   "execution_count": 1,
   "metadata": {},
   "outputs": [
    {
     "data": {
      "text/html": [
       "<div>\n",
       "<style scoped>\n",
       "    .dataframe tbody tr th:only-of-type {\n",
       "        vertical-align: middle;\n",
       "    }\n",
       "\n",
       "    .dataframe tbody tr th {\n",
       "        vertical-align: top;\n",
       "    }\n",
       "\n",
       "    .dataframe thead th {\n",
       "        text-align: right;\n",
       "    }\n",
       "</style>\n",
       "<table border=\"1\" class=\"dataframe\">\n",
       "  <thead>\n",
       "    <tr style=\"text-align: right;\">\n",
       "      <th></th>\n",
       "      <th>Unnamed: 0</th>\n",
       "      <th>user_id</th>\n",
       "      <th>friends_count</th>\n",
       "      <th>repostNum</th>\n",
       "      <th>followers_count</th>\n",
       "      <th>weiboID</th>\n",
       "    </tr>\n",
       "  </thead>\n",
       "  <tbody>\n",
       "    <tr>\n",
       "      <th>0</th>\n",
       "      <td>0</td>\n",
       "      <td>5269634098</td>\n",
       "      <td>160</td>\n",
       "      <td>7</td>\n",
       "      <td>75</td>\n",
       "      <td>3950696707151772</td>\n",
       "    </tr>\n",
       "    <tr>\n",
       "      <th>1</th>\n",
       "      <td>1</td>\n",
       "      <td>5559568190</td>\n",
       "      <td>5</td>\n",
       "      <td>285</td>\n",
       "      <td>66843</td>\n",
       "      <td>3949660958003450</td>\n",
       "    </tr>\n",
       "    <tr>\n",
       "      <th>2</th>\n",
       "      <td>2</td>\n",
       "      <td>1692637037</td>\n",
       "      <td>338</td>\n",
       "      <td>0</td>\n",
       "      <td>262</td>\n",
       "      <td>3950515929249677</td>\n",
       "    </tr>\n",
       "    <tr>\n",
       "      <th>3</th>\n",
       "      <td>3</td>\n",
       "      <td>2211424651</td>\n",
       "      <td>215</td>\n",
       "      <td>0</td>\n",
       "      <td>13</td>\n",
       "      <td>3950512342047569</td>\n",
       "    </tr>\n",
       "    <tr>\n",
       "      <th>4</th>\n",
       "      <td>4</td>\n",
       "      <td>2145377515</td>\n",
       "      <td>41</td>\n",
       "      <td>0</td>\n",
       "      <td>2259</td>\n",
       "      <td>3950485830376193</td>\n",
       "    </tr>\n",
       "  </tbody>\n",
       "</table>\n",
       "</div>"
      ],
      "text/plain": [
       "   Unnamed: 0     user_id  friends_count  repostNum  followers_count  \\\n",
       "0           0  5269634098            160          7               75   \n",
       "1           1  5559568190              5        285            66843   \n",
       "2           2  1692637037            338          0              262   \n",
       "3           3  2211424651            215          0               13   \n",
       "4           4  2145377515             41          0             2259   \n",
       "\n",
       "            weiboID  \n",
       "0  3950696707151772  \n",
       "1  3949660958003450  \n",
       "2  3950515929249677  \n",
       "3  3950512342047569  \n",
       "4  3950485830376193  "
      ]
     },
     "execution_count": 1,
     "metadata": {},
     "output_type": "execute_result"
    }
   ],
   "source": [
    "import pandas as pd\n",
    "import numpy as np\n",
    "\n",
    "# real_data = pd.read_csv('../week_3/data/df_real_data.csv')\n",
    "# rumor_data = pd.read_csv('../week_3/data/df_rumor_data.csv')\n",
    "# real_data.head()\n",
    "user_real_count = pd.read_csv('data/user_count_real.csv')\n",
    "user_rumor_count = pd.read_csv('data/user_count_rumor.csv')\n",
    "user_rumor_count.head()"
   ]
  },
  {
   "cell_type": "code",
   "execution_count": 2,
   "metadata": {},
   "outputs": [
    {
     "name": "stdout",
     "output_type": "stream",
     "text": [
      "T : (10000, 6)\n",
      "LT: (8255, 6)\n",
      "HT: (1745, 6)\n",
      "HLT: (7867, 6)\n",
      "HHT: (1709, 6)\n",
      "F: (22479, 6)\n",
      "LF: (16318, 6)\n",
      "HF: (6161, 6)\n",
      "HLF: (3513, 6)\n",
      "LHF: (1397, 6)\n"
     ]
    },
    {
     "name": "stderr",
     "output_type": "stream",
     "text": [
      "C:\\Users\\ChuAI\\Anaconda3\\envs\\pytorch\\lib\\site-packages\\ipykernel_launcher.py:4: UserWarning: Boolean Series key will be reindexed to match DataFrame index.\n",
      "  after removing the cwd from sys.path.\n",
      "C:\\Users\\ChuAI\\Anaconda3\\envs\\pytorch\\lib\\site-packages\\ipykernel_launcher.py:5: UserWarning: Boolean Series key will be reindexed to match DataFrame index.\n",
      "  \"\"\"\n",
      "C:\\Users\\ChuAI\\Anaconda3\\envs\\pytorch\\lib\\site-packages\\ipykernel_launcher.py:9: UserWarning: Boolean Series key will be reindexed to match DataFrame index.\n",
      "  if __name__ == '__main__':\n",
      "C:\\Users\\ChuAI\\Anaconda3\\envs\\pytorch\\lib\\site-packages\\ipykernel_launcher.py:10: UserWarning: Boolean Series key will be reindexed to match DataFrame index.\n",
      "  # Remove the CWD from sys.path while we load stuff.\n"
     ]
    }
   ],
   "source": [
    "print('T :', user_real_count.shape)\n",
    "print('LT:', user_real_count[user_real_count['repostNum']<10].shape)\n",
    "print('HT:', user_real_count[user_real_count['repostNum']>=10].shape)\n",
    "print('HLT:', user_real_count[user_real_count['repostNum']<10][user_real_count['followers_count']>=1000].shape)\n",
    "print('HHT:', user_real_count[user_real_count['repostNum']>=10][user_real_count['followers_count']>=1000].shape)\n",
    "print('F:', user_rumor_count.shape)\n",
    "print('LF:', user_rumor_count[user_rumor_count['repostNum']<10].shape)\n",
    "print('HF:', user_rumor_count[user_rumor_count['repostNum']>=10].shape)\n",
    "print('HLF:', user_rumor_count[user_rumor_count['repostNum']<10][user_rumor_count['followers_count']>=1000].shape)\n",
    "print('LHF:', user_rumor_count[user_rumor_count['repostNum']>=10][user_rumor_count['followers_count']<1000].shape)"
   ]
  },
  {
   "cell_type": "code",
   "execution_count": 3,
   "metadata": {},
   "outputs": [],
   "source": [
    "# import ast\n",
    "\n",
    "# real_data['authorDic'] =  real_data['authorDic'].apply(lambda s: ast.literal_eval(s))\n",
    "# real_data['text'] = real_data['authorDic'].apply(lambda d: d['weiboText'])\n",
    "# real_data['repostNum'] = real_data['authorDic'].apply(lambda d: d['repostNum'])\n",
    "\n",
    "# rumor_data['authorDic'] =  rumor_data['authorDic'].apply(lambda s: ast.literal_eval(s))\n",
    "# rumor_data['text'] = rumor_data['authorDic'].apply(lambda d: d['weiboText'])\n",
    "# rumor_data['repostNum'] = rumor_data['authorDic'].apply(lambda d: d['repostNum'])\n",
    "# real_data['followers_count'] = real_data['authorDic'].apply(lambda d: d['followers_count'])\n",
    "# rumor_data['followers_count'] = rumor_data['authorDic'].apply(lambda d: d['followers_count'])"
   ]
  },
  {
   "cell_type": "code",
   "execution_count": 3,
   "metadata": {},
   "outputs": [],
   "source": [
    "real_data_1 = user_real_count[['repostNum', 'followers_count']]\n",
    "rumor_data_1 = user_rumor_count[['repostNum', 'followers_count']]"
   ]
  },
  {
   "cell_type": "code",
   "execution_count": 4,
   "metadata": {},
   "outputs": [
    {
     "name": "stderr",
     "output_type": "stream",
     "text": [
      "C:\\Users\\ChuAI\\Anaconda3\\envs\\pytorch\\lib\\site-packages\\ipykernel_launcher.py:5: UserWarning: Boolean Series key will be reindexed to match DataFrame index.\n",
      "  \"\"\"\n",
      "C:\\Users\\ChuAI\\Anaconda3\\envs\\pytorch\\lib\\site-packages\\ipykernel_launcher.py:6: UserWarning: Boolean Series key will be reindexed to match DataFrame index.\n",
      "  \n",
      "C:\\Users\\ChuAI\\Anaconda3\\envs\\pytorch\\lib\\site-packages\\ipykernel_launcher.py:7: UserWarning: Boolean Series key will be reindexed to match DataFrame index.\n",
      "  import sys\n",
      "C:\\Users\\ChuAI\\Anaconda3\\envs\\pytorch\\lib\\site-packages\\ipykernel_launcher.py:8: UserWarning: Boolean Series key will be reindexed to match DataFrame index.\n",
      "  \n",
      "C:\\Users\\ChuAI\\Anaconda3\\envs\\pytorch\\lib\\site-packages\\ipykernel_launcher.py:9: UserWarning: Boolean Series key will be reindexed to match DataFrame index.\n",
      "  if __name__ == '__main__':\n",
      "C:\\Users\\ChuAI\\Anaconda3\\envs\\pytorch\\lib\\site-packages\\ipykernel_launcher.py:10: UserWarning: Boolean Series key will be reindexed to match DataFrame index.\n",
      "  # Remove the CWD from sys.path while we load stuff.\n",
      "C:\\Users\\ChuAI\\Anaconda3\\envs\\pytorch\\lib\\site-packages\\ipykernel_launcher.py:11: UserWarning: Boolean Series key will be reindexed to match DataFrame index.\n",
      "  # This is added back by InteractiveShellApp.init_path()\n",
      "C:\\Users\\ChuAI\\Anaconda3\\envs\\pytorch\\lib\\site-packages\\ipykernel_launcher.py:12: UserWarning: Boolean Series key will be reindexed to match DataFrame index.\n",
      "  if sys.path[0] == '':\n"
     ]
    }
   ],
   "source": [
    "r_list = []\n",
    "p_list = []\n",
    "for i in range(1,9):\n",
    "    for j in range(1,5):\n",
    "        real_1 = user_real_count[real_data_1['repostNum']<j][user_real_count['followers_count']<i]\n",
    "        real_2 = user_real_count[real_data_1['repostNum']>=10**j][user_real_count['followers_count']<10**i]\n",
    "        real_3 = user_real_count[real_data_1['repostNum']>=j][user_real_count['followers_count']>=i]\n",
    "        real_4 = user_real_count[real_data_1['repostNum']<10**j][user_real_count['followers_count']>=10**i]\n",
    "        rumor_1 = user_rumor_count[user_rumor_count['repostNum']<j][user_rumor_count['followers_count']<i]\n",
    "        rumor_2 = user_rumor_count[user_rumor_count['repostNum']>=10**j][user_rumor_count['followers_count']<10**i]\n",
    "        rumor_3 = user_rumor_count[user_rumor_count['repostNum']>=j][user_rumor_count['followers_count']>=i]\n",
    "        rumor_4 = user_rumor_count[user_rumor_count['repostNum']<10**j][user_rumor_count['followers_count']>=10**i]\n",
    "        P_real_1 = real_1.shape[0]/user_real_count.shape[0]\n",
    "        P_real_2 = real_2.shape[0]/user_real_count.shape[0]\n",
    "        P_real_3 = real_3.shape[0]/user_real_count.shape[0]\n",
    "        P_real_4 = real_4.shape[0]/user_real_count.shape[0]\n",
    "        P_rumor_1 = rumor_1.shape[0]/user_rumor_count.shape[0]\n",
    "        P_rumor_2 = rumor_2.shape[0]/user_rumor_count.shape[0]\n",
    "        P_rumor_3 = rumor_3.shape[0]/user_rumor_count.shape[0]\n",
    "        P_rumor_4 = rumor_4.shape[0]/user_rumor_count.shape[0]\n",
    "        r = (P_rumor_2 - P_real_2) + (P_real_4 - P_rumor_4) - abs(P_rumor_1 - P_real_1) - abs(P_rumor_3 - P_real_3)\n",
    "        r_list.append(r)\n",
    "        p_list.append((i,j))"
   ]
  },
  {
   "cell_type": "code",
   "execution_count": 6,
   "metadata": {},
   "outputs": [
    {
     "data": {
      "text/plain": [
       "<Figure size 640x480 with 1 Axes>"
      ]
     },
     "metadata": {},
     "output_type": "display_data"
    }
   ],
   "source": [
    "import matplotlib.pyplot as plt\n",
    "import numpy as np\n",
    "\n",
    "font1 = {\n",
    "    'weight': 'normal',\n",
    "    'size' : 18\n",
    "}\n",
    "fig, ax = plt.subplots()\n",
    "# plt.style.use('seaborn-white')\n",
    "plt.plot(np.arange(0,32), r_list, marker='o', color='#58a6a6', markerfacecolor='#58a6a6', markeredgecolor='white', linewidth=3, markersize=10)\n",
    "# plt.annotate(r'$(1000,10)$',xy=(8,max(r_list)),xytext=(20,0.6), arrowprops=dict(facecolor='black', shrink=0.05, width=2))\n",
    "plt.xlabel('Tuple', font1, color='black')\n",
    "plt.ylabel('Difference', font1, color='black')\n",
    "plt.tick_params(labelsize=14, colors='black')\n",
    "plt.tight_layout()\n",
    "plt.savefig('images/diff.pdf')\n",
    "plt.savefig('images/diff.jpg', dpi=600)\n",
    "plt.show()"
   ]
  },
  {
   "cell_type": "code",
   "execution_count": 55,
   "metadata": {},
   "outputs": [
    {
     "data": {
      "text/plain": [
       "0.6549477067485208"
      ]
     },
     "execution_count": 55,
     "metadata": {},
     "output_type": "execute_result"
    }
   ],
   "source": [
    "max(r_list)"
   ]
  },
  {
   "cell_type": "code",
   "execution_count": 56,
   "metadata": {},
   "outputs": [
    {
     "data": {
      "text/plain": [
       "[0.12861745184394316,\n",
       " 0.06590046265403267,\n",
       " -0.009289047555496234,\n",
       " -0.03525633702566829,\n",
       " 0.3454568085768939,\n",
       " 0.2833626228924773,\n",
       " 0.20781722496552335,\n",
       " 0.18176096356599492,\n",
       " 0.6549477067485208,\n",
       " 0.5947219315805865,\n",
       " 0.5184647582187819,\n",
       " 0.49223055296054097,\n",
       " 0.5823923128253037,\n",
       " 0.5223224253747941,\n",
       " 0.4459762800836337,\n",
       " 0.41974207482539266,\n",
       " 0.39021246496730294,\n",
       " 0.3306764090929311,\n",
       " 0.2541523199430579,\n",
       " 0.22791811468481693,\n",
       " 0.20864646114150992,\n",
       " 0.14973320877263224,\n",
       " 0.073209119622759,\n",
       " 0.04679697050580542,\n",
       " 0.09320477334401,\n",
       " 0.03518124026869521,\n",
       " -0.04152079273989056,\n",
       " -0.06819985764491304,\n",
       " 0.041546643533965144,\n",
       " -0.01532025445971797,\n",
       " -0.09220023132701632,\n",
       " -0.11923518394946395]"
      ]
     },
     "execution_count": 56,
     "metadata": {},
     "output_type": "execute_result"
    }
   ],
   "source": [
    "r_list"
   ]
  },
  {
   "cell_type": "code",
   "execution_count": 57,
   "metadata": {},
   "outputs": [],
   "source": [
    "# import pandas as pd\n",
    "# import numpy as np\n",
    "\n",
    "# user_real_count = pd.read_csv('data/user_count_real.csv')\n",
    "# user_rumor_count = pd.read_csv('data/user_count_rumor.csv')\n",
    "# user_rumor_count.head()"
   ]
  },
  {
   "cell_type": "code",
   "execution_count": 15,
   "metadata": {},
   "outputs": [],
   "source": [
    "x_real = user_real_count['followers_count']\n",
    "y_real = user_real_count['repostNum']\n",
    "x_rumor = user_rumor_count['followers_count']\n",
    "y_rumor = user_rumor_count['repostNum']"
   ]
  },
  {
   "cell_type": "code",
   "execution_count": 15,
   "metadata": {},
   "outputs": [
    {
     "name": "stderr",
     "output_type": "stream",
     "text": [
      "C:\\Users\\ChuAI\\Anaconda3\\envs\\pytorch\\lib\\site-packages\\ipykernel_launcher.py:8: UserWarning: Attempted to set non-positive left xlim on a log-scaled axis.\n",
      "Invalid limit will be ignored.\n",
      "  \n",
      "C:\\Users\\ChuAI\\Anaconda3\\envs\\pytorch\\lib\\site-packages\\ipykernel_launcher.py:9: UserWarning: Attempted to set non-positive bottom ylim on a log-scaled axis.\n",
      "Invalid limit will be ignored.\n",
      "  if __name__ == '__main__':\n"
     ]
    },
    {
     "data": {
      "image/png": "[encoded data removed]",
      "text/plain": [
       "<Figure size 432x288 with 1 Axes>"
      ]
     },
     "metadata": {
      "needs_background": "light"
     },
     "output_type": "display_data"
    }
   ],
   "source": [
    "# plt.style.use('ggplot')\n",
    "fig, ax1= plt.subplots()\n",
    "ax1.set_xscale(\"log\")\n",
    "ax1.set_yscale(\"log\")\n",
    "ax1.plot(user_real_count['followers_count'], user_real_count['repostNum'], 'o', color='#81B8DF')\n",
    "ax1.set_xticks([0,1e1,1e2,1e3,1e4,1e5,1e6,1e7,1e8])\n",
    "ax1.set_yticks([1e0,1e1,1e2,1e3,2000])\n",
    "ax1.set_xlim(0, 10**8)\n",
    "ax1.set_ylim(0, 2000)\n",
    "ax1.tick_params(labelsize=14, colors='black')\n",
    "plt.axhline(y=1e1, lw=3, c='lightgrey')\n",
    "plt.axvline(x=1e3, lw=3, c='lightgrey')\n",
    "plt.xlabel('Followers', font1, color='black')\n",
    "plt.ylabel('Retweets', font1, color='black')\n",
    "plt.tight_layout()\n",
    "plt.savefig('images/true_news.pdf')\n",
    "plt.savefig('images/true_news.jpg', dpi=600)\n",
    "plt.show()"
   ]
  },
  {
   "cell_type": "code",
   "execution_count": 14,
   "metadata": {},
   "outputs": [
    {
     "name": "stderr",
     "output_type": "stream",
     "text": [
      "C:\\Users\\ChuAI\\Anaconda3\\envs\\pytorch\\lib\\site-packages\\ipykernel_launcher.py:8: UserWarning: Attempted to set non-positive left xlim on a log-scaled axis.\n",
      "Invalid limit will be ignored.\n",
      "  \n",
      "C:\\Users\\ChuAI\\Anaconda3\\envs\\pytorch\\lib\\site-packages\\ipykernel_launcher.py:9: UserWarning: Attempted to set non-positive bottom ylim on a log-scaled axis.\n",
      "Invalid limit will be ignored.\n",
      "  if __name__ == '__main__':\n"
     ]
    },
    {
     "data": {
      "image/png": "[encoded data removed]",
      "text/plain": [
       "<Figure size 432x288 with 1 Axes>"
      ]
     },
     "metadata": {
      "needs_background": "light"
     },
     "output_type": "display_data"
    }
   ],
   "source": [
    "# plt.style.use('ggplot')\n",
    "fig, ax2= plt.subplots()\n",
    "ax2.set_xscale(\"log\")\n",
    "ax2.set_yscale(\"log\")\n",
    "ax2.plot(user_rumor_count['followers_count'], user_rumor_count['repostNum'], 'o',color='#FE817D')\n",
    "ax2.set_xticks([0,1e1,1e2,1e3,1e4,1e5,1e6,1e7,1e8])\n",
    "ax2.set_yticks([1e0,1e1,1e2,1e3,2000])\n",
    "ax2.set_xlim(0, 10**8)\n",
    "ax2.set_ylim(0, 2000)\n",
    "ax2.tick_params(labelsize=14, colors='black')\n",
    "plt.axhline(y=1e1, lw=3, c='lightgrey')\n",
    "plt.axvline(x=1e3, lw=3, c='lightgrey')\n",
    "plt.xlabel('Followers', font1, color='black')\n",
    "plt.ylabel('Retweets', font1, color='black')\n",
    "plt.tight_layout()\n",
    "plt.savefig('images/fake_news.pdf')\n",
    "plt.savefig('images/fake_news.jpg', dpi=600)\n",
    "plt.show()"
   ]
  }
 ],
 "metadata": {
  "kernelspec": {
   "display_name": "Python 3",
   "language": "python",
   "name": "python3"
  },
  "language_info": {
   "codemirror_mode": {
    "name": "ipython",
    "version": 3
   },
   "file_extension": ".py",
   "mimetype": "text/x-python",
   "name": "python",
   "nbconvert_exporter": "python",
   "pygments_lexer": "ipython3",
   "version": "3.7.4"
  }
 },
 "nbformat": 4,
 "nbformat_minor": 2
}
