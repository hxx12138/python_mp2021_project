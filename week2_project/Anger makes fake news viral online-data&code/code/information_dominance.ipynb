{
 "cells": [
  {
   "cell_type": "code",
   "execution_count": 4,
   "metadata": {
    "scrolled": true
   },
   "outputs": [
    {
     "data": {
      "text/html": [
       "<div>\n",
       "<style scoped>\n",
       "    .dataframe tbody tr th:only-of-type {\n",
       "        vertical-align: middle;\n",
       "    }\n",
       "\n",
       "    .dataframe tbody tr th {\n",
       "        vertical-align: top;\n",
       "    }\n",
       "\n",
       "    .dataframe thead th {\n",
       "        text-align: right;\n",
       "    }\n",
       "</style>\n",
       "<table border=\"1\" class=\"dataframe\">\n",
       "  <thead>\n",
       "    <tr style=\"text-align: right;\">\n",
       "      <th></th>\n",
       "      <th>Unnamed: 0</th>\n",
       "      <th>authorDic</th>\n",
       "      <th>edges</th>\n",
       "      <th>keyUser</th>\n",
       "      <th>layerNum</th>\n",
       "      <th>rpsttimeline</th>\n",
       "      <th>status</th>\n",
       "      <th>weiboID</th>\n",
       "      <th>repost_user_ids</th>\n",
       "      <th>id</th>\n",
       "      <th>struc_virality</th>\n",
       "      <th>repostNum</th>\n",
       "      <th>label</th>\n",
       "      <th>struc_varility_net</th>\n",
       "    </tr>\n",
       "  </thead>\n",
       "  <tbody>\n",
       "    <tr>\n",
       "      <th>0</th>\n",
       "      <td>0</td>\n",
       "      <td>{'province': '11', 'weiboText': '远去的大师', 'scre...</td>\n",
       "      <td>{}</td>\n",
       "      <td>{'4010120209906916': 'http://tva3.sinaimg.cn/c...</td>\n",
       "      <td>[0, 0, 0, 0, 0, 0]</td>\n",
       "      <td>[['2014-12-31 22:50:00', 0], ['2014-12-31 23:0...</td>\n",
       "      <td>1</td>\n",
       "      <td>3793976291216967</td>\n",
       "      <td>[]</td>\n",
       "      <td>1943724947</td>\n",
       "      <td>0.000000</td>\n",
       "      <td>0</td>\n",
       "      <td>true</td>\n",
       "      <td>0.000000</td>\n",
       "    </tr>\n",
       "    <tr>\n",
       "      <th>1</th>\n",
       "      <td>1</td>\n",
       "      <td>{'province': '11', 'weiboText': '中国青年女科学家奖十周年纪...</td>\n",
       "      <td>{'3658686746755393': {'posttime': 'Mon Dec 23 ...</td>\n",
       "      <td>{'4010120209906916': 'http://tva3.sinaimg.cn/c...</td>\n",
       "      <td>[2, 0, 0, 0, 0, 0]</td>\n",
       "      <td>[['2013-12-18 11:00:00', 1], ['2013-12-18 11:1...</td>\n",
       "      <td>1</td>\n",
       "      <td>3656813583185243</td>\n",
       "      <td>['3880085981', '1098289271']</td>\n",
       "      <td>1791353831</td>\n",
       "      <td>1.333333</td>\n",
       "      <td>2</td>\n",
       "      <td>true</td>\n",
       "      <td>1.333333</td>\n",
       "    </tr>\n",
       "    <tr>\n",
       "      <th>2</th>\n",
       "      <td>2</td>\n",
       "      <td>{'province': '11', 'weiboText': '【民办教师首次纳入职评体系...</td>\n",
       "      <td>{}</td>\n",
       "      <td>{'4006787155492653': 'http://tva3.sinaimg.cn/c...</td>\n",
       "      <td>[0, 0, 0, 0, 0, 0]</td>\n",
       "      <td>[['2016-04-19 09:00:00', 0], ['2016-04-19 09:1...</td>\n",
       "      <td>1</td>\n",
       "      <td>3965901743766209</td>\n",
       "      <td>[]</td>\n",
       "      <td>1864313207</td>\n",
       "      <td>0.000000</td>\n",
       "      <td>0</td>\n",
       "      <td>true</td>\n",
       "      <td>0.000000</td>\n",
       "    </tr>\n",
       "    <tr>\n",
       "      <th>3</th>\n",
       "      <td>3</td>\n",
       "      <td>{'province': '22', 'weiboText': '转发微博', 'scree...</td>\n",
       "      <td>{}</td>\n",
       "      <td>{'4010300573400632': 'http://tva1.sinaimg.cn/c...</td>\n",
       "      <td>[0, 0, 0, 0, 0, 0]</td>\n",
       "      <td>[['2016-02-23 09:10:00', 0], ['2016-02-23 09:2...</td>\n",
       "      <td>1</td>\n",
       "      <td>3945608626241268</td>\n",
       "      <td>[]</td>\n",
       "      <td>1765230662</td>\n",
       "      <td>0.000000</td>\n",
       "      <td>0</td>\n",
       "      <td>true</td>\n",
       "      <td>0.000000</td>\n",
       "    </tr>\n",
       "    <tr>\n",
       "      <th>4</th>\n",
       "      <td>4</td>\n",
       "      <td>{'province': '64', 'weiboText': '转发微博', 'scree...</td>\n",
       "      <td>{}</td>\n",
       "      <td>{'4010300573400632': 'http://tva1.sinaimg.cn/c...</td>\n",
       "      <td>[0, 0, 0, 0, 0, 0]</td>\n",
       "      <td>[['2016-08-19 09:50:00', 0], ['2016-08-19 10:0...</td>\n",
       "      <td>1</td>\n",
       "      <td>4010124030948666</td>\n",
       "      <td>[]</td>\n",
       "      <td>1882632930</td>\n",
       "      <td>0.000000</td>\n",
       "      <td>0</td>\n",
       "      <td>true</td>\n",
       "      <td>0.000000</td>\n",
       "    </tr>\n",
       "  </tbody>\n",
       "</table>\n",
       "</div>"
      ],
      "text/plain": [
       "   Unnamed: 0                                          authorDic  \\\n",
       "0           0  {'province': '11', 'weiboText': '远去的大师', 'scre...   \n",
       "1           1  {'province': '11', 'weiboText': '中国青年女科学家奖十周年纪...   \n",
       "2           2  {'province': '11', 'weiboText': '【民办教师首次纳入职评体系...   \n",
       "3           3  {'province': '22', 'weiboText': '转发微博', 'scree...   \n",
       "4           4  {'province': '64', 'weiboText': '转发微博', 'scree...   \n",
       "\n",
       "                                               edges  \\\n",
       "0                                                 {}   \n",
       "1  {'3658686746755393': {'posttime': 'Mon Dec 23 ...   \n",
       "2                                                 {}   \n",
       "3                                                 {}   \n",
       "4                                                 {}   \n",
       "\n",
       "                                             keyUser            layerNum  \\\n",
       "0  {'4010120209906916': 'http://tva3.sinaimg.cn/c...  [0, 0, 0, 0, 0, 0]   \n",
       "1  {'4010120209906916': 'http://tva3.sinaimg.cn/c...  [2, 0, 0, 0, 0, 0]   \n",
       "2  {'4006787155492653': 'http://tva3.sinaimg.cn/c...  [0, 0, 0, 0, 0, 0]   \n",
       "3  {'4010300573400632': 'http://tva1.sinaimg.cn/c...  [0, 0, 0, 0, 0, 0]   \n",
       "4  {'4010300573400632': 'http://tva1.sinaimg.cn/c...  [0, 0, 0, 0, 0, 0]   \n",
       "\n",
       "                                        rpsttimeline  status  \\\n",
       "0  [['2014-12-31 22:50:00', 0], ['2014-12-31 23:0...       1   \n",
       "1  [['2013-12-18 11:00:00', 1], ['2013-12-18 11:1...       1   \n",
       "2  [['2016-04-19 09:00:00', 0], ['2016-04-19 09:1...       1   \n",
       "3  [['2016-02-23 09:10:00', 0], ['2016-02-23 09:2...       1   \n",
       "4  [['2016-08-19 09:50:00', 0], ['2016-08-19 10:0...       1   \n",
       "\n",
       "            weiboID               repost_user_ids          id  struc_virality  \\\n",
       "0  3793976291216967                            []  1943724947        0.000000   \n",
       "1  3656813583185243  ['3880085981', '1098289271']  1791353831        1.333333   \n",
       "2  3965901743766209                            []  1864313207        0.000000   \n",
       "3  3945608626241268                            []  1765230662        0.000000   \n",
       "4  4010124030948666                            []  1882632930        0.000000   \n",
       "\n",
       "   repostNum label  struc_varility_net  \n",
       "0          0  true            0.000000  \n",
       "1          2  true            1.333333  \n",
       "2          0  true            0.000000  \n",
       "3          0  true            0.000000  \n",
       "4          0  true            0.000000  "
      ]
     },
     "execution_count": 4,
     "metadata": {},
     "output_type": "execute_result"
    }
   ],
   "source": [
    "import pandas as pd\n",
    "import numpy as np\n",
    "import re \n",
    "news = pd.read_csv('data/struc_virality_net.csv')\n",
    "news.head()"
   ]
  },
  {
   "cell_type": "code",
   "execution_count": 5,
   "metadata": {},
   "outputs": [],
   "source": [
    "true_news = news[news['label']=='true']\n",
    "fake_news = news[news['label']=='fake']"
   ]
  },
  {
   "cell_type": "code",
   "execution_count": 6,
   "metadata": {},
   "outputs": [],
   "source": [
    "user_info_fake_1 = pd.read_csv('data/user_info_rumor_1.csv')\n",
    "user_info_fake_2 = pd.read_csv('data/user_info_rumor_2.csv')"
   ]
  },
  {
   "cell_type": "code",
   "execution_count": 7,
   "metadata": {},
   "outputs": [
    {
     "data": {
      "text/plain": [
       "(1177550, 10)"
      ]
     },
     "execution_count": 7,
     "metadata": {},
     "output_type": "execute_result"
    }
   ],
   "source": [
    "user_info_fake_1.columns = user_info_fake_2.columns\n",
    "user_info_fake = user_info_fake_1.append(user_info_fake_2)\n",
    "user_info_fake = user_info_fake.drop_duplicates('id')\n",
    "user_info_fake.shape"
   ]
  },
  {
   "cell_type": "code",
   "execution_count": 8,
   "metadata": {},
   "outputs": [
    {
     "data": {
      "text/html": [
       "<div>\n",
       "<style scoped>\n",
       "    .dataframe tbody tr th:only-of-type {\n",
       "        vertical-align: middle;\n",
       "    }\n",
       "\n",
       "    .dataframe tbody tr th {\n",
       "        vertical-align: top;\n",
       "    }\n",
       "\n",
       "    .dataframe thead th {\n",
       "        text-align: right;\n",
       "    }\n",
       "</style>\n",
       "<table border=\"1\" class=\"dataframe\">\n",
       "  <thead>\n",
       "    <tr style=\"text-align: right;\">\n",
       "      <th></th>\n",
       "      <th>Unnamed: 0</th>\n",
       "      <th>status</th>\n",
       "      <th>bi_followers_count</th>\n",
       "      <th>id</th>\n",
       "      <th>statuses_count</th>\n",
       "      <th>followers_count</th>\n",
       "      <th>location</th>\n",
       "      <th>friends_count</th>\n",
       "      <th>favourites_count</th>\n",
       "      <th>gender</th>\n",
       "    </tr>\n",
       "  </thead>\n",
       "  <tbody>\n",
       "    <tr>\n",
       "      <th>0</th>\n",
       "      <td>0</td>\n",
       "      <td>{'reposts_count': 0, 'biz_feature': 0, 'trunca...</td>\n",
       "      <td>343</td>\n",
       "      <td>1858076672</td>\n",
       "      <td>3133</td>\n",
       "      <td>1089</td>\n",
       "      <td>广东 韶关</td>\n",
       "      <td>402</td>\n",
       "      <td>8</td>\n",
       "      <td>男</td>\n",
       "    </tr>\n",
       "    <tr>\n",
       "      <th>1</th>\n",
       "      <td>1</td>\n",
       "      <td>{'reposts_count': 0, 'biz_feature': 0, 'trunca...</td>\n",
       "      <td>257</td>\n",
       "      <td>2115502082</td>\n",
       "      <td>319</td>\n",
       "      <td>476</td>\n",
       "      <td>海外 其他</td>\n",
       "      <td>509</td>\n",
       "      <td>3181</td>\n",
       "      <td>女</td>\n",
       "    </tr>\n",
       "    <tr>\n",
       "      <th>2</th>\n",
       "      <td>2</td>\n",
       "      <td>{'reposts_count': 0, 'biz_feature': 4294967300...</td>\n",
       "      <td>166</td>\n",
       "      <td>1737951980</td>\n",
       "      <td>3440</td>\n",
       "      <td>1476</td>\n",
       "      <td>广东 深圳</td>\n",
       "      <td>377</td>\n",
       "      <td>63</td>\n",
       "      <td>男</td>\n",
       "    </tr>\n",
       "    <tr>\n",
       "      <th>3</th>\n",
       "      <td>3</td>\n",
       "      <td>{'reposts_count': 0, 'biz_feature': 0, 'trunca...</td>\n",
       "      <td>24</td>\n",
       "      <td>2436890630</td>\n",
       "      <td>4160</td>\n",
       "      <td>124</td>\n",
       "      <td>浙江 杭州</td>\n",
       "      <td>54</td>\n",
       "      <td>11</td>\n",
       "      <td>男</td>\n",
       "    </tr>\n",
       "    <tr>\n",
       "      <th>4</th>\n",
       "      <td>4</td>\n",
       "      <td>{'reposts_count': 0, 'biz_feature': 0, 'trunca...</td>\n",
       "      <td>584</td>\n",
       "      <td>1491075080</td>\n",
       "      <td>6395</td>\n",
       "      <td>1467</td>\n",
       "      <td>湖北 宜昌</td>\n",
       "      <td>1563</td>\n",
       "      <td>164</td>\n",
       "      <td>男</td>\n",
       "    </tr>\n",
       "  </tbody>\n",
       "</table>\n",
       "</div>"
      ],
      "text/plain": [
       "   Unnamed: 0                                             status  \\\n",
       "0           0  {'reposts_count': 0, 'biz_feature': 0, 'trunca...   \n",
       "1           1  {'reposts_count': 0, 'biz_feature': 0, 'trunca...   \n",
       "2           2  {'reposts_count': 0, 'biz_feature': 4294967300...   \n",
       "3           3  {'reposts_count': 0, 'biz_feature': 0, 'trunca...   \n",
       "4           4  {'reposts_count': 0, 'biz_feature': 0, 'trunca...   \n",
       "\n",
       "   bi_followers_count          id  statuses_count  followers_count location  \\\n",
       "0                 343  1858076672            3133             1089    广东 韶关   \n",
       "1                 257  2115502082             319              476    海外 其他   \n",
       "2                 166  1737951980            3440             1476    广东 深圳   \n",
       "3                  24  2436890630            4160              124    浙江 杭州   \n",
       "4                 584  1491075080            6395             1467    湖北 宜昌   \n",
       "\n",
       "   friends_count  favourites_count gender  \n",
       "0            402                 8      男  \n",
       "1            509              3181      女  \n",
       "2            377                63      男  \n",
       "3             54                11      男  \n",
       "4           1563               164      男  "
      ]
     },
     "execution_count": 8,
     "metadata": {},
     "output_type": "execute_result"
    }
   ],
   "source": [
    "user_info_fake.head()"
   ]
  },
  {
   "cell_type": "code",
   "execution_count": 9,
   "metadata": {},
   "outputs": [
    {
     "name": "stderr",
     "output_type": "stream",
     "text": [
      "C:\\Users\\ChuAI\\Anaconda3\\envs\\pytorch\\lib\\site-packages\\ipykernel_launcher.py:2: SettingWithCopyWarning: \n",
      "A value is trying to be set on a copy of a slice from a DataFrame.\n",
      "Try using .loc[row_indexer,col_indexer] = value instead\n",
      "\n",
      "See the caveats in the documentation: http://pandas.pydata.org/pandas-docs/stable/indexing.html#indexing-view-versus-copy\n",
      "  \n",
      "C:\\Users\\ChuAI\\Anaconda3\\envs\\pytorch\\lib\\site-packages\\ipykernel_launcher.py:3: SettingWithCopyWarning: \n",
      "A value is trying to be set on a copy of a slice from a DataFrame.\n",
      "Try using .loc[row_indexer,col_indexer] = value instead\n",
      "\n",
      "See the caveats in the documentation: http://pandas.pydata.org/pandas-docs/stable/indexing.html#indexing-view-versus-copy\n",
      "  This is separate from the ipykernel package so we can avoid doing imports until\n",
      "C:\\Users\\ChuAI\\Anaconda3\\envs\\pytorch\\lib\\site-packages\\ipykernel_launcher.py:4: SettingWithCopyWarning: \n",
      "A value is trying to be set on a copy of a slice from a DataFrame.\n",
      "Try using .loc[row_indexer,col_indexer] = value instead\n",
      "\n",
      "See the caveats in the documentation: http://pandas.pydata.org/pandas-docs/stable/indexing.html#indexing-view-versus-copy\n",
      "  after removing the cwd from sys.path.\n",
      "C:\\Users\\ChuAI\\Anaconda3\\envs\\pytorch\\lib\\site-packages\\pandas\\core\\frame.py:6211: FutureWarning: Sorting because non-concatenation axis is not aligned. A future version\n",
      "of pandas will change to not sort by default.\n",
      "\n",
      "To accept the future behavior, pass 'sort=False'.\n",
      "\n",
      "To retain the current behavior and silence the warning, pass 'sort=True'.\n",
      "\n",
      "  sort=sort)\n"
     ]
    },
    {
     "data": {
      "text/plain": [
       "(1187927, 10)"
      ]
     },
     "execution_count": 9,
     "metadata": {},
     "output_type": "execute_result"
    }
   ],
   "source": [
    "import ast\n",
    "fake_news['friends_count'] = fake_news['authorDic'].apply(lambda info: ast.literal_eval(info)['friends_count'])\n",
    "fake_news['followers_count'] = fake_news['authorDic'].apply(lambda info: ast.literal_eval(info)['followers_count'])\n",
    "fake_news['gender'] = fake_news['authorDic'].apply(lambda info: ast.literal_eval(info)['gender'])\n",
    "user_info_fake_3 = fake_news[['friends_count', 'followers_count', 'gender', 'id']]\n",
    "user_info_fake = user_info_fake.append(user_info_fake_3)\n",
    "user_info_fake = user_info_fake.drop_duplicates('id')\n",
    "user_info_fake.shape"
   ]
  },
  {
   "cell_type": "code",
   "execution_count": 15,
   "metadata": {},
   "outputs": [],
   "source": [
    "groups = {'0': (0, 10), '1': (10, 10**2), '2': (10**2, 10**3), '3': (10**3, 10**4), \n",
    "          '4': (10**4, 10**5),'5': (10**5, 10**6), '6': (10**6, 10**7), '7': (10**7, float('inf'))}\n",
    "def make_group(num):\n",
    "    for g in groups.keys():\n",
    "        if num>=groups[g][0] and num<groups[g][1]:\n",
    "            return g"
   ]
  },
  {
   "cell_type": "code",
   "execution_count": 16,
   "metadata": {
    "scrolled": true
   },
   "outputs": [
    {
     "data": {
      "text/html": [
       "<div>\n",
       "<style scoped>\n",
       "    .dataframe tbody tr th:only-of-type {\n",
       "        vertical-align: middle;\n",
       "    }\n",
       "\n",
       "    .dataframe tbody tr th {\n",
       "        vertical-align: top;\n",
       "    }\n",
       "\n",
       "    .dataframe thead th {\n",
       "        text-align: right;\n",
       "    }\n",
       "</style>\n",
       "<table border=\"1\" class=\"dataframe\">\n",
       "  <thead>\n",
       "    <tr style=\"text-align: right;\">\n",
       "      <th></th>\n",
       "      <th>Unnamed: 0</th>\n",
       "      <th>bi_followers_count</th>\n",
       "      <th>favourites_count</th>\n",
       "      <th>followers_count</th>\n",
       "      <th>friends_count</th>\n",
       "      <th>gender</th>\n",
       "      <th>id</th>\n",
       "      <th>location</th>\n",
       "      <th>status</th>\n",
       "      <th>statuses_count</th>\n",
       "      <th>label</th>\n",
       "      <th>group</th>\n",
       "    </tr>\n",
       "  </thead>\n",
       "  <tbody>\n",
       "    <tr>\n",
       "      <th>0</th>\n",
       "      <td>0.0</td>\n",
       "      <td>343.0</td>\n",
       "      <td>8.0</td>\n",
       "      <td>1089</td>\n",
       "      <td>402</td>\n",
       "      <td>男</td>\n",
       "      <td>1858076672</td>\n",
       "      <td>广东 韶关</td>\n",
       "      <td>{'reposts_count': 0, 'biz_feature': 0, 'trunca...</td>\n",
       "      <td>3133.0</td>\n",
       "      <td>H_user</td>\n",
       "      <td>3</td>\n",
       "    </tr>\n",
       "    <tr>\n",
       "      <th>1</th>\n",
       "      <td>1.0</td>\n",
       "      <td>257.0</td>\n",
       "      <td>3181.0</td>\n",
       "      <td>476</td>\n",
       "      <td>509</td>\n",
       "      <td>女</td>\n",
       "      <td>2115502082</td>\n",
       "      <td>海外 其他</td>\n",
       "      <td>{'reposts_count': 0, 'biz_feature': 0, 'trunca...</td>\n",
       "      <td>319.0</td>\n",
       "      <td>L_user</td>\n",
       "      <td>2</td>\n",
       "    </tr>\n",
       "    <tr>\n",
       "      <th>2</th>\n",
       "      <td>2.0</td>\n",
       "      <td>166.0</td>\n",
       "      <td>63.0</td>\n",
       "      <td>1476</td>\n",
       "      <td>377</td>\n",
       "      <td>男</td>\n",
       "      <td>1737951980</td>\n",
       "      <td>广东 深圳</td>\n",
       "      <td>{'reposts_count': 0, 'biz_feature': 4294967300...</td>\n",
       "      <td>3440.0</td>\n",
       "      <td>H_user</td>\n",
       "      <td>3</td>\n",
       "    </tr>\n",
       "    <tr>\n",
       "      <th>3</th>\n",
       "      <td>3.0</td>\n",
       "      <td>24.0</td>\n",
       "      <td>11.0</td>\n",
       "      <td>124</td>\n",
       "      <td>54</td>\n",
       "      <td>男</td>\n",
       "      <td>2436890630</td>\n",
       "      <td>浙江 杭州</td>\n",
       "      <td>{'reposts_count': 0, 'biz_feature': 0, 'trunca...</td>\n",
       "      <td>4160.0</td>\n",
       "      <td>L_user</td>\n",
       "      <td>2</td>\n",
       "    </tr>\n",
       "    <tr>\n",
       "      <th>4</th>\n",
       "      <td>4.0</td>\n",
       "      <td>584.0</td>\n",
       "      <td>164.0</td>\n",
       "      <td>1467</td>\n",
       "      <td>1563</td>\n",
       "      <td>男</td>\n",
       "      <td>1491075080</td>\n",
       "      <td>湖北 宜昌</td>\n",
       "      <td>{'reposts_count': 0, 'biz_feature': 0, 'trunca...</td>\n",
       "      <td>6395.0</td>\n",
       "      <td>H_user</td>\n",
       "      <td>3</td>\n",
       "    </tr>\n",
       "  </tbody>\n",
       "</table>\n",
       "</div>"
      ],
      "text/plain": [
       "   Unnamed: 0  bi_followers_count  favourites_count  followers_count  \\\n",
       "0         0.0               343.0               8.0             1089   \n",
       "1         1.0               257.0            3181.0              476   \n",
       "2         2.0               166.0              63.0             1476   \n",
       "3         3.0                24.0              11.0              124   \n",
       "4         4.0               584.0             164.0             1467   \n",
       "\n",
       "   friends_count gender          id location  \\\n",
       "0            402      男  1858076672    广东 韶关   \n",
       "1            509      女  2115502082    海外 其他   \n",
       "2            377      男  1737951980    广东 深圳   \n",
       "3             54      男  2436890630    浙江 杭州   \n",
       "4           1563      男  1491075080    湖北 宜昌   \n",
       "\n",
       "                                              status  statuses_count   label  \\\n",
       "0  {'reposts_count': 0, 'biz_feature': 0, 'trunca...          3133.0  H_user   \n",
       "1  {'reposts_count': 0, 'biz_feature': 0, 'trunca...           319.0  L_user   \n",
       "2  {'reposts_count': 0, 'biz_feature': 4294967300...          3440.0  H_user   \n",
       "3  {'reposts_count': 0, 'biz_feature': 0, 'trunca...          4160.0  L_user   \n",
       "4  {'reposts_count': 0, 'biz_feature': 0, 'trunca...          6395.0  H_user   \n",
       "\n",
       "  group  \n",
       "0     3  \n",
       "1     2  \n",
       "2     3  \n",
       "3     2  \n",
       "4     3  "
      ]
     },
     "execution_count": 16,
     "metadata": {},
     "output_type": "execute_result"
    }
   ],
   "source": [
    "user_info_fake['group'] = user_info_fake['followers_count'].apply(make_group)\n",
    "user_info_fake.head()"
   ]
  },
  {
   "cell_type": "code",
   "execution_count": 17,
   "metadata": {},
   "outputs": [],
   "source": [
    "patt_edge= '\\'(.*?)\\': {.*?\\'repostedid\\': \\'(.*?)\\',.*?\\'s_userid\\': (.*?),.*?\\'poster_id\\': (.*?)}'\n",
    "def findall_edge(data, patt):\n",
    "    result = re.findall(patt,data)\n",
    "    sou_tar = pd.DataFrame(result, columns=['target', 'source', 's_userid', 'poster_id'])\n",
    "    return sou_tar"
   ]
  },
  {
   "cell_type": "code",
   "execution_count": 65,
   "metadata": {},
   "outputs": [],
   "source": [
    "from collections import Counter\n",
    "def info_flow(data, gid): \n",
    "    group = data[data['followers_count']>=groups[gid][0]][data['followers_count']<groups[gid][1]]\n",
    "    info_flow = {'0': 0, '1': 0, '2': 0, '3': 0, '4': 0,'5': 0, '6': 0, '7': 0}\n",
    "    for edges in group['edges'].get_values():\n",
    "        sou_tar = findall_edge(edges, patt_edge)\n",
    "        sou_tar['poster_id'] = sou_tar['poster_id'].apply(lambda s: int(s))\n",
    "        merge_data = pd.merge(sou_tar, user_info_fake, left_on='poster_id', right_on='id')\n",
    "        g_count = dict(Counter(merge_data['group']))\n",
    "        for i in g_count.keys():\n",
    "            info_flow[i] += (g_count[i]/merge_data.shape[0])*(g_count[i]/user_info_fake[user_info_fake['group']==i].shape[0])\n",
    "    for key in info_flow.keys():\n",
    "        info_flow[key] = info_flow[key]/data.shape[0]\n",
    "    return info_flow"
   ]
  },
  {
   "cell_type": "code",
   "execution_count": 251,
   "metadata": {},
   "outputs": [],
   "source": [
    "def update(gid, info):\n",
    "    group = fake_news[fake_news['followers_count']>=groups[gid][0]][fake_news['followers_count']<groups[gid][1]]\n",
    "    info_update = {str(i): value*fake_news.shape[0]/group.shape[0] for i, value in enumerate(info.values())}\n",
    "    return info_update"
   ]
  },
  {
   "cell_type": "code",
   "execution_count": 67,
   "metadata": {},
   "outputs": [
    {
     "data": {
      "text/plain": [
       "{'0': 1.9738688827789725e-07,\n",
       " '1': 1.901880832946684e-08,\n",
       " '2': 1.144451193636821e-07,\n",
       " '3': 8.158012894237994e-09,\n",
       " '4': 2.3984538348143195e-08,\n",
       " '5': 6.316304820423066e-09,\n",
       " '6': 5.955252316804744e-10,\n",
       " '7': 0.0}"
      ]
     },
     "execution_count": 67,
     "metadata": {},
     "output_type": "execute_result"
    }
   ],
   "source": [
    "info_flow1 = info_flow(fake_news, '0')\n",
    "info_flow1"
   ]
  },
  {
   "cell_type": "code",
   "execution_count": 252,
   "metadata": {},
   "outputs": [
    {
     "data": {
      "text/plain": [
       "{'0': 4.085690480293603e-06,\n",
       " '1': 3.93668317162141e-07,\n",
       " '2': 2.36888751213279e-06,\n",
       " '3': 1.688618525318378e-07,\n",
       " '4': 4.964534415542458e-07,\n",
       " '5': 1.3074053044041447e-07,\n",
       " '6': 1.2326714256855786e-08,\n",
       " '7': 0.0}"
      ]
     },
     "execution_count": 252,
     "metadata": {},
     "output_type": "execute_result"
    }
   ],
   "source": [
    "info_flow1_update = update('0', info_flow1)\n",
    "info_flow1_update"
   ]
  },
  {
   "cell_type": "code",
   "execution_count": 68,
   "metadata": {},
   "outputs": [
    {
     "name": "stderr",
     "output_type": "stream",
     "text": [
      "C:\\Users\\ChuAI\\Anaconda3\\envs\\pytorch\\lib\\site-packages\\ipykernel_launcher.py:3: UserWarning: Boolean Series key will be reindexed to match DataFrame index.\n",
      "  This is separate from the ipykernel package so we can avoid doing imports until\n"
     ]
    }
   ],
   "source": [
    "info_flow2 = info_flow(fake_news, '1')"
   ]
  },
  {
   "cell_type": "code",
   "execution_count": 260,
   "metadata": {},
   "outputs": [
    {
     "name": "stderr",
     "output_type": "stream",
     "text": [
      "C:\\Users\\ChuAI\\Anaconda3\\envs\\pytorch\\lib\\site-packages\\ipykernel_launcher.py:2: UserWarning: Boolean Series key will be reindexed to match DataFrame index.\n",
      "  \n"
     ]
    },
    {
     "data": {
      "text/plain": [
       "{'0': 1.746056460770799e-06,\n",
       " '1': 1.2884502689731969e-06,\n",
       " '2': 1.8608250857729007e-06,\n",
       " '3': 1.005530150284889e-06,\n",
       " '4': 5.232165413071234e-07,\n",
       " '5': 7.416160374877157e-07,\n",
       " '6': 1.9726801894936173e-07,\n",
       " '7': 0.0}"
      ]
     },
     "execution_count": 260,
     "metadata": {},
     "output_type": "execute_result"
    }
   ],
   "source": [
    "info_flow2_update = update('1', info_flow2)\n",
    "info_flow2_update"
   ]
  },
  {
   "cell_type": "code",
   "execution_count": 257,
   "metadata": {},
   "outputs": [],
   "source": [
    "info_flow3 = info_flow(fake_news, '2')"
   ]
  },
  {
   "cell_type": "code",
   "execution_count": 261,
   "metadata": {},
   "outputs": [
    {
     "name": "stderr",
     "output_type": "stream",
     "text": [
      "C:\\Users\\ChuAI\\Anaconda3\\envs\\pytorch\\lib\\site-packages\\ipykernel_launcher.py:2: UserWarning: Boolean Series key will be reindexed to match DataFrame index.\n",
      "  \n"
     ]
    },
    {
     "data": {
      "text/plain": [
       "{'0': 2.1901174861867506e-06,\n",
       " '1': 2.56364336139453e-06,\n",
       " '2': 1.1835620481131753e-05,\n",
       " '3': 5.355210799240515e-06,\n",
       " '4': 3.1480480736261017e-06,\n",
       " '5': 6.844000283272314e-07,\n",
       " '6': 1.3910173402855063e-07,\n",
       " '7': 1.8542340735815378e-08}"
      ]
     },
     "execution_count": 261,
     "metadata": {},
     "output_type": "execute_result"
    }
   ],
   "source": [
    "info_flow3_update = update('2', info_flow3)\n",
    "info_flow3_update"
   ]
  },
  {
   "cell_type": "code",
   "execution_count": 70,
   "metadata": {},
   "outputs": [
    {
     "name": "stderr",
     "output_type": "stream",
     "text": [
      "C:\\Users\\ChuAI\\Anaconda3\\envs\\pytorch\\lib\\site-packages\\ipykernel_launcher.py:3: UserWarning: Boolean Series key will be reindexed to match DataFrame index.\n",
      "  This is separate from the ipykernel package so we can avoid doing imports until\n"
     ]
    }
   ],
   "source": [
    "info_flow4 = info_flow(fake_news, '3')"
   ]
  },
  {
   "cell_type": "code",
   "execution_count": 262,
   "metadata": {},
   "outputs": [
    {
     "name": "stderr",
     "output_type": "stream",
     "text": [
      "C:\\Users\\ChuAI\\Anaconda3\\envs\\pytorch\\lib\\site-packages\\ipykernel_launcher.py:2: UserWarning: Boolean Series key will be reindexed to match DataFrame index.\n",
      "  \n"
     ]
    },
    {
     "data": {
      "text/plain": [
       "{'0': 2.502850644706527e-06,\n",
       " '1': 9.68131634384098e-06,\n",
       " '2': 4.959934430814897e-05,\n",
       " '3': 4.293458749973792e-05,\n",
       " '4': 1.2628495743421738e-05,\n",
       " '5': 1.379395459070468e-06,\n",
       " '6': 4.006594896438945e-07,\n",
       " '7': 4.5541695699497675e-09}"
      ]
     },
     "execution_count": 262,
     "metadata": {},
     "output_type": "execute_result"
    }
   ],
   "source": [
    "info_flow4_update = update('3', info_flow4)\n",
    "info_flow4_update"
   ]
  },
  {
   "cell_type": "code",
   "execution_count": 71,
   "metadata": {},
   "outputs": [
    {
     "name": "stderr",
     "output_type": "stream",
     "text": [
      "C:\\Users\\ChuAI\\Anaconda3\\envs\\pytorch\\lib\\site-packages\\ipykernel_launcher.py:3: UserWarning: Boolean Series key will be reindexed to match DataFrame index.\n",
      "  This is separate from the ipykernel package so we can avoid doing imports until\n"
     ]
    }
   ],
   "source": [
    "info_flow5 = info_flow(fake_news, '4')"
   ]
  },
  {
   "cell_type": "code",
   "execution_count": 263,
   "metadata": {},
   "outputs": [
    {
     "name": "stderr",
     "output_type": "stream",
     "text": [
      "C:\\Users\\ChuAI\\Anaconda3\\envs\\pytorch\\lib\\site-packages\\ipykernel_launcher.py:2: UserWarning: Boolean Series key will be reindexed to match DataFrame index.\n",
      "  \n"
     ]
    },
    {
     "data": {
      "text/plain": [
       "{'0': 1.113723701036938e-05,\n",
       " '1': 2.467933602253205e-05,\n",
       " '2': 0.00012423512778289103,\n",
       " '3': 7.080114447951707e-05,\n",
       " '4': 2.759545738401675e-05,\n",
       " '5': 3.191848626663055e-06,\n",
       " '6': 5.164251104398426e-07,\n",
       " '7': 1.3809570167580613e-07}"
      ]
     },
     "execution_count": 263,
     "metadata": {},
     "output_type": "execute_result"
    }
   ],
   "source": [
    "info_flow5_update = update('4', info_flow5)\n",
    "info_flow5_update"
   ]
  },
  {
   "cell_type": "code",
   "execution_count": 72,
   "metadata": {},
   "outputs": [
    {
     "name": "stderr",
     "output_type": "stream",
     "text": [
      "C:\\Users\\ChuAI\\Anaconda3\\envs\\pytorch\\lib\\site-packages\\ipykernel_launcher.py:3: UserWarning: Boolean Series key will be reindexed to match DataFrame index.\n",
      "  This is separate from the ipykernel package so we can avoid doing imports until\n"
     ]
    }
   ],
   "source": [
    "info_flow6 = info_flow(fake_news, '5')"
   ]
  },
  {
   "cell_type": "code",
   "execution_count": 264,
   "metadata": {},
   "outputs": [
    {
     "name": "stderr",
     "output_type": "stream",
     "text": [
      "C:\\Users\\ChuAI\\Anaconda3\\envs\\pytorch\\lib\\site-packages\\ipykernel_launcher.py:2: UserWarning: Boolean Series key will be reindexed to match DataFrame index.\n",
      "  \n"
     ]
    },
    {
     "data": {
      "text/plain": [
       "{'0': 1.16017691171286e-05,\n",
       " '1': 4.245124976960452e-05,\n",
       " '2': 0.00016081354800052982,\n",
       " '3': 5.6579010392459525e-05,\n",
       " '4': 9.949356028404709e-06,\n",
       " '5': 3.0361889000539548e-05,\n",
       " '6': 8.977638338420025e-07,\n",
       " '7': 1.3891647757666504e-07}"
      ]
     },
     "execution_count": 264,
     "metadata": {},
     "output_type": "execute_result"
    }
   ],
   "source": [
    "info_flow6_update = update('5', info_flow6)\n",
    "info_flow6_update"
   ]
  },
  {
   "cell_type": "code",
   "execution_count": 73,
   "metadata": {},
   "outputs": [
    {
     "name": "stderr",
     "output_type": "stream",
     "text": [
      "C:\\Users\\ChuAI\\Anaconda3\\envs\\pytorch\\lib\\site-packages\\ipykernel_launcher.py:3: UserWarning: Boolean Series key will be reindexed to match DataFrame index.\n",
      "  This is separate from the ipykernel package so we can avoid doing imports until\n"
     ]
    }
   ],
   "source": [
    "info_flow7 = info_flow(fake_news, '6')"
   ]
  },
  {
   "cell_type": "code",
   "execution_count": 265,
   "metadata": {},
   "outputs": [
    {
     "name": "stderr",
     "output_type": "stream",
     "text": [
      "C:\\Users\\ChuAI\\Anaconda3\\envs\\pytorch\\lib\\site-packages\\ipykernel_launcher.py:2: UserWarning: Boolean Series key will be reindexed to match DataFrame index.\n",
      "  \n"
     ]
    },
    {
     "data": {
      "text/plain": [
       "{'0': 4.124227631239493e-05,\n",
       " '1': 8.881043593038983e-05,\n",
       " '2': 0.0002262425675821267,\n",
       " '3': 5.359714148638073e-05,\n",
       " '4': 7.955698472778777e-06,\n",
       " '5': 5.70483483743842e-06,\n",
       " '6': 5.621484679620116e-06,\n",
       " '7': 4.3489999190738063e-07}"
      ]
     },
     "execution_count": 265,
     "metadata": {},
     "output_type": "execute_result"
    }
   ],
   "source": [
    "info_flow7_update = update('6', info_flow7)\n",
    "info_flow7_update"
   ]
  },
  {
   "cell_type": "code",
   "execution_count": 74,
   "metadata": {},
   "outputs": [
    {
     "name": "stderr",
     "output_type": "stream",
     "text": [
      "C:\\Users\\ChuAI\\Anaconda3\\envs\\pytorch\\lib\\site-packages\\ipykernel_launcher.py:3: UserWarning: Boolean Series key will be reindexed to match DataFrame index.\n",
      "  This is separate from the ipykernel package so we can avoid doing imports until\n"
     ]
    }
   ],
   "source": [
    "info_flow8 = info_flow(fake_news, '7')"
   ]
  },
  {
   "cell_type": "code",
   "execution_count": 266,
   "metadata": {},
   "outputs": [
    {
     "name": "stderr",
     "output_type": "stream",
     "text": [
      "C:\\Users\\ChuAI\\Anaconda3\\envs\\pytorch\\lib\\site-packages\\ipykernel_launcher.py:2: UserWarning: Boolean Series key will be reindexed to match DataFrame index.\n",
      "  \n"
     ]
    },
    {
     "data": {
      "text/plain": [
       "{'0': 2.3482155496361463e-05,\n",
       " '1': 9.701386420724631e-05,\n",
       " '2': 0.00023640496063675014,\n",
       " '3': 5.834579902431978e-05,\n",
       " '4': 0.0001234923063469756,\n",
       " '5': 0.000610138606524054,\n",
       " '6': 3.681028437161459e-06,\n",
       " '7': 2.8121652928537696e-06}"
      ]
     },
     "execution_count": 266,
     "metadata": {},
     "output_type": "execute_result"
    }
   ],
   "source": [
    "info_flow8_update = update('7', info_flow8)\n",
    "info_flow8_update"
   ]
  },
  {
   "cell_type": "code",
   "execution_count": 267,
   "metadata": {},
   "outputs": [],
   "source": [
    "# info_flow = [info_flow1, info_flow2, info_flow3, info_flow4, info_flow5, info_flow6, info_flow7, info_flow8]\n",
    "info_flow = [info_flow1_update, info_flow2_update, info_flow3_update, info_flow4_update, \n",
    "             info_flow5_update, info_flow6_update, info_flow7_update, info_flow8_update]"
   ]
  },
  {
   "cell_type": "code",
   "execution_count": 268,
   "metadata": {},
   "outputs": [],
   "source": [
    "def info_flow_ratio(sou, tar):\n",
    "    ratio = (info_flow[sou][str(tar)]-info_flow[tar][str(sou)])/(info_flow[sou][str(tar)]+info_flow[tar][str(sou)])\n",
    "    return ratio"
   ]
  },
  {
   "cell_type": "code",
   "execution_count": 269,
   "metadata": {},
   "outputs": [
    {
     "name": "stdout",
     "output_type": "stream",
     "text": [
      "0.0\n",
      "-0.6320383619220035\n",
      "0.03921250931111823\n",
      "-0.8735927966003953\n",
      "-0.9146524581162192\n",
      "-0.977713117761211\n",
      "-0.999402407811371\n",
      "-1.0\n"
     ]
    }
   ],
   "source": [
    "for i in range(8):\n",
    "    print(info_flow_ratio(0, i))"
   ]
  },
  {
   "cell_type": "code",
   "execution_count": 270,
   "metadata": {},
   "outputs": [
    {
     "name": "stdout",
     "output_type": "stream",
     "text": [
      "0.6320383619220035\n",
      "0.0\n",
      "-0.15884807045501198\n",
      "-0.8118191085017289\n",
      "-0.9584790834196819\n",
      "-0.9656602532094111\n",
      "-0.9955673945019042\n",
      "-1.0\n"
     ]
    }
   ],
   "source": [
    "for i in range(8):\n",
    "    print(info_flow_ratio(1, i))"
   ]
  },
  {
   "cell_type": "code",
   "execution_count": 271,
   "metadata": {},
   "outputs": [
    {
     "name": "stdout",
     "output_type": "stream",
     "text": [
      "-0.03921250931111823\n",
      "0.15884807045501198\n",
      "0.0\n",
      "-0.8051040249975411\n",
      "-0.9505735658973988\n",
      "-0.9915243501644375\n",
      "-0.9987710865950521\n",
      "-0.9998431429997248\n"
     ]
    }
   ],
   "source": [
    "for i in range(8):\n",
    "    print(info_flow_ratio(2, i))"
   ]
  },
  {
   "cell_type": "code",
   "execution_count": 272,
   "metadata": {},
   "outputs": [
    {
     "name": "stdout",
     "output_type": "stream",
     "text": [
      "0.8735927966003953\n",
      "0.8118191085017289\n",
      "0.8051040249975411\n",
      "0.0\n",
      "-0.697265966635451\n",
      "-0.9524005038163398\n",
      "-0.9851601553247774\n",
      "-0.9998439025877078\n"
     ]
    }
   ],
   "source": [
    "for i in range(8):\n",
    "    print(info_flow_ratio(3, i))"
   ]
  },
  {
   "cell_type": "code",
   "execution_count": 273,
   "metadata": {},
   "outputs": [
    {
     "name": "stdout",
     "output_type": "stream",
     "text": [
      "0.9146524581162192\n",
      "0.9584790834196819\n",
      "0.9505735658973988\n",
      "0.697265966635451\n",
      "0.0\n",
      "-0.5142228265302674\n",
      "-0.878088390621977\n",
      "-0.9977659912224266\n"
     ]
    }
   ],
   "source": [
    "for i in range(8):\n",
    "    print(info_flow_ratio(4, i))"
   ]
  },
  {
   "cell_type": "code",
   "execution_count": 274,
   "metadata": {},
   "outputs": [
    {
     "name": "stdout",
     "output_type": "stream",
     "text": [
      "0.977713117761211\n",
      "0.9656602532094111\n",
      "0.9915243501644375\n",
      "0.9524005038163398\n",
      "0.5142228265302674\n",
      "0.0\n",
      "-0.7280574275256074\n",
      "-0.9995447432607597\n"
     ]
    }
   ],
   "source": [
    "for i in range(8):\n",
    "    print(info_flow_ratio(5, i))"
   ]
  },
  {
   "cell_type": "code",
   "execution_count": 275,
   "metadata": {},
   "outputs": [
    {
     "name": "stdout",
     "output_type": "stream",
     "text": [
      "0.999402407811371\n",
      "0.9955673945019042\n",
      "0.9987710865950521\n",
      "0.9851601553247774\n",
      "0.878088390621977\n",
      "0.7280574275256074\n",
      "0.0\n",
      "-0.7886746577827305\n"
     ]
    }
   ],
   "source": [
    "for i in range(8):\n",
    "    print(info_flow_ratio(6, i))"
   ]
  },
  {
   "cell_type": "code",
   "execution_count": 276,
   "metadata": {},
   "outputs": [
    {
     "name": "stdout",
     "output_type": "stream",
     "text": [
      "1.0\n",
      "1.0\n",
      "0.9998431429997248\n",
      "0.9998439025877078\n",
      "0.9977659912224266\n",
      "0.9995447432607597\n",
      "0.7886746577827305\n",
      "0.0\n"
     ]
    }
   ],
   "source": [
    "for i in range(8):\n",
    "    print(info_flow_ratio(7, i))"
   ]
  },
  {
   "cell_type": "code",
   "execution_count": 277,
   "metadata": {},
   "outputs": [
    {
     "data": {
      "image/png": "[encoded data removed]",
      "text/plain": [
       "<Figure size 800x400 with 1 Axes>"
      ]
     },
     "metadata": {},
     "output_type": "display_data"
    }
   ],
   "source": [
    "import matplotlib.pyplot as plt\n",
    "# information transfer ratio\n",
    "# Information audience ratio\n",
    "plt.style.use('default')\n",
    "font1 = {\n",
    "    'weight': 'normal',\n",
    "    'size': 18\n",
    "}\n",
    "markers = ['s', 'p', '^', 'h', 'H', '<', '>', 'D']\n",
    "def transfer(gid):\n",
    "    info_flow_ratios = []\n",
    "    for i in range(8):\n",
    "        info_flow_ratios.append(info_flow_ratio(gid, i))\n",
    "    return info_flow_ratios\n",
    "plt.figure(figsize=(8,4))\n",
    "for gid in range(8):\n",
    "    plt.plot(transfer(gid), marker=markers[gid], linewidth=3, markersize=10, markeredgecolor='white', label='G'+str(gid))\n",
    "plt.tick_params(labelsize=14)\n",
    "plt.axhline(y=0, color='lightgrey')\n",
    "plt.axhline(y=0.5, color='lightgrey')\n",
    "plt.xlabel('Group', font1)\n",
    "plt.ylabel('Dominant Vlaue', font1)\n",
    "plt.legend(bbox_to_anchor=(1,1), prop=font1)\n",
    "plt.tight_layout()\n",
    "plt.savefig('images/dominant_value.pdf')\n",
    "plt.savefig('images/dominant_value.jpg', dpi=600)\n",
    "plt.show()"
   ]
  },
  {
   "cell_type": "code",
   "execution_count": 278,
   "metadata": {},
   "outputs": [],
   "source": [
    "corr = pd.DataFrame([transfer(0), transfer(1), transfer(2), transfer(3), \n",
    "                     transfer(4), transfer(5), transfer(6), transfer(7)])\n",
    "corr.to_csv('data/information_transfor_update.csv')"
   ]
  },
  {
   "cell_type": "code",
   "execution_count": 279,
   "metadata": {},
   "outputs": [
    {
     "data": {
      "text/html": [
       "<div>\n",
       "<style scoped>\n",
       "    .dataframe tbody tr th:only-of-type {\n",
       "        vertical-align: middle;\n",
       "    }\n",
       "\n",
       "    .dataframe tbody tr th {\n",
       "        vertical-align: top;\n",
       "    }\n",
       "\n",
       "    .dataframe thead th {\n",
       "        text-align: right;\n",
       "    }\n",
       "</style>\n",
       "<table border=\"1\" class=\"dataframe\">\n",
       "  <thead>\n",
       "    <tr style=\"text-align: right;\">\n",
       "      <th></th>\n",
       "      <th>0</th>\n",
       "      <th>1</th>\n",
       "      <th>2</th>\n",
       "      <th>3</th>\n",
       "      <th>4</th>\n",
       "      <th>5</th>\n",
       "      <th>6</th>\n",
       "      <th>7</th>\n",
       "    </tr>\n",
       "  </thead>\n",
       "  <tbody>\n",
       "    <tr>\n",
       "      <th>0</th>\n",
       "      <td>0.000000</td>\n",
       "      <td>-0.632038</td>\n",
       "      <td>0.039213</td>\n",
       "      <td>-0.873593</td>\n",
       "      <td>-0.914652</td>\n",
       "      <td>-0.977713</td>\n",
       "      <td>-0.999402</td>\n",
       "      <td>-1.000000</td>\n",
       "    </tr>\n",
       "    <tr>\n",
       "      <th>1</th>\n",
       "      <td>0.632038</td>\n",
       "      <td>0.000000</td>\n",
       "      <td>-0.158848</td>\n",
       "      <td>-0.811819</td>\n",
       "      <td>-0.958479</td>\n",
       "      <td>-0.965660</td>\n",
       "      <td>-0.995567</td>\n",
       "      <td>-1.000000</td>\n",
       "    </tr>\n",
       "    <tr>\n",
       "      <th>2</th>\n",
       "      <td>-0.039213</td>\n",
       "      <td>0.158848</td>\n",
       "      <td>0.000000</td>\n",
       "      <td>-0.805104</td>\n",
       "      <td>-0.950574</td>\n",
       "      <td>-0.991524</td>\n",
       "      <td>-0.998771</td>\n",
       "      <td>-0.999843</td>\n",
       "    </tr>\n",
       "    <tr>\n",
       "      <th>3</th>\n",
       "      <td>0.873593</td>\n",
       "      <td>0.811819</td>\n",
       "      <td>0.805104</td>\n",
       "      <td>0.000000</td>\n",
       "      <td>-0.697266</td>\n",
       "      <td>-0.952401</td>\n",
       "      <td>-0.985160</td>\n",
       "      <td>-0.999844</td>\n",
       "    </tr>\n",
       "    <tr>\n",
       "      <th>4</th>\n",
       "      <td>0.914652</td>\n",
       "      <td>0.958479</td>\n",
       "      <td>0.950574</td>\n",
       "      <td>0.697266</td>\n",
       "      <td>0.000000</td>\n",
       "      <td>-0.514223</td>\n",
       "      <td>-0.878088</td>\n",
       "      <td>-0.997766</td>\n",
       "    </tr>\n",
       "    <tr>\n",
       "      <th>5</th>\n",
       "      <td>0.977713</td>\n",
       "      <td>0.965660</td>\n",
       "      <td>0.991524</td>\n",
       "      <td>0.952401</td>\n",
       "      <td>0.514223</td>\n",
       "      <td>0.000000</td>\n",
       "      <td>-0.728057</td>\n",
       "      <td>-0.999545</td>\n",
       "    </tr>\n",
       "    <tr>\n",
       "      <th>6</th>\n",
       "      <td>0.999402</td>\n",
       "      <td>0.995567</td>\n",
       "      <td>0.998771</td>\n",
       "      <td>0.985160</td>\n",
       "      <td>0.878088</td>\n",
       "      <td>0.728057</td>\n",
       "      <td>0.000000</td>\n",
       "      <td>-0.788675</td>\n",
       "    </tr>\n",
       "    <tr>\n",
       "      <th>7</th>\n",
       "      <td>1.000000</td>\n",
       "      <td>1.000000</td>\n",
       "      <td>0.999843</td>\n",
       "      <td>0.999844</td>\n",
       "      <td>0.997766</td>\n",
       "      <td>0.999545</td>\n",
       "      <td>0.788675</td>\n",
       "      <td>0.000000</td>\n",
       "    </tr>\n",
       "  </tbody>\n",
       "</table>\n",
       "</div>"
      ],
      "text/plain": [
       "          0         1         2         3         4         5         6  \\\n",
       "0  0.000000 -0.632038  0.039213 -0.873593 -0.914652 -0.977713 -0.999402   \n",
       "1  0.632038  0.000000 -0.158848 -0.811819 -0.958479 -0.965660 -0.995567   \n",
       "2 -0.039213  0.158848  0.000000 -0.805104 -0.950574 -0.991524 -0.998771   \n",
       "3  0.873593  0.811819  0.805104  0.000000 -0.697266 -0.952401 -0.985160   \n",
       "4  0.914652  0.958479  0.950574  0.697266  0.000000 -0.514223 -0.878088   \n",
       "5  0.977713  0.965660  0.991524  0.952401  0.514223  0.000000 -0.728057   \n",
       "6  0.999402  0.995567  0.998771  0.985160  0.878088  0.728057  0.000000   \n",
       "7  1.000000  1.000000  0.999843  0.999844  0.997766  0.999545  0.788675   \n",
       "\n",
       "          7  \n",
       "0 -1.000000  \n",
       "1 -1.000000  \n",
       "2 -0.999843  \n",
       "3 -0.999844  \n",
       "4 -0.997766  \n",
       "5 -0.999545  \n",
       "6 -0.788675  \n",
       "7  0.000000  "
      ]
     },
     "execution_count": 279,
     "metadata": {},
     "output_type": "execute_result"
    }
   ],
   "source": [
    "corr"
   ]
  },
  {
   "cell_type": "code",
   "execution_count": 280,
   "metadata": {},
   "outputs": [
    {
     "data": {
      "text/plain": [
       "[0.0,\n",
       " -0.6320383619220035,\n",
       " 0.03921250931111823,\n",
       " -0.8735927966003953,\n",
       " -0.9146524581162192,\n",
       " -0.977713117761211,\n",
       " -0.999402407811371,\n",
       " -1.0]"
      ]
     },
     "execution_count": 280,
     "metadata": {},
     "output_type": "execute_result"
    }
   ],
   "source": [
    "transfer(0)"
   ]
  },
  {
   "cell_type": "code",
   "execution_count": 299,
   "metadata": {},
   "outputs": [
    {
     "data": {
      "image/png": "[encoded data removed]",
      "text/plain": [
       "<Figure size 640x480 with 2 Axes>"
      ]
     },
     "metadata": {},
     "output_type": "display_data"
    }
   ],
   "source": [
    "import seaborn as sns\n",
    "\n",
    "mask = np.zeros_like(corr)\n",
    "mask[np.triu_indices_from(mask)] = True\n",
    "sns.heatmap(corr, mask=mask, annot = True, cmap='rainbow', linewidths=0.5)\n",
    "plt.xlabel('$G_{in}$', font1)\n",
    "plt.ylabel('$G_{out}$', font1)\n",
    "plt.tick_params(labelsize=14)\n",
    "plt.tight_layout()\n",
    "plt.savefig('images/dominant_hmap.pdf')\n",
    "plt.savefig('images/dominant_hmap.jpg', dpi=600)\n",
    "plt.show()"
   ]
  },
  {
   "cell_type": "code",
   "execution_count": 173,
   "metadata": {},
   "outputs": [
    {
     "data": {
      "text/html": [
       "<div>\n",
       "<style scoped>\n",
       "    .dataframe tbody tr th:only-of-type {\n",
       "        vertical-align: middle;\n",
       "    }\n",
       "\n",
       "    .dataframe tbody tr th {\n",
       "        vertical-align: top;\n",
       "    }\n",
       "\n",
       "    .dataframe thead th {\n",
       "        text-align: right;\n",
       "    }\n",
       "</style>\n",
       "<table border=\"1\" class=\"dataframe\">\n",
       "  <thead>\n",
       "    <tr style=\"text-align: right;\">\n",
       "      <th></th>\n",
       "      <th>target</th>\n",
       "      <th>source</th>\n",
       "      <th>s_userid</th>\n",
       "      <th>poster_id</th>\n",
       "    </tr>\n",
       "  </thead>\n",
       "  <tbody>\n",
       "    <tr>\n",
       "      <th>0</th>\n",
       "      <td>3658686746755393</td>\n",
       "      <td>3656813583185243</td>\n",
       "      <td>1791353831</td>\n",
       "      <td>3880085981</td>\n",
       "    </tr>\n",
       "    <tr>\n",
       "      <th>1</th>\n",
       "      <td>3656813864290381</td>\n",
       "      <td>3656813583185243</td>\n",
       "      <td>1791353831</td>\n",
       "      <td>1098289271</td>\n",
       "    </tr>\n",
       "  </tbody>\n",
       "</table>\n",
       "</div>"
      ],
      "text/plain": [
       "             target            source    s_userid   poster_id\n",
       "0  3658686746755393  3656813583185243  1791353831  3880085981\n",
       "1  3656813864290381  3656813583185243  1791353831  1098289271"
      ]
     },
     "execution_count": 173,
     "metadata": {},
     "output_type": "execute_result"
    }
   ],
   "source": [
    "findall_edge(true_news['edges'][1], patt_edge)"
   ]
  },
  {
   "cell_type": "code",
   "execution_count": 10,
   "metadata": {},
   "outputs": [
    {
     "name": "stderr",
     "output_type": "stream",
     "text": [
      "C:\\Users\\ChuAI\\Anaconda3\\envs\\pytorch\\lib\\site-packages\\ipykernel_launcher.py:2: SettingWithCopyWarning: \n",
      "A value is trying to be set on a copy of a slice from a DataFrame\n",
      "\n",
      "See the caveats in the documentation: http://pandas.pydata.org/pandas-docs/stable/indexing.html#indexing-view-versus-copy\n",
      "  \n"
     ]
    }
   ],
   "source": [
    "user_info_fake['label'] = 'L_user'\n",
    "user_info_fake['label'][user_info_fake['followers_count']>=1000] = 'H_user'"
   ]
  },
  {
   "cell_type": "code",
   "execution_count": 12,
   "metadata": {},
   "outputs": [
    {
     "data": {
      "text/plain": [
       "Counter({'H_user': 144005, 'L_user': 1043922})"
      ]
     },
     "execution_count": 12,
     "metadata": {},
     "output_type": "execute_result"
    }
   ],
   "source": [
    "from collections import Counter\n",
    "Counter(user_info_fake['label'])"
   ]
  },
  {
   "cell_type": "code",
   "execution_count": 13,
   "metadata": {},
   "outputs": [],
   "source": [
    "fake_news = fake_news.drop('Unnamed: 0', axis=1)"
   ]
  },
  {
   "cell_type": "code",
   "execution_count": 18,
   "metadata": {},
   "outputs": [],
   "source": [
    "def L_user_ratio(edges, uid):\n",
    "    sou_tar = findall_edge(edges, patt_edge)\n",
    "    sou_tar['poster_id'] = sou_tar['poster_id'].apply(lambda s: int(s))\n",
    "    merge_data = pd.merge(sou_tar, user_info_fake, left_on='poster_id', right_on='id')\n",
    "    c_dict = dict(Counter(merge_data['label']))\n",
    "    user_dict = {'L_user':0, 'H_user':0}\n",
    "    for key in c_dict.keys():\n",
    "        user_dict[key] = c_dict[key]\n",
    "    if user_info_fake['followers_count'][user_info_fake['id']==uid].get_values()[0] >= 1000:\n",
    "        user_dict['H_user'] += 1\n",
    "    else:\n",
    "        user_dict['L_user'] += 1\n",
    "    return user_dict['L_user']/(user_dict['L_user']+user_dict['H_user'])\n",
    "fake_news['L_user_ratio'] = fake_news.apply(lambda f: L_user_ratio(f['edges'], f['id']), axis=1)"
   ]
  },
  {
   "cell_type": "code",
   "execution_count": 16,
   "metadata": {},
   "outputs": [],
   "source": [
    "LHF_L = fake_news['L_user_ratio'][fake_news['followers_count']<1000][fake_news['repostNum']>=10].describe()"
   ]
  },
  {
   "cell_type": "code",
   "execution_count": 20,
   "metadata": {},
   "outputs": [
    {
     "data": {
      "text/plain": [
       "count    3513.000000\n",
       "mean        0.266314\n",
       "std         0.313459\n",
       "min         0.000000\n",
       "25%         0.000000\n",
       "50%         0.000000\n",
       "75%         0.500000\n",
       "max         0.900000\n",
       "Name: L_user_ratio, dtype: float64"
      ]
     },
     "execution_count": 20,
     "metadata": {},
     "output_type": "execute_result"
    }
   ],
   "source": [
    "fake_news['L_user_ratio'][fake_news['followers_count']>=1000][fake_news['repostNum']<10].describe()"
   ]
  },
  {
   "cell_type": "code",
   "execution_count": 17,
   "metadata": {},
   "outputs": [],
   "source": [
    "HHF_L = fake_news['L_user_ratio'][fake_news['followers_count']>=1000][fake_news['repostNum']>=10].describe()"
   ]
  },
  {
   "cell_type": "code",
   "execution_count": 22,
   "metadata": {},
   "outputs": [
    {
     "data": {
      "text/plain": [
       "count    12805.000000\n",
       "mean         0.979383\n",
       "std          0.091016\n",
       "min          0.000000\n",
       "25%          1.000000\n",
       "50%          1.000000\n",
       "75%          1.000000\n",
       "max          1.000000\n",
       "Name: L_user_ratio, dtype: float64"
      ]
     },
     "execution_count": 22,
     "metadata": {},
     "output_type": "execute_result"
    }
   ],
   "source": [
    "fake_news['L_user_ratio'][fake_news['followers_count']<1000][fake_news['repostNum']<10].describe()"
   ]
  },
  {
   "cell_type": "code",
   "execution_count": 18,
   "metadata": {},
   "outputs": [
    {
     "data": {
      "text/plain": [
       "Ks_2sampResult(statistic=0.25, pvalue=0.98010878010878)"
      ]
     },
     "execution_count": 18,
     "metadata": {},
     "output_type": "execute_result"
    }
   ],
   "source": [
    "from scipy.stats import ks_2samp\n",
    "ks_2samp(LHF_L, HHF_L)"
   ]
  },
  {
   "cell_type": "code",
   "execution_count": 23,
   "metadata": {},
   "outputs": [
    {
     "data": {
      "text/plain": [
       "count    22479.000000\n",
       "mean         0.817082\n",
       "std          0.297248\n",
       "min          0.000000\n",
       "25%          0.750000\n",
       "50%          1.000000\n",
       "75%          1.000000\n",
       "max          1.000000\n",
       "Name: L_user_ratio, dtype: float64"
      ]
     },
     "execution_count": 23,
     "metadata": {},
     "output_type": "execute_result"
    }
   ],
   "source": [
    "fake_news['L_user_ratio'].describe()"
   ]
  },
  {
   "cell_type": "code",
   "execution_count": 24,
   "metadata": {},
   "outputs": [],
   "source": [
    "fake_news.to_csv('data/fake_news_L_ratio.csv', index=False)"
   ]
  },
  {
   "cell_type": "markdown",
   "metadata": {},
   "source": [
    "# 网络节点和边获取"
   ]
  },
  {
   "cell_type": "code",
   "execution_count": 1,
   "metadata": {},
   "outputs": [],
   "source": [
    "import pandas as pd\n",
    "import numpy as np\n",
    "\n",
    "news = pd.read_csv('data/struc_virality_net.csv')\n",
    "true_news = news[news['label']=='true']\n",
    "fake_news = pd.read_csv('data/fake_news_L_ratio.csv')"
   ]
  },
  {
   "cell_type": "code",
   "execution_count": 219,
   "metadata": {},
   "outputs": [],
   "source": [
    "def nodes_info(wid):\n",
    "    edges = fake_news['edges'][fake_news['weiboID']==wid].get_values()[0]\n",
    "    uid = fake_news['id'][fake_news['weiboID']==wid]\n",
    "    sou_tar = findall_edge(edges, patt_edge)\n",
    "    sou_tar['poster_id'] = sou_tar['poster_id'].apply(lambda s: int(s))\n",
    "    merge_data = pd.merge(sou_tar, user_info_fake, left_on='poster_id', right_on='id')\n",
    "    return merge_data"
   ]
  },
  {
   "cell_type": "code",
   "execution_count": 2,
   "metadata": {
    "scrolled": true
   },
   "outputs": [
    {
     "data": {
      "text/html": [
       "<div>\n",
       "<style scoped>\n",
       "    .dataframe tbody tr th:only-of-type {\n",
       "        vertical-align: middle;\n",
       "    }\n",
       "\n",
       "    .dataframe tbody tr th {\n",
       "        vertical-align: top;\n",
       "    }\n",
       "\n",
       "    .dataframe thead th {\n",
       "        text-align: right;\n",
       "    }\n",
       "</style>\n",
       "<table border=\"1\" class=\"dataframe\">\n",
       "  <thead>\n",
       "    <tr style=\"text-align: right;\">\n",
       "      <th></th>\n",
       "      <th>Unnamed: 0</th>\n",
       "      <th>authorDic</th>\n",
       "      <th>edges</th>\n",
       "      <th>keyUser</th>\n",
       "      <th>layerNum</th>\n",
       "      <th>rpsttimeline</th>\n",
       "      <th>status</th>\n",
       "      <th>weiboID</th>\n",
       "      <th>repost_user_ids</th>\n",
       "      <th>id</th>\n",
       "      <th>struc_virality</th>\n",
       "      <th>repostNum</th>\n",
       "      <th>label</th>\n",
       "      <th>struc_varility_net</th>\n",
       "    </tr>\n",
       "  </thead>\n",
       "  <tbody>\n",
       "    <tr>\n",
       "      <th>7561</th>\n",
       "      <td>7561</td>\n",
       "      <td>{'province': '37', 'weiboText': '孔子后裔，由家老二，母亲为...</td>\n",
       "      <td>{'3688064088376407': {'posttime': 'Fri Mar 14 ...</td>\n",
       "      <td>{'3875428303031304': 'http://tva4.sinaimg.cn/c...</td>\n",
       "      <td>[11, 15, 9, 10, 6, 50]</td>\n",
       "      <td>[['2014-02-27 15:50:00', 1], ['2014-02-27 16:0...</td>\n",
       "      <td>1</td>\n",
       "      <td>3682617154629867</td>\n",
       "      <td>['1820146213', '1820146213', '1810813871', '28...</td>\n",
       "      <td>2452301445</td>\n",
       "      <td>7.142302</td>\n",
       "      <td>101</td>\n",
       "      <td>true</td>\n",
       "      <td>7.142302</td>\n",
       "    </tr>\n",
       "    <tr>\n",
       "      <th>8935</th>\n",
       "      <td>8935</td>\n",
       "      <td>{'province': '36', 'weiboText': '冬已来临，红军长征首战之地...</td>\n",
       "      <td>{'3649638400238080': {'posttime': 'Thu Nov 28 ...</td>\n",
       "      <td>{'3875428303031304': 'http://tva4.sinaimg.cn/c...</td>\n",
       "      <td>[28, 18, 13, 12, 41, 27]</td>\n",
       "      <td>[['2013-11-22 23:40:00', 1], ['2013-11-22 23:5...</td>\n",
       "      <td>1</td>\n",
       "      <td>3647582574162746</td>\n",
       "      <td>['1870373790', '2919454934', '3044894654', '29...</td>\n",
       "      <td>1870373790</td>\n",
       "      <td>6.570401</td>\n",
       "      <td>139</td>\n",
       "      <td>true</td>\n",
       "      <td>6.570401</td>\n",
       "    </tr>\n",
       "    <tr>\n",
       "      <th>6427</th>\n",
       "      <td>6427</td>\n",
       "      <td>{'province': '36', 'weiboText': '冬已来临，红军长征首战之地...</td>\n",
       "      <td>{'3649638400238080': {'posttime': 'Thu Nov 28 ...</td>\n",
       "      <td>{'3875428303031304': 'http://tva4.sinaimg.cn/c...</td>\n",
       "      <td>[37, 17, 13, 33, 12, 27]</td>\n",
       "      <td>[['2013-11-22 23:40:00', 1], ['2013-11-22 23:5...</td>\n",
       "      <td>1</td>\n",
       "      <td>3647582574162746</td>\n",
       "      <td>['1870373790', '2919454934', '3044894654', '29...</td>\n",
       "      <td>1870373790</td>\n",
       "      <td>6.005961</td>\n",
       "      <td>139</td>\n",
       "      <td>true</td>\n",
       "      <td>6.005961</td>\n",
       "    </tr>\n",
       "    <tr>\n",
       "      <th>1780</th>\n",
       "      <td>1780</td>\n",
       "      <td>{'province': '31', 'weiboText': '——颜真卿《天下第二行书—...</td>\n",
       "      <td>{'3631910171357185': {'posttime': 'Thu Oct 10 ...</td>\n",
       "      <td>{'3875428303031304': 'http://tva4.sinaimg.cn/c...</td>\n",
       "      <td>[98, 123, 96, 61, 17, 132]</td>\n",
       "      <td>[['2013-07-09 06:50:00', 3], ['2013-07-09 07:0...</td>\n",
       "      <td>1</td>\n",
       "      <td>3598044794455087</td>\n",
       "      <td>['2332298854', '1606865154', '3160826872', '29...</td>\n",
       "      <td>2178771271</td>\n",
       "      <td>5.858181</td>\n",
       "      <td>527</td>\n",
       "      <td>true</td>\n",
       "      <td>5.858181</td>\n",
       "    </tr>\n",
       "    <tr>\n",
       "      <th>9890</th>\n",
       "      <td>9890</td>\n",
       "      <td>{'province': '31', 'weiboText': '【又一个朝鲜外交官投韩！从...</td>\n",
       "      <td>{'4011301396623360': {'posttime': 'Mon Aug 22 ...</td>\n",
       "      <td>{'4010120209906916': 'http://tva3.sinaimg.cn/c...</td>\n",
       "      <td>[211, 140, 58, 138, 51, 201]</td>\n",
       "      <td>[['2016-08-19 22:40:00', 6], ['2016-08-19 22:5...</td>\n",
       "      <td>1</td>\n",
       "      <td>4010318348420992</td>\n",
       "      <td>['5279755287', '1863597013', '5949888325', '19...</td>\n",
       "      <td>1926909715</td>\n",
       "      <td>5.762603</td>\n",
       "      <td>799</td>\n",
       "      <td>true</td>\n",
       "      <td>5.762603</td>\n",
       "    </tr>\n",
       "  </tbody>\n",
       "</table>\n",
       "</div>"
      ],
      "text/plain": [
       "      Unnamed: 0                                          authorDic  \\\n",
       "7561        7561  {'province': '37', 'weiboText': '孔子后裔，由家老二，母亲为...   \n",
       "8935        8935  {'province': '36', 'weiboText': '冬已来临，红军长征首战之地...   \n",
       "6427        6427  {'province': '36', 'weiboText': '冬已来临，红军长征首战之地...   \n",
       "1780        1780  {'province': '31', 'weiboText': '——颜真卿《天下第二行书—...   \n",
       "9890        9890  {'province': '31', 'weiboText': '【又一个朝鲜外交官投韩！从...   \n",
       "\n",
       "                                                  edges  \\\n",
       "7561  {'3688064088376407': {'posttime': 'Fri Mar 14 ...   \n",
       "8935  {'3649638400238080': {'posttime': 'Thu Nov 28 ...   \n",
       "6427  {'3649638400238080': {'posttime': 'Thu Nov 28 ...   \n",
       "1780  {'3631910171357185': {'posttime': 'Thu Oct 10 ...   \n",
       "9890  {'4011301396623360': {'posttime': 'Mon Aug 22 ...   \n",
       "\n",
       "                                                keyUser  \\\n",
       "7561  {'3875428303031304': 'http://tva4.sinaimg.cn/c...   \n",
       "8935  {'3875428303031304': 'http://tva4.sinaimg.cn/c...   \n",
       "6427  {'3875428303031304': 'http://tva4.sinaimg.cn/c...   \n",
       "1780  {'3875428303031304': 'http://tva4.sinaimg.cn/c...   \n",
       "9890  {'4010120209906916': 'http://tva3.sinaimg.cn/c...   \n",
       "\n",
       "                          layerNum  \\\n",
       "7561        [11, 15, 9, 10, 6, 50]   \n",
       "8935      [28, 18, 13, 12, 41, 27]   \n",
       "6427      [37, 17, 13, 33, 12, 27]   \n",
       "1780    [98, 123, 96, 61, 17, 132]   \n",
       "9890  [211, 140, 58, 138, 51, 201]   \n",
       "\n",
       "                                           rpsttimeline  status  \\\n",
       "7561  [['2014-02-27 15:50:00', 1], ['2014-02-27 16:0...       1   \n",
       "8935  [['2013-11-22 23:40:00', 1], ['2013-11-22 23:5...       1   \n",
       "6427  [['2013-11-22 23:40:00', 1], ['2013-11-22 23:5...       1   \n",
       "1780  [['2013-07-09 06:50:00', 3], ['2013-07-09 07:0...       1   \n",
       "9890  [['2016-08-19 22:40:00', 6], ['2016-08-19 22:5...       1   \n",
       "\n",
       "               weiboID                                    repost_user_ids  \\\n",
       "7561  3682617154629867  ['1820146213', '1820146213', '1810813871', '28...   \n",
       "8935  3647582574162746  ['1870373790', '2919454934', '3044894654', '29...   \n",
       "6427  3647582574162746  ['1870373790', '2919454934', '3044894654', '29...   \n",
       "1780  3598044794455087  ['2332298854', '1606865154', '3160826872', '29...   \n",
       "9890  4010318348420992  ['5279755287', '1863597013', '5949888325', '19...   \n",
       "\n",
       "              id  struc_virality  repostNum label  struc_varility_net  \n",
       "7561  2452301445        7.142302        101  true            7.142302  \n",
       "8935  1870373790        6.570401        139  true            6.570401  \n",
       "6427  1870373790        6.005961        139  true            6.005961  \n",
       "1780  2178771271        5.858181        527  true            5.858181  \n",
       "9890  1926909715        5.762603        799  true            5.762603  "
      ]
     },
     "execution_count": 2,
     "metadata": {},
     "output_type": "execute_result"
    }
   ],
   "source": [
    "true_news.sort_values(['struc_virality'], ascending=False).head()"
   ]
  },
  {
   "cell_type": "code",
   "execution_count": 11,
   "metadata": {
    "scrolled": true
   },
   "outputs": [
    {
     "data": {
      "text/html": [
       "<div>\n",
       "<style scoped>\n",
       "    .dataframe tbody tr th:only-of-type {\n",
       "        vertical-align: middle;\n",
       "    }\n",
       "\n",
       "    .dataframe tbody tr th {\n",
       "        vertical-align: top;\n",
       "    }\n",
       "\n",
       "    .dataframe thead th {\n",
       "        text-align: right;\n",
       "    }\n",
       "</style>\n",
       "<table border=\"1\" class=\"dataframe\">\n",
       "  <thead>\n",
       "    <tr style=\"text-align: right;\">\n",
       "      <th></th>\n",
       "      <th>authorDic</th>\n",
       "      <th>edges</th>\n",
       "      <th>keyUser</th>\n",
       "      <th>layerNum</th>\n",
       "      <th>rpsttimeline</th>\n",
       "      <th>status</th>\n",
       "      <th>weiboID</th>\n",
       "      <th>repost_user_ids</th>\n",
       "      <th>id</th>\n",
       "      <th>struc_virality</th>\n",
       "      <th>repostNum</th>\n",
       "      <th>label</th>\n",
       "      <th>struc_varility_net</th>\n",
       "      <th>friends_count</th>\n",
       "      <th>followers_count</th>\n",
       "      <th>gender</th>\n",
       "      <th>L_user_ratio</th>\n",
       "    </tr>\n",
       "  </thead>\n",
       "  <tbody>\n",
       "    <tr>\n",
       "      <th>14724</th>\n",
       "      <td>{'province': '44', 'weiboText': '中国的红十字会啊', 's...</td>\n",
       "      <td>{'3570016064722944': {'posttime': 'Mon Apr 22 ...</td>\n",
       "      <td>{'3707588698482624': 'http://tva3.sinaimg.cn/c...</td>\n",
       "      <td>[45, 26, 23, 25, 18, 69]</td>\n",
       "      <td>[['2013-04-22 13:20:00', 0], ['2013-04-22 13:3...</td>\n",
       "      <td>1</td>\n",
       "      <td>3569876888998921</td>\n",
       "      <td>['1783979633', '1777008171', '1464872853', '17...</td>\n",
       "      <td>1401401141</td>\n",
       "      <td>9.894752</td>\n",
       "      <td>206</td>\n",
       "      <td>fake</td>\n",
       "      <td>9.894752</td>\n",
       "      <td>105</td>\n",
       "      <td>246</td>\n",
       "      <td>m</td>\n",
       "      <td>0.932367</td>\n",
       "    </tr>\n",
       "    <tr>\n",
       "      <th>21691</th>\n",
       "      <td>{'province': '51', 'weiboText': '小日本拍的《贞子》3D将于...</td>\n",
       "      <td>{'3487232868556800': {'posttime': 'Thu Sep 06 ...</td>\n",
       "      <td>{'3569253246296466': 'http://tva4.sinaimg.cn/c...</td>\n",
       "      <td>[110, 57, 42, 24, 18, 94]</td>\n",
       "      <td>[['2012-09-05 09:00:00', 0], ['2012-09-05 09:1...</td>\n",
       "      <td>1</td>\n",
       "      <td>3486823567383831</td>\n",
       "      <td>['2820237402', '2477348861', '1410465107', '17...</td>\n",
       "      <td>2866275992</td>\n",
       "      <td>9.028818</td>\n",
       "      <td>345</td>\n",
       "      <td>fake</td>\n",
       "      <td>9.028818</td>\n",
       "      <td>2481</td>\n",
       "      <td>231845</td>\n",
       "      <td>m</td>\n",
       "      <td>0.476879</td>\n",
       "    </tr>\n",
       "    <tr>\n",
       "      <th>21067</th>\n",
       "      <td>{'province': '31', 'weiboText': '家乐福发生突发事件，营业时...</td>\n",
       "      <td>{'3522113980067840': {'posttime': 'Tue Dec 11 ...</td>\n",
       "      <td>{'3716316936524173': 'http://tp2.sinaimg.cn/25...</td>\n",
       "      <td>[314, 236, 108, 92, 70, 323]</td>\n",
       "      <td>[['2012-12-11 14:40:00', 0], ['2012-12-11 14:5...</td>\n",
       "      <td>1</td>\n",
       "      <td>3522062138528886</td>\n",
       "      <td>['1729344570', '1905834601', '1959098991', '18...</td>\n",
       "      <td>2548683090</td>\n",
       "      <td>8.860115</td>\n",
       "      <td>1143</td>\n",
       "      <td>fake</td>\n",
       "      <td>8.860115</td>\n",
       "      <td>191</td>\n",
       "      <td>150</td>\n",
       "      <td>m</td>\n",
       "      <td>0.836879</td>\n",
       "    </tr>\n",
       "    <tr>\n",
       "      <th>19396</th>\n",
       "      <td>{'province': '81', 'weiboText': '兰州拉面不能吃了！南京电视...</td>\n",
       "      <td>{'3692051457887232': {'posttime': 'Tue Mar 25 ...</td>\n",
       "      <td>{'3716316936524173': 'http://tp2.sinaimg.cn/25...</td>\n",
       "      <td>[91, 62, 49, 64, 51, 551]</td>\n",
       "      <td>[['2014-03-24 23:20:00', 15], ['2014-03-24 23:...</td>\n",
       "      <td>1</td>\n",
       "      <td>3691788764481838</td>\n",
       "      <td>['2790788073', '1785341924', '1656348941', '33...</td>\n",
       "      <td>2790788073</td>\n",
       "      <td>8.546669</td>\n",
       "      <td>868</td>\n",
       "      <td>fake</td>\n",
       "      <td>8.546669</td>\n",
       "      <td>1942</td>\n",
       "      <td>2878</td>\n",
       "      <td>m</td>\n",
       "      <td>0.322093</td>\n",
       "    </tr>\n",
       "    <tr>\n",
       "      <th>17085</th>\n",
       "      <td>{'province': '400', 'weiboText': '[吃惊] 21日中午12...</td>\n",
       "      <td>{'3536989271977986': {'posttime': 'Mon Jan 21 ...</td>\n",
       "      <td>{'3707588698482624': 'http://tva3.sinaimg.cn/c...</td>\n",
       "      <td>[39, 28, 17, 12, 14, 68]</td>\n",
       "      <td>[['2013-01-21 17:00:00', 1], ['2013-01-21 17:1...</td>\n",
       "      <td>1</td>\n",
       "      <td>3536955071341823</td>\n",
       "      <td>['1654229223', '1806308760', '1802672284', '29...</td>\n",
       "      <td>1405070292</td>\n",
       "      <td>8.521625</td>\n",
       "      <td>178</td>\n",
       "      <td>fake</td>\n",
       "      <td>8.521625</td>\n",
       "      <td>1614</td>\n",
       "      <td>466</td>\n",
       "      <td>m</td>\n",
       "      <td>0.787709</td>\n",
       "    </tr>\n",
       "    <tr>\n",
       "      <th>21163</th>\n",
       "      <td>{'province': '65', 'weiboText': '这个小女孩是维吾尔族，五岁...</td>\n",
       "      <td>{'3515834687414273': {'posttime': 'Sat Nov 24 ...</td>\n",
       "      <td>{'3569253246296466': 'http://tva4.sinaimg.cn/c...</td>\n",
       "      <td>[753, 403, 147, 102, 38, 409]</td>\n",
       "      <td>[['2012-11-23 18:40:00', 3], ['2012-11-23 18:5...</td>\n",
       "      <td>1</td>\n",
       "      <td>3515599471078260</td>\n",
       "      <td>['2118159847', '2920070154', '1990690071', '17...</td>\n",
       "      <td>2374897285</td>\n",
       "      <td>8.460518</td>\n",
       "      <td>1852</td>\n",
       "      <td>fake</td>\n",
       "      <td>8.460518</td>\n",
       "      <td>2103</td>\n",
       "      <td>27317</td>\n",
       "      <td>m</td>\n",
       "      <td>0.725938</td>\n",
       "    </tr>\n",
       "    <tr>\n",
       "      <th>20991</th>\n",
       "      <td>{'province': '11', 'weiboText': '@邓飞 先生，您好！有网友...</td>\n",
       "      <td>{'3528716741429248': {'posttime': 'Sat Dec 29 ...</td>\n",
       "      <td>{'3716316936524173': 'http://tp2.sinaimg.cn/25...</td>\n",
       "      <td>[95, 48, 21, 11, 8, 63]</td>\n",
       "      <td>[['2012-12-28 17:20:00', 0], ['2012-12-28 17:3...</td>\n",
       "      <td>1</td>\n",
       "      <td>3528263013563152</td>\n",
       "      <td>['2479671597', '1742411904', '1213622733', '16...</td>\n",
       "      <td>1813610770</td>\n",
       "      <td>8.426977</td>\n",
       "      <td>246</td>\n",
       "      <td>fake</td>\n",
       "      <td>8.426977</td>\n",
       "      <td>433</td>\n",
       "      <td>35504</td>\n",
       "      <td>m</td>\n",
       "      <td>0.303644</td>\n",
       "    </tr>\n",
       "    <tr>\n",
       "      <th>20181</th>\n",
       "      <td>{'province': '31', 'weiboText': '中国的同胞们：中国电影《金...</td>\n",
       "      <td>{'3571607907788804': {'posttime': 'Sat Apr 27 ...</td>\n",
       "      <td>{'3716316936524173': 'http://tp2.sinaimg.cn/25...</td>\n",
       "      <td>[81, 52, 24, 29, 28, 128]</td>\n",
       "      <td>[['2013-04-26 22:20:00', 0], ['2013-04-26 22:3...</td>\n",
       "      <td>1</td>\n",
       "      <td>3571462713599109</td>\n",
       "      <td>['1653083140', '2789617421', '3196541343', '18...</td>\n",
       "      <td>2789617421</td>\n",
       "      <td>8.346683</td>\n",
       "      <td>342</td>\n",
       "      <td>fake</td>\n",
       "      <td>8.346683</td>\n",
       "      <td>2000</td>\n",
       "      <td>4481</td>\n",
       "      <td>m</td>\n",
       "      <td>0.459064</td>\n",
       "    </tr>\n",
       "    <tr>\n",
       "      <th>21045</th>\n",
       "      <td>{'province': '44', 'weiboText': '家乐福发生突发事件，营业时...</td>\n",
       "      <td>{'3522742156166660': {'posttime': 'Thu Dec 13 ...</td>\n",
       "      <td>{'3716316936524173': 'http://tp2.sinaimg.cn/25...</td>\n",
       "      <td>[15, 12, 13, 5, 4, 47]</td>\n",
       "      <td>[['2012-12-12 10:10:00', 0], ['2012-12-12 10:2...</td>\n",
       "      <td>1</td>\n",
       "      <td>3522354544438062</td>\n",
       "      <td>['1768848134', '1834678821', '1919631044', '21...</td>\n",
       "      <td>2003958985</td>\n",
       "      <td>8.198883</td>\n",
       "      <td>96</td>\n",
       "      <td>fake</td>\n",
       "      <td>8.198883</td>\n",
       "      <td>542</td>\n",
       "      <td>145</td>\n",
       "      <td>f</td>\n",
       "      <td>0.958763</td>\n",
       "    </tr>\n",
       "    <tr>\n",
       "      <th>21500</th>\n",
       "      <td>{'province': '21', 'weiboText': '世界上最恶劣的村民 就在中...</td>\n",
       "      <td>{'3494197837744128': {'posttime': 'Tue Sep 25 ...</td>\n",
       "      <td>{'3569253246296466': 'http://tva4.sinaimg.cn/c...</td>\n",
       "      <td>[170, 101, 77, 62, 43, 180]</td>\n",
       "      <td>[['2012-09-23 12:40:00', 1], ['2012-09-23 12:5...</td>\n",
       "      <td>1</td>\n",
       "      <td>3493401536294919</td>\n",
       "      <td>['2127797411', '1998919983', '2203545154', '17...</td>\n",
       "      <td>1238019837</td>\n",
       "      <td>8.192414</td>\n",
       "      <td>633</td>\n",
       "      <td>fake</td>\n",
       "      <td>8.192414</td>\n",
       "      <td>1337</td>\n",
       "      <td>12230</td>\n",
       "      <td>m</td>\n",
       "      <td>0.655008</td>\n",
       "    </tr>\n",
       "    <tr>\n",
       "      <th>12249</th>\n",
       "      <td>{'province': '81', 'weiboText': '全球发出紧急警示，赶紧扩散...</td>\n",
       "      <td>{'3684542361366530': {'posttime': 'Tue Mar 04 ...</td>\n",
       "      <td>{'3707588698482624': 'http://tva3.sinaimg.cn/c...</td>\n",
       "      <td>[41, 49, 40, 39, 62, 219]</td>\n",
       "      <td>[['2014-03-04 22:20:00', 2], ['2014-03-04 22:3...</td>\n",
       "      <td>1</td>\n",
       "      <td>3684526800267299</td>\n",
       "      <td>['2790788073', '1616536932', '2790788073', '27...</td>\n",
       "      <td>2790788073</td>\n",
       "      <td>8.163942</td>\n",
       "      <td>450</td>\n",
       "      <td>fake</td>\n",
       "      <td>8.163942</td>\n",
       "      <td>1944</td>\n",
       "      <td>2878</td>\n",
       "      <td>m</td>\n",
       "      <td>0.330357</td>\n",
       "    </tr>\n",
       "    <tr>\n",
       "      <th>16675</th>\n",
       "      <td>{'province': '12', 'weiboText': '李双江之子李天一涉嫌强奸罪...</td>\n",
       "      <td>{'3553743117253635': {'posttime': 'Sat Mar 09 ...</td>\n",
       "      <td>{'3707588698482624': 'http://tva3.sinaimg.cn/c...</td>\n",
       "      <td>[51, 43, 19, 18, 14, 82]</td>\n",
       "      <td>[['2013-03-08 20:40:00', 2], ['2013-03-08 20:5...</td>\n",
       "      <td>1</td>\n",
       "      <td>3553679880123943</td>\n",
       "      <td>['1650001687', '2398799474', '2525118763', '18...</td>\n",
       "      <td>2755757383</td>\n",
       "      <td>8.013525</td>\n",
       "      <td>227</td>\n",
       "      <td>fake</td>\n",
       "      <td>8.013525</td>\n",
       "      <td>2546</td>\n",
       "      <td>351188</td>\n",
       "      <td>f</td>\n",
       "      <td>0.847534</td>\n",
       "    </tr>\n",
       "    <tr>\n",
       "      <th>20997</th>\n",
       "      <td>{'province': '31', 'weiboText': '家乐福发生突发事件，营业时...</td>\n",
       "      <td>{'3523392852357122': {'posttime': 'Sat Dec 15 ...</td>\n",
       "      <td>{'3716316936524173': 'http://tp2.sinaimg.cn/25...</td>\n",
       "      <td>[87, 65, 53, 41, 32, 93]</td>\n",
       "      <td>[['2012-12-12 23:50:00', 2], ['2012-12-13 00:0...</td>\n",
       "      <td>1</td>\n",
       "      <td>3522560832097653</td>\n",
       "      <td>['2789805152', '2919536782', '2594109762', '19...</td>\n",
       "      <td>1908650385</td>\n",
       "      <td>7.970292</td>\n",
       "      <td>371</td>\n",
       "      <td>fake</td>\n",
       "      <td>7.970292</td>\n",
       "      <td>283</td>\n",
       "      <td>884</td>\n",
       "      <td>f</td>\n",
       "      <td>0.932432</td>\n",
       "    </tr>\n",
       "    <tr>\n",
       "      <th>16318</th>\n",
       "      <td>{'province': '32', 'weiboText': '太可怕了，今年3.15又有...</td>\n",
       "      <td>{'3555357789925376': {'posttime': 'Wed Mar 13 ...</td>\n",
       "      <td>{'3707588698482624': 'http://tva3.sinaimg.cn/c...</td>\n",
       "      <td>[86, 33, 27, 18, 30, 105]</td>\n",
       "      <td>[['2013-03-12 11:00:00', 1], ['2013-03-12 11:1...</td>\n",
       "      <td>1</td>\n",
       "      <td>3554982156128981</td>\n",
       "      <td>['2607987824', '1853755843', '1941184924', '18...</td>\n",
       "      <td>2871354341</td>\n",
       "      <td>7.959710</td>\n",
       "      <td>299</td>\n",
       "      <td>fake</td>\n",
       "      <td>7.959710</td>\n",
       "      <td>1163</td>\n",
       "      <td>42511</td>\n",
       "      <td>m</td>\n",
       "      <td>0.434783</td>\n",
       "    </tr>\n",
       "    <tr>\n",
       "      <th>13170</th>\n",
       "      <td>{'province': '33', 'weiboText': '浙江磐安人工降雨失误，竟然...</td>\n",
       "      <td>{'3612716570501128': {'posttime': 'Sun Aug 18 ...</td>\n",
       "      <td>{'3707588698482624': 'http://tva3.sinaimg.cn/c...</td>\n",
       "      <td>[298, 211, 180, 190, 183, 865]</td>\n",
       "      <td>[['2013-08-16 19:10:00', 0], ['2013-08-16 19:2...</td>\n",
       "      <td>1</td>\n",
       "      <td>3612002058747899</td>\n",
       "      <td>['2602429542', '1700030004', '2328058474', '21...</td>\n",
       "      <td>1781633602</td>\n",
       "      <td>7.918750</td>\n",
       "      <td>1927</td>\n",
       "      <td>fake</td>\n",
       "      <td>7.918750</td>\n",
       "      <td>1998</td>\n",
       "      <td>20834</td>\n",
       "      <td>m</td>\n",
       "      <td>0.745701</td>\n",
       "    </tr>\n",
       "    <tr>\n",
       "      <th>21053</th>\n",
       "      <td>{'province': '31', 'weiboText': '家乐福发生突发事件：营业时...</td>\n",
       "      <td>{'3522152428952064': {'posttime': 'Tue Dec 11 ...</td>\n",
       "      <td>{'3716316936524173': 'http://tp2.sinaimg.cn/25...</td>\n",
       "      <td>[74, 61, 33, 29, 30, 99]</td>\n",
       "      <td>[['2012-12-11 11:50:00', 0], ['2012-12-11 12:0...</td>\n",
       "      <td>1</td>\n",
       "      <td>3522018735330496</td>\n",
       "      <td>['2920599614', '2920549622', '1769893987', '26...</td>\n",
       "      <td>1257324684</td>\n",
       "      <td>7.820078</td>\n",
       "      <td>326</td>\n",
       "      <td>fake</td>\n",
       "      <td>7.820078</td>\n",
       "      <td>350</td>\n",
       "      <td>969</td>\n",
       "      <td>f</td>\n",
       "      <td>0.923313</td>\n",
       "    </tr>\n",
       "    <tr>\n",
       "      <th>21776</th>\n",
       "      <td>{'province': '11', 'weiboText': '中国人拍的《金陵十三钗》小...</td>\n",
       "      <td>{'3488265606692867': {'posttime': 'Sun Sep 09 ...</td>\n",
       "      <td>{'3569253246296466': 'http://tva4.sinaimg.cn/c...</td>\n",
       "      <td>[88, 67, 71, 66, 56, 110]</td>\n",
       "      <td>[['2012-09-07 12:20:00', 0], ['2012-09-07 12:3...</td>\n",
       "      <td>1</td>\n",
       "      <td>3487598217156734</td>\n",
       "      <td>['2537118333', '1628974071', '2249126855', '11...</td>\n",
       "      <td>2062383175</td>\n",
       "      <td>7.769957</td>\n",
       "      <td>458</td>\n",
       "      <td>fake</td>\n",
       "      <td>7.769957</td>\n",
       "      <td>406</td>\n",
       "      <td>1113</td>\n",
       "      <td>m</td>\n",
       "      <td>0.901316</td>\n",
       "    </tr>\n",
       "    <tr>\n",
       "      <th>20578</th>\n",
       "      <td>{'province': '11', 'weiboText': '人性已经崩溃到最低点了，婴...</td>\n",
       "      <td>{'3554271310563331': {'posttime': 'Sun Mar 10 ...</td>\n",
       "      <td>{'3716316936524173': 'http://tp2.sinaimg.cn/25...</td>\n",
       "      <td>[330, 183, 92, 53, 41, 297]</td>\n",
       "      <td>[['2013-03-10 01:30:00', 3], ['2013-03-10 01:4...</td>\n",
       "      <td>1</td>\n",
       "      <td>3554114233283397</td>\n",
       "      <td>['1610383232', '2689735804', '2980206731', '16...</td>\n",
       "      <td>2711326375</td>\n",
       "      <td>7.748120</td>\n",
       "      <td>996</td>\n",
       "      <td>fake</td>\n",
       "      <td>7.748120</td>\n",
       "      <td>460</td>\n",
       "      <td>2444</td>\n",
       "      <td>f</td>\n",
       "      <td>0.564206</td>\n",
       "    </tr>\n",
       "    <tr>\n",
       "      <th>21040</th>\n",
       "      <td>{'province': '44', 'weiboText': '请各家长注意：家乐福发生突...</td>\n",
       "      <td>{'3522534437836803': {'posttime': 'Wed Dec 12 ...</td>\n",
       "      <td>{'3716316936524173': 'http://tp2.sinaimg.cn/25...</td>\n",
       "      <td>[26, 25, 28, 26, 11, 42]</td>\n",
       "      <td>[['2012-12-12 18:00:00', 0], ['2012-12-12 18:1...</td>\n",
       "      <td>1</td>\n",
       "      <td>3522474987333819</td>\n",
       "      <td>['1722240997', '1866242767', '1764718880', '17...</td>\n",
       "      <td>1893523967</td>\n",
       "      <td>7.725340</td>\n",
       "      <td>158</td>\n",
       "      <td>fake</td>\n",
       "      <td>7.725340</td>\n",
       "      <td>181</td>\n",
       "      <td>244</td>\n",
       "      <td>f</td>\n",
       "      <td>0.899371</td>\n",
       "    </tr>\n",
       "    <tr>\n",
       "      <th>18712</th>\n",
       "      <td>{'province': '32', 'weiboText': '中国人拍的《金陵十三钗》小...</td>\n",
       "      <td>{'3487614768646486': {'posttime': 'Fri Sep 07 ...</td>\n",
       "      <td>{'3534891721142542': 'http://tva2.sinaimg.cn/c...</td>\n",
       "      <td>[11, 10, 8, 7, 6, 40]</td>\n",
       "      <td>[['2012-09-05 19:50:00', 0], ['2012-09-05 20:0...</td>\n",
       "      <td>1</td>\n",
       "      <td>3486986402905181</td>\n",
       "      <td>['2096490321', '1892161855', '1889092330', '14...</td>\n",
       "      <td>2160110347</td>\n",
       "      <td>7.696150</td>\n",
       "      <td>82</td>\n",
       "      <td>fake</td>\n",
       "      <td>7.696150</td>\n",
       "      <td>88</td>\n",
       "      <td>131</td>\n",
       "      <td>f</td>\n",
       "      <td>0.878049</td>\n",
       "    </tr>\n",
       "  </tbody>\n",
       "</table>\n",
       "</div>"
      ],
      "text/plain": [
       "                                               authorDic  \\\n",
       "14724  {'province': '44', 'weiboText': '中国的红十字会啊', 's...   \n",
       "21691  {'province': '51', 'weiboText': '小日本拍的《贞子》3D将于...   \n",
       "21067  {'province': '31', 'weiboText': '家乐福发生突发事件，营业时...   \n",
       "19396  {'province': '81', 'weiboText': '兰州拉面不能吃了！南京电视...   \n",
       "17085  {'province': '400', 'weiboText': '[吃惊] 21日中午12...   \n",
       "21163  {'province': '65', 'weiboText': '这个小女孩是维吾尔族，五岁...   \n",
       "20991  {'province': '11', 'weiboText': '@邓飞 先生，您好！有网友...   \n",
       "20181  {'province': '31', 'weiboText': '中国的同胞们：中国电影《金...   \n",
       "21045  {'province': '44', 'weiboText': '家乐福发生突发事件，营业时...   \n",
       "21500  {'province': '21', 'weiboText': '世界上最恶劣的村民 就在中...   \n",
       "12249  {'province': '81', 'weiboText': '全球发出紧急警示，赶紧扩散...   \n",
       "16675  {'province': '12', 'weiboText': '李双江之子李天一涉嫌强奸罪...   \n",
       "20997  {'province': '31', 'weiboText': '家乐福发生突发事件，营业时...   \n",
       "16318  {'province': '32', 'weiboText': '太可怕了，今年3.15又有...   \n",
       "13170  {'province': '33', 'weiboText': '浙江磐安人工降雨失误，竟然...   \n",
       "21053  {'province': '31', 'weiboText': '家乐福发生突发事件：营业时...   \n",
       "21776  {'province': '11', 'weiboText': '中国人拍的《金陵十三钗》小...   \n",
       "20578  {'province': '11', 'weiboText': '人性已经崩溃到最低点了，婴...   \n",
       "21040  {'province': '44', 'weiboText': '请各家长注意：家乐福发生突...   \n",
       "18712  {'province': '32', 'weiboText': '中国人拍的《金陵十三钗》小...   \n",
       "\n",
       "                                                   edges  \\\n",
       "14724  {'3570016064722944': {'posttime': 'Mon Apr 22 ...   \n",
       "21691  {'3487232868556800': {'posttime': 'Thu Sep 06 ...   \n",
       "21067  {'3522113980067840': {'posttime': 'Tue Dec 11 ...   \n",
       "19396  {'3692051457887232': {'posttime': 'Tue Mar 25 ...   \n",
       "17085  {'3536989271977986': {'posttime': 'Mon Jan 21 ...   \n",
       "21163  {'3515834687414273': {'posttime': 'Sat Nov 24 ...   \n",
       "20991  {'3528716741429248': {'posttime': 'Sat Dec 29 ...   \n",
       "20181  {'3571607907788804': {'posttime': 'Sat Apr 27 ...   \n",
       "21045  {'3522742156166660': {'posttime': 'Thu Dec 13 ...   \n",
       "21500  {'3494197837744128': {'posttime': 'Tue Sep 25 ...   \n",
       "12249  {'3684542361366530': {'posttime': 'Tue Mar 04 ...   \n",
       "16675  {'3553743117253635': {'posttime': 'Sat Mar 09 ...   \n",
       "20997  {'3523392852357122': {'posttime': 'Sat Dec 15 ...   \n",
       "16318  {'3555357789925376': {'posttime': 'Wed Mar 13 ...   \n",
       "13170  {'3612716570501128': {'posttime': 'Sun Aug 18 ...   \n",
       "21053  {'3522152428952064': {'posttime': 'Tue Dec 11 ...   \n",
       "21776  {'3488265606692867': {'posttime': 'Sun Sep 09 ...   \n",
       "20578  {'3554271310563331': {'posttime': 'Sun Mar 10 ...   \n",
       "21040  {'3522534437836803': {'posttime': 'Wed Dec 12 ...   \n",
       "18712  {'3487614768646486': {'posttime': 'Fri Sep 07 ...   \n",
       "\n",
       "                                                 keyUser  \\\n",
       "14724  {'3707588698482624': 'http://tva3.sinaimg.cn/c...   \n",
       "21691  {'3569253246296466': 'http://tva4.sinaimg.cn/c...   \n",
       "21067  {'3716316936524173': 'http://tp2.sinaimg.cn/25...   \n",
       "19396  {'3716316936524173': 'http://tp2.sinaimg.cn/25...   \n",
       "17085  {'3707588698482624': 'http://tva3.sinaimg.cn/c...   \n",
       "21163  {'3569253246296466': 'http://tva4.sinaimg.cn/c...   \n",
       "20991  {'3716316936524173': 'http://tp2.sinaimg.cn/25...   \n",
       "20181  {'3716316936524173': 'http://tp2.sinaimg.cn/25...   \n",
       "21045  {'3716316936524173': 'http://tp2.sinaimg.cn/25...   \n",
       "21500  {'3569253246296466': 'http://tva4.sinaimg.cn/c...   \n",
       "12249  {'3707588698482624': 'http://tva3.sinaimg.cn/c...   \n",
       "16675  {'3707588698482624': 'http://tva3.sinaimg.cn/c...   \n",
       "20997  {'3716316936524173': 'http://tp2.sinaimg.cn/25...   \n",
       "16318  {'3707588698482624': 'http://tva3.sinaimg.cn/c...   \n",
       "13170  {'3707588698482624': 'http://tva3.sinaimg.cn/c...   \n",
       "21053  {'3716316936524173': 'http://tp2.sinaimg.cn/25...   \n",
       "21776  {'3569253246296466': 'http://tva4.sinaimg.cn/c...   \n",
       "20578  {'3716316936524173': 'http://tp2.sinaimg.cn/25...   \n",
       "21040  {'3716316936524173': 'http://tp2.sinaimg.cn/25...   \n",
       "18712  {'3534891721142542': 'http://tva2.sinaimg.cn/c...   \n",
       "\n",
       "                             layerNum  \\\n",
       "14724        [45, 26, 23, 25, 18, 69]   \n",
       "21691       [110, 57, 42, 24, 18, 94]   \n",
       "21067    [314, 236, 108, 92, 70, 323]   \n",
       "19396       [91, 62, 49, 64, 51, 551]   \n",
       "17085        [39, 28, 17, 12, 14, 68]   \n",
       "21163   [753, 403, 147, 102, 38, 409]   \n",
       "20991         [95, 48, 21, 11, 8, 63]   \n",
       "20181       [81, 52, 24, 29, 28, 128]   \n",
       "21045          [15, 12, 13, 5, 4, 47]   \n",
       "21500     [170, 101, 77, 62, 43, 180]   \n",
       "12249       [41, 49, 40, 39, 62, 219]   \n",
       "16675        [51, 43, 19, 18, 14, 82]   \n",
       "20997        [87, 65, 53, 41, 32, 93]   \n",
       "16318       [86, 33, 27, 18, 30, 105]   \n",
       "13170  [298, 211, 180, 190, 183, 865]   \n",
       "21053        [74, 61, 33, 29, 30, 99]   \n",
       "21776       [88, 67, 71, 66, 56, 110]   \n",
       "20578     [330, 183, 92, 53, 41, 297]   \n",
       "21040        [26, 25, 28, 26, 11, 42]   \n",
       "18712           [11, 10, 8, 7, 6, 40]   \n",
       "\n",
       "                                            rpsttimeline  status  \\\n",
       "14724  [['2013-04-22 13:20:00', 0], ['2013-04-22 13:3...       1   \n",
       "21691  [['2012-09-05 09:00:00', 0], ['2012-09-05 09:1...       1   \n",
       "21067  [['2012-12-11 14:40:00', 0], ['2012-12-11 14:5...       1   \n",
       "19396  [['2014-03-24 23:20:00', 15], ['2014-03-24 23:...       1   \n",
       "17085  [['2013-01-21 17:00:00', 1], ['2013-01-21 17:1...       1   \n",
       "21163  [['2012-11-23 18:40:00', 3], ['2012-11-23 18:5...       1   \n",
       "20991  [['2012-12-28 17:20:00', 0], ['2012-12-28 17:3...       1   \n",
       "20181  [['2013-04-26 22:20:00', 0], ['2013-04-26 22:3...       1   \n",
       "21045  [['2012-12-12 10:10:00', 0], ['2012-12-12 10:2...       1   \n",
       "21500  [['2012-09-23 12:40:00', 1], ['2012-09-23 12:5...       1   \n",
       "12249  [['2014-03-04 22:20:00', 2], ['2014-03-04 22:3...       1   \n",
       "16675  [['2013-03-08 20:40:00', 2], ['2013-03-08 20:5...       1   \n",
       "20997  [['2012-12-12 23:50:00', 2], ['2012-12-13 00:0...       1   \n",
       "16318  [['2013-03-12 11:00:00', 1], ['2013-03-12 11:1...       1   \n",
       "13170  [['2013-08-16 19:10:00', 0], ['2013-08-16 19:2...       1   \n",
       "21053  [['2012-12-11 11:50:00', 0], ['2012-12-11 12:0...       1   \n",
       "21776  [['2012-09-07 12:20:00', 0], ['2012-09-07 12:3...       1   \n",
       "20578  [['2013-03-10 01:30:00', 3], ['2013-03-10 01:4...       1   \n",
       "21040  [['2012-12-12 18:00:00', 0], ['2012-12-12 18:1...       1   \n",
       "18712  [['2012-09-05 19:50:00', 0], ['2012-09-05 20:0...       1   \n",
       "\n",
       "                weiboID                                    repost_user_ids  \\\n",
       "14724  3569876888998921  ['1783979633', '1777008171', '1464872853', '17...   \n",
       "21691  3486823567383831  ['2820237402', '2477348861', '1410465107', '17...   \n",
       "21067  3522062138528886  ['1729344570', '1905834601', '1959098991', '18...   \n",
       "19396  3691788764481838  ['2790788073', '1785341924', '1656348941', '33...   \n",
       "17085  3536955071341823  ['1654229223', '1806308760', '1802672284', '29...   \n",
       "21163  3515599471078260  ['2118159847', '2920070154', '1990690071', '17...   \n",
       "20991  3528263013563152  ['2479671597', '1742411904', '1213622733', '16...   \n",
       "20181  3571462713599109  ['1653083140', '2789617421', '3196541343', '18...   \n",
       "21045  3522354544438062  ['1768848134', '1834678821', '1919631044', '21...   \n",
       "21500  3493401536294919  ['2127797411', '1998919983', '2203545154', '17...   \n",
       "12249  3684526800267299  ['2790788073', '1616536932', '2790788073', '27...   \n",
       "16675  3553679880123943  ['1650001687', '2398799474', '2525118763', '18...   \n",
       "20997  3522560832097653  ['2789805152', '2919536782', '2594109762', '19...   \n",
       "16318  3554982156128981  ['2607987824', '1853755843', '1941184924', '18...   \n",
       "13170  3612002058747899  ['2602429542', '1700030004', '2328058474', '21...   \n",
       "21053  3522018735330496  ['2920599614', '2920549622', '1769893987', '26...   \n",
       "21776  3487598217156734  ['2537118333', '1628974071', '2249126855', '11...   \n",
       "20578  3554114233283397  ['1610383232', '2689735804', '2980206731', '16...   \n",
       "21040  3522474987333819  ['1722240997', '1866242767', '1764718880', '17...   \n",
       "18712  3486986402905181  ['2096490321', '1892161855', '1889092330', '14...   \n",
       "\n",
       "               id  struc_virality  repostNum label  struc_varility_net  \\\n",
       "14724  1401401141        9.894752        206  fake            9.894752   \n",
       "21691  2866275992        9.028818        345  fake            9.028818   \n",
       "21067  2548683090        8.860115       1143  fake            8.860115   \n",
       "19396  2790788073        8.546669        868  fake            8.546669   \n",
       "17085  1405070292        8.521625        178  fake            8.521625   \n",
       "21163  2374897285        8.460518       1852  fake            8.460518   \n",
       "20991  1813610770        8.426977        246  fake            8.426977   \n",
       "20181  2789617421        8.346683        342  fake            8.346683   \n",
       "21045  2003958985        8.198883         96  fake            8.198883   \n",
       "21500  1238019837        8.192414        633  fake            8.192414   \n",
       "12249  2790788073        8.163942        450  fake            8.163942   \n",
       "16675  2755757383        8.013525        227  fake            8.013525   \n",
       "20997  1908650385        7.970292        371  fake            7.970292   \n",
       "16318  2871354341        7.959710        299  fake            7.959710   \n",
       "13170  1781633602        7.918750       1927  fake            7.918750   \n",
       "21053  1257324684        7.820078        326  fake            7.820078   \n",
       "21776  2062383175        7.769957        458  fake            7.769957   \n",
       "20578  2711326375        7.748120        996  fake            7.748120   \n",
       "21040  1893523967        7.725340        158  fake            7.725340   \n",
       "18712  2160110347        7.696150         82  fake            7.696150   \n",
       "\n",
       "       friends_count  followers_count gender  L_user_ratio  \n",
       "14724            105              246      m      0.932367  \n",
       "21691           2481           231845      m      0.476879  \n",
       "21067            191              150      m      0.836879  \n",
       "19396           1942             2878      m      0.322093  \n",
       "17085           1614              466      m      0.787709  \n",
       "21163           2103            27317      m      0.725938  \n",
       "20991            433            35504      m      0.303644  \n",
       "20181           2000             4481      m      0.459064  \n",
       "21045            542              145      f      0.958763  \n",
       "21500           1337            12230      m      0.655008  \n",
       "12249           1944             2878      m      0.330357  \n",
       "16675           2546           351188      f      0.847534  \n",
       "20997            283              884      f      0.932432  \n",
       "16318           1163            42511      m      0.434783  \n",
       "13170           1998            20834      m      0.745701  \n",
       "21053            350              969      f      0.923313  \n",
       "21776            406             1113      m      0.901316  \n",
       "20578            460             2444      f      0.564206  \n",
       "21040            181              244      f      0.899371  \n",
       "18712             88              131      f      0.878049  "
      ]
     },
     "execution_count": 11,
     "metadata": {},
     "output_type": "execute_result"
    }
   ],
   "source": [
    "fake_news.sort_values(['struc_virality'], ascending=False).head(20)"
   ]
  },
  {
   "cell_type": "code",
   "execution_count": null,
   "metadata": {},
   "outputs": [],
   "source": [
    "true_news[true_news['struc_virality']<2].sort_values(['repostNum'], ascending=False).head()"
   ]
  },
  {
   "cell_type": "code",
   "execution_count": null,
   "metadata": {},
   "outputs": [],
   "source": [
    "fake_news[fake_news['struc_virality']<2].sort_values(['repostNum'], ascending=False).head()"
   ]
  },
  {
   "cell_type": "code",
   "execution_count": 226,
   "metadata": {},
   "outputs": [],
   "source": [
    "nodes_info_id = nodes_info(3475917323802680)\n",
    "nodes_info_id['id'] = nodes_info_id['target']\n",
    "nodes_info_id.to_csv('data/nodes_info_3475917323802680.csv', index=False)"
   ]
  },
  {
   "cell_type": "code",
   "execution_count": 10,
   "metadata": {},
   "outputs": [],
   "source": [
    "true_edges = findall_edge(true_news.loc[7561, 'edges'], patt_edge)\n",
    "true_edges.to_csv('data/true_edges_3682617154629867.csv', index=False)"
   ]
  },
  {
   "cell_type": "code",
   "execution_count": 11,
   "metadata": {},
   "outputs": [],
   "source": [
    "fake_edges = findall_edge(fake_news.loc[24724, 'edges'], patt_edge)\n",
    "fake_edges.to_csv('data/fake_edges_3569876888998921.csv', index=False)"
   ]
  },
  {
   "cell_type": "code",
   "execution_count": 13,
   "metadata": {},
   "outputs": [],
   "source": [
    "true_edges = findall_edge(true_news.loc[9890, 'edges'], patt_edge)\n",
    "true_edges.to_csv('data/true_edges_4010318348420992.csv', index=False)"
   ]
  },
  {
   "cell_type": "code",
   "execution_count": 32,
   "metadata": {},
   "outputs": [],
   "source": [
    "fake_edges = findall_edge(fake_news.loc[31691, 'edges'], patt_edge)\n",
    "fake_edges.to_csv('data/fake_edges_3486823567383831.csv', index=False)"
   ]
  },
  {
   "cell_type": "code",
   "execution_count": 26,
   "metadata": {},
   "outputs": [],
   "source": [
    "true_edges = findall_edge(true_news.loc[7493, 'edges'], patt_edge)\n",
    "true_edges.to_csv('data/true_edges_3913779509422777_broadcast.csv', index=False)"
   ]
  },
  {
   "cell_type": "code",
   "execution_count": 34,
   "metadata": {},
   "outputs": [],
   "source": [
    "fake_edges = findall_edge(fake_news.loc[30578, 'edges'], patt_edge)\n",
    "fake_edges.to_csv('data/fake_edges_3554114233283397.csv', index=False)"
   ]
  },
  {
   "cell_type": "code",
   "execution_count": 15,
   "metadata": {},
   "outputs": [
    {
     "data": {
      "text/plain": [
       "array([\"{'province': '11', 'weiboText': '人性已经崩溃到最低点了，婴儿大家都听过，但是婴儿汤我估计没有几个人听过，有一些畜生在骇人听闻的在烹制这种婴儿汤，据说很能补气养血，又能补阳气，有人烹制就有人品尝，我不知道你怎么能吃的下去，难道都不怕吃死你吗？希望你补一补你的人性吧。', 'screen_name': '官邸顾问', 'friends_count': 460, 'gender': 'f', 'repostNum': 996, 'weiboURL': 'http://weibo.com/2711326375/zmHL1dMa1', 'followers_count': 2444, 'img_url': 'http://tva2.sinaimg.cn/crop.44.94.236.236.50/a19b8ea7jw8etpfajghfrj20920btaau.jpg', 'id': 2711326375}\"],\n",
       "      dtype=object)"
      ]
     },
     "execution_count": 15,
     "metadata": {},
     "output_type": "execute_result"
    }
   ],
   "source": [
    "fake_news['authorDic'][fake_news['weiboID']==3554114233283397].get_values()"
   ]
  },
  {
   "cell_type": "code",
   "execution_count": 230,
   "metadata": {},
   "outputs": [
    {
     "data": {
      "text/html": [
       "<div>\n",
       "<style scoped>\n",
       "    .dataframe tbody tr th:only-of-type {\n",
       "        vertical-align: middle;\n",
       "    }\n",
       "\n",
       "    .dataframe tbody tr th {\n",
       "        vertical-align: top;\n",
       "    }\n",
       "\n",
       "    .dataframe thead th {\n",
       "        text-align: right;\n",
       "    }\n",
       "</style>\n",
       "<table border=\"1\" class=\"dataframe\">\n",
       "  <thead>\n",
       "    <tr style=\"text-align: right;\">\n",
       "      <th></th>\n",
       "      <th>authorDic</th>\n",
       "      <th>edges</th>\n",
       "      <th>keyUser</th>\n",
       "      <th>layerNum</th>\n",
       "      <th>rpsttimeline</th>\n",
       "      <th>status</th>\n",
       "      <th>weiboID</th>\n",
       "      <th>repost_user_ids</th>\n",
       "      <th>id</th>\n",
       "      <th>struc_virality</th>\n",
       "      <th>repostNum</th>\n",
       "      <th>label</th>\n",
       "      <th>friends_count</th>\n",
       "      <th>followers_count</th>\n",
       "      <th>gender</th>\n",
       "      <th>L_user_ratio</th>\n",
       "    </tr>\n",
       "  </thead>\n",
       "  <tbody>\n",
       "    <tr>\n",
       "      <th>24724</th>\n",
       "      <td>{'province': '44', 'weiboText': '中国的红十字会啊', 's...</td>\n",
       "      <td>{'3570016064722944': {'posttime': 'Mon Apr 22 ...</td>\n",
       "      <td>{'3707588698482624': 'http://tva3.sinaimg.cn/c...</td>\n",
       "      <td>[45, 26, 23, 25, 18, 69]</td>\n",
       "      <td>[['2013-04-22 13:20:00', 0], ['2013-04-22 13:3...</td>\n",
       "      <td>1</td>\n",
       "      <td>3569876888998921</td>\n",
       "      <td>['1783979633', '1777008171', '1464872853', '17...</td>\n",
       "      <td>1401401141</td>\n",
       "      <td>9.894752</td>\n",
       "      <td>206</td>\n",
       "      <td>fake</td>\n",
       "      <td>105</td>\n",
       "      <td>246</td>\n",
       "      <td>m</td>\n",
       "      <td>0.932367</td>\n",
       "    </tr>\n",
       "  </tbody>\n",
       "</table>\n",
       "</div>"
      ],
      "text/plain": [
       "                                               authorDic  \\\n",
       "24724  {'province': '44', 'weiboText': '中国的红十字会啊', 's...   \n",
       "\n",
       "                                                   edges  \\\n",
       "24724  {'3570016064722944': {'posttime': 'Mon Apr 22 ...   \n",
       "\n",
       "                                                 keyUser  \\\n",
       "24724  {'3707588698482624': 'http://tva3.sinaimg.cn/c...   \n",
       "\n",
       "                       layerNum  \\\n",
       "24724  [45, 26, 23, 25, 18, 69]   \n",
       "\n",
       "                                            rpsttimeline  status  \\\n",
       "24724  [['2013-04-22 13:20:00', 0], ['2013-04-22 13:3...       1   \n",
       "\n",
       "                weiboID                                    repost_user_ids  \\\n",
       "24724  3569876888998921  ['1783979633', '1777008171', '1464872853', '17...   \n",
       "\n",
       "               id  struc_virality  repostNum label  friends_count  \\\n",
       "24724  1401401141        9.894752        206  fake            105   \n",
       "\n",
       "       followers_count gender  L_user_ratio  \n",
       "24724              246      m      0.932367  "
      ]
     },
     "execution_count": 230,
     "metadata": {},
     "output_type": "execute_result"
    }
   ],
   "source": [
    "fake_news[fake_news['weiboID']==3569876888998921]"
   ]
  },
  {
   "cell_type": "code",
   "execution_count": 14,
   "metadata": {},
   "outputs": [
    {
     "data": {
      "text/html": [
       "<div>\n",
       "<style scoped>\n",
       "    .dataframe tbody tr th:only-of-type {\n",
       "        vertical-align: middle;\n",
       "    }\n",
       "\n",
       "    .dataframe tbody tr th {\n",
       "        vertical-align: top;\n",
       "    }\n",
       "\n",
       "    .dataframe thead th {\n",
       "        text-align: right;\n",
       "    }\n",
       "</style>\n",
       "<table border=\"1\" class=\"dataframe\">\n",
       "  <thead>\n",
       "    <tr style=\"text-align: right;\">\n",
       "      <th></th>\n",
       "      <th>authorDic</th>\n",
       "      <th>edges</th>\n",
       "      <th>keyUser</th>\n",
       "      <th>layerNum</th>\n",
       "      <th>rpsttimeline</th>\n",
       "      <th>status</th>\n",
       "      <th>weiboID</th>\n",
       "      <th>repost_user_ids</th>\n",
       "      <th>id</th>\n",
       "      <th>struc_virality</th>\n",
       "      <th>repostNum</th>\n",
       "      <th>label</th>\n",
       "      <th>struc_varility_net</th>\n",
       "      <th>friends_count</th>\n",
       "      <th>followers_count</th>\n",
       "      <th>gender</th>\n",
       "      <th>L_user_ratio</th>\n",
       "    </tr>\n",
       "  </thead>\n",
       "  <tbody>\n",
       "    <tr>\n",
       "      <th>20578</th>\n",
       "      <td>{'province': '11', 'weiboText': '人性已经崩溃到最低点了，婴...</td>\n",
       "      <td>{'3554271310563331': {'posttime': 'Sun Mar 10 ...</td>\n",
       "      <td>{'3716316936524173': 'http://tp2.sinaimg.cn/25...</td>\n",
       "      <td>[330, 183, 92, 53, 41, 297]</td>\n",
       "      <td>[['2013-03-10 01:30:00', 3], ['2013-03-10 01:4...</td>\n",
       "      <td>1</td>\n",
       "      <td>3554114233283397</td>\n",
       "      <td>['1610383232', '2689735804', '2980206731', '16...</td>\n",
       "      <td>2711326375</td>\n",
       "      <td>7.74812</td>\n",
       "      <td>996</td>\n",
       "      <td>fake</td>\n",
       "      <td>7.74812</td>\n",
       "      <td>460</td>\n",
       "      <td>2444</td>\n",
       "      <td>f</td>\n",
       "      <td>0.564206</td>\n",
       "    </tr>\n",
       "  </tbody>\n",
       "</table>\n",
       "</div>"
      ],
      "text/plain": [
       "                                               authorDic  \\\n",
       "20578  {'province': '11', 'weiboText': '人性已经崩溃到最低点了，婴...   \n",
       "\n",
       "                                                   edges  \\\n",
       "20578  {'3554271310563331': {'posttime': 'Sun Mar 10 ...   \n",
       "\n",
       "                                                 keyUser  \\\n",
       "20578  {'3716316936524173': 'http://tp2.sinaimg.cn/25...   \n",
       "\n",
       "                          layerNum  \\\n",
       "20578  [330, 183, 92, 53, 41, 297]   \n",
       "\n",
       "                                            rpsttimeline  status  \\\n",
       "20578  [['2013-03-10 01:30:00', 3], ['2013-03-10 01:4...       1   \n",
       "\n",
       "                weiboID                                    repost_user_ids  \\\n",
       "20578  3554114233283397  ['1610383232', '2689735804', '2980206731', '16...   \n",
       "\n",
       "               id  struc_virality  repostNum label  struc_varility_net  \\\n",
       "20578  2711326375         7.74812        996  fake             7.74812   \n",
       "\n",
       "       friends_count  followers_count gender  L_user_ratio  \n",
       "20578            460             2444      f      0.564206  "
      ]
     },
     "execution_count": 14,
     "metadata": {},
     "output_type": "execute_result"
    }
   ],
   "source": [
    "fake_news[fake_news['weiboID']==3554114233283397]"
   ]
  },
  {
   "cell_type": "code",
   "execution_count": 232,
   "metadata": {
    "scrolled": true
   },
   "outputs": [
    {
     "data": {
      "text/html": [
       "<div>\n",
       "<style scoped>\n",
       "    .dataframe tbody tr th:only-of-type {\n",
       "        vertical-align: middle;\n",
       "    }\n",
       "\n",
       "    .dataframe tbody tr th {\n",
       "        vertical-align: top;\n",
       "    }\n",
       "\n",
       "    .dataframe thead th {\n",
       "        text-align: right;\n",
       "    }\n",
       "</style>\n",
       "<table border=\"1\" class=\"dataframe\">\n",
       "  <thead>\n",
       "    <tr style=\"text-align: right;\">\n",
       "      <th></th>\n",
       "      <th>authorDic</th>\n",
       "      <th>edges</th>\n",
       "      <th>keyUser</th>\n",
       "      <th>layerNum</th>\n",
       "      <th>rpsttimeline</th>\n",
       "      <th>status</th>\n",
       "      <th>weiboID</th>\n",
       "      <th>repost_user_ids</th>\n",
       "      <th>id</th>\n",
       "      <th>struc_virality</th>\n",
       "      <th>repostNum</th>\n",
       "      <th>label</th>\n",
       "      <th>friends_count</th>\n",
       "      <th>followers_count</th>\n",
       "      <th>gender</th>\n",
       "      <th>L_user_ratio</th>\n",
       "    </tr>\n",
       "  </thead>\n",
       "  <tbody>\n",
       "    <tr>\n",
       "      <th>31691</th>\n",
       "      <td>{'province': '51', 'weiboText': '小日本拍的《贞子》3D将于...</td>\n",
       "      <td>{'3487232868556800': {'posttime': 'Thu Sep 06 ...</td>\n",
       "      <td>{'3569253246296466': 'http://tva4.sinaimg.cn/c...</td>\n",
       "      <td>[110, 57, 42, 24, 18, 94]</td>\n",
       "      <td>[['2012-09-05 09:00:00', 0], ['2012-09-05 09:1...</td>\n",
       "      <td>1</td>\n",
       "      <td>3486823567383831</td>\n",
       "      <td>['2820237402', '2477348861', '1410465107', '17...</td>\n",
       "      <td>2866275992</td>\n",
       "      <td>9.028818</td>\n",
       "      <td>345</td>\n",
       "      <td>fake</td>\n",
       "      <td>2481</td>\n",
       "      <td>231845</td>\n",
       "      <td>m</td>\n",
       "      <td>0.476879</td>\n",
       "    </tr>\n",
       "  </tbody>\n",
       "</table>\n",
       "</div>"
      ],
      "text/plain": [
       "                                               authorDic  \\\n",
       "31691  {'province': '51', 'weiboText': '小日本拍的《贞子》3D将于...   \n",
       "\n",
       "                                                   edges  \\\n",
       "31691  {'3487232868556800': {'posttime': 'Thu Sep 06 ...   \n",
       "\n",
       "                                                 keyUser  \\\n",
       "31691  {'3569253246296466': 'http://tva4.sinaimg.cn/c...   \n",
       "\n",
       "                        layerNum  \\\n",
       "31691  [110, 57, 42, 24, 18, 94]   \n",
       "\n",
       "                                            rpsttimeline  status  \\\n",
       "31691  [['2012-09-05 09:00:00', 0], ['2012-09-05 09:1...       1   \n",
       "\n",
       "                weiboID                                    repost_user_ids  \\\n",
       "31691  3486823567383831  ['2820237402', '2477348861', '1410465107', '17...   \n",
       "\n",
       "               id  struc_virality  repostNum label  friends_count  \\\n",
       "31691  2866275992        9.028818        345  fake           2481   \n",
       "\n",
       "       followers_count gender  L_user_ratio  \n",
       "31691           231845      m      0.476879  "
      ]
     },
     "execution_count": 232,
     "metadata": {},
     "output_type": "execute_result"
    }
   ],
   "source": [
    "fake_news[fake_news['weiboID']==3486823567383831]"
   ]
  },
  {
   "cell_type": "code",
   "execution_count": 12,
   "metadata": {},
   "outputs": [
    {
     "data": {
      "text/plain": [
       "array([\"{'province': '31', 'weiboText': '【又一个朝鲜外交官投韩！从俄罗斯偕妻率子走人】据俄罗斯圣彼得堡媒体7月8日报道，一位名叫金哲森的朝鲜驻俄外交官在俄罗斯失踪。据推测，他可能向西在欧洲国家寻求政治庇护。而据香港媒体今日报道，销声匿迹的金哲森最近已偕妻率子选择投奔韩国。据报，金哲森一家比朝鲜驻英国公使太勇浩一家还要早抵...全文： http://m.weibo.cn/1926909715/4010318348420992', 'screen_name': '第一财经日报', 'friends_count': 1954, 'gender': 'm', 'repostNum': 799, 'weiboURL': 'http://weibo.com/1926909715/E4kquzkGs', 'followers_count': 8479187, 'img_url': 'http://tva3.sinaimg.cn/crop.6.4.171.171.50/72da4f13gw1eme45dusx1j2050050q34.jpg', 'id': 1926909715}\"],\n",
       "      dtype=object)"
      ]
     },
     "execution_count": 12,
     "metadata": {},
     "output_type": "execute_result"
    }
   ],
   "source": [
    "true_news['authorDic'][true_news['weiboID']==4010318348420992].get_values()"
   ]
  },
  {
   "cell_type": "code",
   "execution_count": 11,
   "metadata": {},
   "outputs": [
    {
     "data": {
      "text/html": [
       "<div>\n",
       "<style scoped>\n",
       "    .dataframe tbody tr th:only-of-type {\n",
       "        vertical-align: middle;\n",
       "    }\n",
       "\n",
       "    .dataframe tbody tr th {\n",
       "        vertical-align: top;\n",
       "    }\n",
       "\n",
       "    .dataframe thead th {\n",
       "        text-align: right;\n",
       "    }\n",
       "</style>\n",
       "<table border=\"1\" class=\"dataframe\">\n",
       "  <thead>\n",
       "    <tr style=\"text-align: right;\">\n",
       "      <th></th>\n",
       "      <th>authorDic</th>\n",
       "      <th>edges</th>\n",
       "      <th>keyUser</th>\n",
       "      <th>layerNum</th>\n",
       "      <th>rpsttimeline</th>\n",
       "      <th>status</th>\n",
       "      <th>weiboID</th>\n",
       "      <th>repost_user_ids</th>\n",
       "      <th>id</th>\n",
       "      <th>struc_virality</th>\n",
       "      <th>repostNum</th>\n",
       "      <th>label</th>\n",
       "      <th>struc_varility_net</th>\n",
       "      <th>friends_count</th>\n",
       "      <th>followers_count</th>\n",
       "      <th>gender</th>\n",
       "      <th>L_user_ratio</th>\n",
       "    </tr>\n",
       "  </thead>\n",
       "  <tbody>\n",
       "    <tr>\n",
       "      <th>22213</th>\n",
       "      <td>{'province': '31', 'weiboText': '如果刘翔得了伦敦奥运会金牌...</td>\n",
       "      <td>{'3490938800410624': {'posttime': 'Sun Sep 16 ...</td>\n",
       "      <td>{'3716316936524173': 'http://tp2.sinaimg.cn/25...</td>\n",
       "      <td>[599, 0, 0, 0, 0, 0]</td>\n",
       "      <td>[['2012-08-06 06:40:00', 0], ['2012-08-06 06:5...</td>\n",
       "      <td>1</td>\n",
       "      <td>3475917323802680</td>\n",
       "      <td>['2920384552', '2810808890', '2789931002', '28...</td>\n",
       "      <td>2723632641</td>\n",
       "      <td>1.996667</td>\n",
       "      <td>599</td>\n",
       "      <td>fake</td>\n",
       "      <td>1.996667</td>\n",
       "      <td>768</td>\n",
       "      <td>71834</td>\n",
       "      <td>f</td>\n",
       "      <td>0.998319</td>\n",
       "    </tr>\n",
       "  </tbody>\n",
       "</table>\n",
       "</div>"
      ],
      "text/plain": [
       "                                               authorDic  \\\n",
       "22213  {'province': '31', 'weiboText': '如果刘翔得了伦敦奥运会金牌...   \n",
       "\n",
       "                                                   edges  \\\n",
       "22213  {'3490938800410624': {'posttime': 'Sun Sep 16 ...   \n",
       "\n",
       "                                                 keyUser  \\\n",
       "22213  {'3716316936524173': 'http://tp2.sinaimg.cn/25...   \n",
       "\n",
       "                   layerNum  \\\n",
       "22213  [599, 0, 0, 0, 0, 0]   \n",
       "\n",
       "                                            rpsttimeline  status  \\\n",
       "22213  [['2012-08-06 06:40:00', 0], ['2012-08-06 06:5...       1   \n",
       "\n",
       "                weiboID                                    repost_user_ids  \\\n",
       "22213  3475917323802680  ['2920384552', '2810808890', '2789931002', '28...   \n",
       "\n",
       "               id  struc_virality  repostNum label  struc_varility_net  \\\n",
       "22213  2723632641        1.996667        599  fake            1.996667   \n",
       "\n",
       "       friends_count  followers_count gender  L_user_ratio  \n",
       "22213            768            71834      f      0.998319  "
      ]
     },
     "execution_count": 11,
     "metadata": {},
     "output_type": "execute_result"
    }
   ],
   "source": [
    "fake_news[fake_news['weiboID']==3475917323802680]"
   ]
  }
 ],
 "metadata": {
  "kernelspec": {
   "display_name": "Python 3",
   "language": "python",
   "name": "python3"
  },
  "language_info": {
   "codemirror_mode": {
    "name": "ipython",
    "version": 3
   },
   "file_extension": ".py",
   "mimetype": "text/x-python",
   "name": "python",
   "nbconvert_exporter": "python",
   "pygments_lexer": "ipython3",
   "version": "3.7.3"
  }
 },
 "nbformat": 4,
 "nbformat_minor": 2
}
