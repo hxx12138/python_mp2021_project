{
 "cells": [
  {
   "cell_type": "code",
   "execution_count": 1,
   "metadata": {},
   "outputs": [],
   "source": [
    "import gensim\n",
    "\n",
    "Word2VecModel = gensim.models.Word2Vec.load(r'\\weibo_word2vec\\200\\weibo_59g_embedding_200.model') # 读取词向量"
   ]
  },
  {
   "cell_type": "code",
   "execution_count": 2,
   "metadata": {},
   "outputs": [
    {
     "name": "stderr",
     "output_type": "stream",
     "text": [
      "C:\\Users\\ChuAI\\Anaconda3\\envs\\pytorch\\lib\\site-packages\\ipykernel_launcher.py:6: UserWarning: Boolean Series key will be reindexed to match DataFrame index.\n",
      "  \n"
     ]
    }
   ],
   "source": [
    "import pandas as pd\n",
    "import numpy as np\n",
    "from collections import Counter\n",
    "\n",
    "classify_data = pd.read_csv('data/classify_data_3_emo_cla_prob_extra_topic_extendEmoDict_2_updateSTSC.csv')\n",
    "T_news = classify_data[classify_data['followers_count']>=1000][classify_data['label']=='LT']\n",
    "T_news = T_news[['text', 'emo_prob_kw']]"
   ]
  },
  {
   "cell_type": "code",
   "execution_count": 3,
   "metadata": {},
   "outputs": [
    {
     "name": "stderr",
     "output_type": "stream",
     "text": [
      "Building prefix dict from the default dictionary ...\n",
      "Dumping model to file cache C:\\Users\\ChuAI\\AppData\\Local\\Temp\\jieba.cache\n",
      "Loading model cost 0.890 seconds.\n",
      "Prefix dict has been built successfully.\n"
     ]
    },
    {
     "data": {
      "text/html": [
       "<div>\n",
       "<style scoped>\n",
       "    .dataframe tbody tr th:only-of-type {\n",
       "        vertical-align: middle;\n",
       "    }\n",
       "\n",
       "    .dataframe tbody tr th {\n",
       "        vertical-align: top;\n",
       "    }\n",
       "\n",
       "    .dataframe thead th {\n",
       "        text-align: right;\n",
       "    }\n",
       "</style>\n",
       "<table border=\"1\" class=\"dataframe\">\n",
       "  <thead>\n",
       "    <tr style=\"text-align: right;\">\n",
       "      <th></th>\n",
       "      <th>text</th>\n",
       "      <th>emo_prob_kw</th>\n",
       "      <th>seg</th>\n",
       "    </tr>\n",
       "  </thead>\n",
       "  <tbody>\n",
       "    <tr>\n",
       "      <th>0</th>\n",
       "      <td>中国青年女科学家奖十周年纪念大会:12月17日，全国妇联、中国科协、中国联合国教科文组织及@...</td>\n",
       "      <td>[0.0, 0.0, 1.0, 0.0, 0.0]</td>\n",
       "      <td>中国 青年 女 科学家 奖 十周年 纪念大会   月   日   全国妇联   中国科协  ...</td>\n",
       "    </tr>\n",
       "    <tr>\n",
       "      <th>1</th>\n",
       "      <td>【民办教师首次纳入职评体系】北京市人力社保局、市教委召开深化中小学教师职称制度改革工作部署会...</td>\n",
       "      <td>-1</td>\n",
       "      <td>民办教师 首次 纳入 职评 体系   北京市 人力 社保局   市教委 召开 深化 中小...</td>\n",
       "    </tr>\n",
       "    <tr>\n",
       "      <th>2</th>\n",
       "      <td>#第8号台风#【粤海铁进出岛旅客列车逐步恢复运行】“电母”逐渐减弱，9:30琼州海峡恢复通航...</td>\n",
       "      <td>-1</td>\n",
       "      <td>第   号 台风     粤海铁 进出 岛 旅客列车 逐步 恢复 运行   电母   逐...</td>\n",
       "    </tr>\n",
       "    <tr>\n",
       "      <th>3</th>\n",
       "      <td>#马鞍山身边事# 【市拥军代表团赴舟山慰问“马鞍山舰”全体官兵】8月15—16日，在抗日战争...</td>\n",
       "      <td>[0.0, 0.0, 0.6666666666666666, 0.0, 0.33333333...</td>\n",
       "      <td>马鞍山 身边 事     市 拥军 代表团 赴 舟山 慰问   马鞍山 舰   全体官兵...</td>\n",
       "    </tr>\n",
       "    <tr>\n",
       "      <th>4</th>\n",
       "      <td>回复@喝水也能活百年:用来吓唬人也是不错滴，美国人又把B1放到关岛去了[拜拜] //@喝水也...</td>\n",
       "      <td>[0.0, 0.5, 0.25, 0.0, 0.25]</td>\n",
       "      <td>回复   喝水 也 能活 百年   用来 吓唬人 也 是 不错 滴   美国 人 又 把  ...</td>\n",
       "    </tr>\n",
       "  </tbody>\n",
       "</table>\n",
       "</div>"
      ],
      "text/plain": [
       "                                                text  \\\n",
       "0  中国青年女科学家奖十周年纪念大会:12月17日，全国妇联、中国科协、中国联合国教科文组织及@...   \n",
       "1  【民办教师首次纳入职评体系】北京市人力社保局、市教委召开深化中小学教师职称制度改革工作部署会...   \n",
       "2  #第8号台风#【粤海铁进出岛旅客列车逐步恢复运行】“电母”逐渐减弱，9:30琼州海峡恢复通航...   \n",
       "3  #马鞍山身边事# 【市拥军代表团赴舟山慰问“马鞍山舰”全体官兵】8月15—16日，在抗日战争...   \n",
       "4  回复@喝水也能活百年:用来吓唬人也是不错滴，美国人又把B1放到关岛去了[拜拜] //@喝水也...   \n",
       "\n",
       "                                         emo_prob_kw  \\\n",
       "0                          [0.0, 0.0, 1.0, 0.0, 0.0]   \n",
       "1                                                 -1   \n",
       "2                                                 -1   \n",
       "3  [0.0, 0.0, 0.6666666666666666, 0.0, 0.33333333...   \n",
       "4                        [0.0, 0.5, 0.25, 0.0, 0.25]   \n",
       "\n",
       "                                                 seg  \n",
       "0  中国 青年 女 科学家 奖 十周年 纪念大会   月   日   全国妇联   中国科协  ...  \n",
       "1    民办教师 首次 纳入 职评 体系   北京市 人力 社保局   市教委 召开 深化 中小...  \n",
       "2    第   号 台风     粤海铁 进出 岛 旅客列车 逐步 恢复 运行   电母   逐...  \n",
       "3    马鞍山 身边 事     市 拥军 代表团 赴 舟山 慰问   马鞍山 舰   全体官兵...  \n",
       "4  回复   喝水 也 能活 百年   用来 吓唬人 也 是 不错 滴   美国 人 又 把  ...  "
      ]
     },
     "execution_count": 3,
     "metadata": {},
     "output_type": "execute_result"
    }
   ],
   "source": [
    "import re\n",
    "import jieba\n",
    "\n",
    "def seg_sentence(s):\n",
    "    sent = ''\n",
    "    s = s.strip()  #去前后的空格\n",
    "    s = re.sub(r\"[0-9\\s+\\.\\!\\/_,$%^*()?;；:-【】+\\\"\\']+|[+——！，;:。？、~@#￥%……&*（）]+\", \" \", s) #去标点符号\n",
    "    words = jieba.cut(s)\n",
    "    sent = ' '.join(words)\n",
    "    return sent\n",
    "T_news['seg'] = T_news['text'].apply(seg_sentence)\n",
    "T_news.head()"
   ]
  },
  {
   "cell_type": "code",
   "execution_count": 4,
   "metadata": {},
   "outputs": [
    {
     "data": {
      "text/html": [
       "<div>\n",
       "<style scoped>\n",
       "    .dataframe tbody tr th:only-of-type {\n",
       "        vertical-align: middle;\n",
       "    }\n",
       "\n",
       "    .dataframe tbody tr th {\n",
       "        vertical-align: top;\n",
       "    }\n",
       "\n",
       "    .dataframe thead th {\n",
       "        text-align: right;\n",
       "    }\n",
       "</style>\n",
       "<table border=\"1\" class=\"dataframe\">\n",
       "  <thead>\n",
       "    <tr style=\"text-align: right;\">\n",
       "      <th></th>\n",
       "      <th>text</th>\n",
       "      <th>emo_prob_kw</th>\n",
       "      <th>seg</th>\n",
       "      <th>sen2vec</th>\n",
       "    </tr>\n",
       "  </thead>\n",
       "  <tbody>\n",
       "    <tr>\n",
       "      <th>0</th>\n",
       "      <td>中国青年女科学家奖十周年纪念大会:12月17日，全国妇联、中国科协、中国联合国教科文组织及@...</td>\n",
       "      <td>[0.0, 0.0, 1.0, 0.0, 0.0]</td>\n",
       "      <td>中国 青年 女 科学家 奖 十周年 纪念大会   月   日   全国妇联   中国科协  ...</td>\n",
       "      <td>[-0.46926108025945723, -0.39488003635779023, -...</td>\n",
       "    </tr>\n",
       "    <tr>\n",
       "      <th>1</th>\n",
       "      <td>【民办教师首次纳入职评体系】北京市人力社保局、市教委召开深化中小学教师职称制度改革工作部署会...</td>\n",
       "      <td>-1</td>\n",
       "      <td>民办教师 首次 纳入 职评 体系   北京市 人力 社保局   市教委 召开 深化 中小...</td>\n",
       "      <td>[-1.1353874817633858, -2.8555219246026797, 2.4...</td>\n",
       "    </tr>\n",
       "    <tr>\n",
       "      <th>2</th>\n",
       "      <td>#第8号台风#【粤海铁进出岛旅客列车逐步恢复运行】“电母”逐渐减弱，9:30琼州海峡恢复通航...</td>\n",
       "      <td>-1</td>\n",
       "      <td>第   号 台风     粤海铁 进出 岛 旅客列车 逐步 恢复 运行   电母   逐...</td>\n",
       "      <td>[-0.8650825799753269, -1.581405599291126, 2.41...</td>\n",
       "    </tr>\n",
       "    <tr>\n",
       "      <th>3</th>\n",
       "      <td>#马鞍山身边事# 【市拥军代表团赴舟山慰问“马鞍山舰”全体官兵】8月15—16日，在抗日战争...</td>\n",
       "      <td>[0.0, 0.0, 0.6666666666666666, 0.0, 0.33333333...</td>\n",
       "      <td>马鞍山 身边 事     市 拥军 代表团 赴 舟山 慰问   马鞍山 舰   全体官兵...</td>\n",
       "      <td>[-1.3286951894173398, -1.4941865827143193, 0.5...</td>\n",
       "    </tr>\n",
       "    <tr>\n",
       "      <th>4</th>\n",
       "      <td>回复@喝水也能活百年:用来吓唬人也是不错滴，美国人又把B1放到关岛去了[拜拜] //@喝水也...</td>\n",
       "      <td>[0.0, 0.5, 0.25, 0.0, 0.25]</td>\n",
       "      <td>回复   喝水 也 能活 百年   用来 吓唬人 也 是 不错 滴   美国 人 又 把  ...</td>\n",
       "      <td>[-0.4453779576402722, -0.25825825593236723, -0...</td>\n",
       "    </tr>\n",
       "  </tbody>\n",
       "</table>\n",
       "</div>"
      ],
      "text/plain": [
       "                                                text  \\\n",
       "0  中国青年女科学家奖十周年纪念大会:12月17日，全国妇联、中国科协、中国联合国教科文组织及@...   \n",
       "1  【民办教师首次纳入职评体系】北京市人力社保局、市教委召开深化中小学教师职称制度改革工作部署会...   \n",
       "2  #第8号台风#【粤海铁进出岛旅客列车逐步恢复运行】“电母”逐渐减弱，9:30琼州海峡恢复通航...   \n",
       "3  #马鞍山身边事# 【市拥军代表团赴舟山慰问“马鞍山舰”全体官兵】8月15—16日，在抗日战争...   \n",
       "4  回复@喝水也能活百年:用来吓唬人也是不错滴，美国人又把B1放到关岛去了[拜拜] //@喝水也...   \n",
       "\n",
       "                                         emo_prob_kw  \\\n",
       "0                          [0.0, 0.0, 1.0, 0.0, 0.0]   \n",
       "1                                                 -1   \n",
       "2                                                 -1   \n",
       "3  [0.0, 0.0, 0.6666666666666666, 0.0, 0.33333333...   \n",
       "4                        [0.0, 0.5, 0.25, 0.0, 0.25]   \n",
       "\n",
       "                                                 seg  \\\n",
       "0  中国 青年 女 科学家 奖 十周年 纪念大会   月   日   全国妇联   中国科协  ...   \n",
       "1    民办教师 首次 纳入 职评 体系   北京市 人力 社保局   市教委 召开 深化 中小...   \n",
       "2    第   号 台风     粤海铁 进出 岛 旅客列车 逐步 恢复 运行   电母   逐...   \n",
       "3    马鞍山 身边 事     市 拥军 代表团 赴 舟山 慰问   马鞍山 舰   全体官兵...   \n",
       "4  回复   喝水 也 能活 百年   用来 吓唬人 也 是 不错 滴   美国 人 又 把  ...   \n",
       "\n",
       "                                             sen2vec  \n",
       "0  [-0.46926108025945723, -0.39488003635779023, -...  \n",
       "1  [-1.1353874817633858, -2.8555219246026797, 2.4...  \n",
       "2  [-0.8650825799753269, -1.581405599291126, 2.41...  \n",
       "3  [-1.3286951894173398, -1.4941865827143193, 0.5...  \n",
       "4  [-0.4453779576402722, -0.25825825593236723, -0...  "
      ]
     },
     "execution_count": 4,
     "metadata": {},
     "output_type": "execute_result"
    }
   ],
   "source": [
    "def sen2vec(seg):\n",
    "    words = seg.split(' ')\n",
    "    sen2vec = np.zeros(200)\n",
    "    i = 0\n",
    "    for word in words:\n",
    "        try:\n",
    "            word2vec = Word2VecModel.wv[word]\n",
    "            sen2vec += word2vec\n",
    "            i += 1\n",
    "        except:\n",
    "            continue\n",
    "    return sen2vec/i\n",
    "\n",
    "T_news['sen2vec'] = T_news['seg'].apply(sen2vec)\n",
    "T_news.head()"
   ]
  },
  {
   "cell_type": "code",
   "execution_count": 5,
   "metadata": {},
   "outputs": [],
   "source": [
    "for j in range(200):\n",
    "    T_news[str(j)] = T_news['sen2vec'].apply(lambda a: a[j])"
   ]
  },
  {
   "cell_type": "code",
   "execution_count": 6,
   "metadata": {},
   "outputs": [
    {
     "data": {
      "text/plain": [
       "(6797, 204)"
      ]
     },
     "execution_count": 6,
     "metadata": {},
     "output_type": "execute_result"
    }
   ],
   "source": [
    "T_news.shape"
   ]
  },
  {
   "cell_type": "code",
   "execution_count": 7,
   "metadata": {},
   "outputs": [],
   "source": [
    "from sklearn.cluster import KMeans\n",
    "T_news = T_news.dropna()\n",
    "km_T = KMeans(n_clusters=5, n_jobs=4, random_state=2020)\n",
    "km_T.fit(T_news.loc[:,'0':'199'])\n",
    "# 簇中心\n",
    "cluster_ceter_list = km_T.cluster_centers_\n",
    "# 样本属于的簇序号列表\n",
    "cluster_list = km_T.labels_.tolist()\n",
    "T_news['label'] = km_T.labels_"
   ]
  },
  {
   "cell_type": "code",
   "execution_count": 8,
   "metadata": {},
   "outputs": [
    {
     "data": {
      "text/html": [
       "<div>\n",
       "<style scoped>\n",
       "    .dataframe tbody tr th:only-of-type {\n",
       "        vertical-align: middle;\n",
       "    }\n",
       "\n",
       "    .dataframe tbody tr th {\n",
       "        vertical-align: top;\n",
       "    }\n",
       "\n",
       "    .dataframe thead th {\n",
       "        text-align: right;\n",
       "    }\n",
       "</style>\n",
       "<table border=\"1\" class=\"dataframe\">\n",
       "  <thead>\n",
       "    <tr style=\"text-align: right;\">\n",
       "      <th></th>\n",
       "      <th>text</th>\n",
       "      <th>emo_prob_kw</th>\n",
       "      <th>seg</th>\n",
       "      <th>sen2vec</th>\n",
       "      <th>0</th>\n",
       "      <th>1</th>\n",
       "      <th>2</th>\n",
       "      <th>3</th>\n",
       "      <th>4</th>\n",
       "      <th>5</th>\n",
       "      <th>...</th>\n",
       "      <th>192</th>\n",
       "      <th>193</th>\n",
       "      <th>194</th>\n",
       "      <th>195</th>\n",
       "      <th>196</th>\n",
       "      <th>197</th>\n",
       "      <th>198</th>\n",
       "      <th>199</th>\n",
       "      <th>label</th>\n",
       "      <th>dis_center</th>\n",
       "    </tr>\n",
       "  </thead>\n",
       "  <tbody>\n",
       "    <tr>\n",
       "      <th>0</th>\n",
       "      <td>中国青年女科学家奖十周年纪念大会:12月17日，全国妇联、中国科协、中国联合国教科文组织及@...</td>\n",
       "      <td>[0.0, 0.0, 1.0, 0.0, 0.0]</td>\n",
       "      <td>中国 青年 女 科学家 奖 十周年 纪念大会   月   日   全国妇联   中国科协  ...</td>\n",
       "      <td>[-0.46926108025945723, -0.39488003635779023, -...</td>\n",
       "      <td>-0.469261</td>\n",
       "      <td>-0.394880</td>\n",
       "      <td>-0.585550</td>\n",
       "      <td>-1.475477</td>\n",
       "      <td>1.007151</td>\n",
       "      <td>1.001829</td>\n",
       "      <td>...</td>\n",
       "      <td>-0.394303</td>\n",
       "      <td>0.411053</td>\n",
       "      <td>0.323670</td>\n",
       "      <td>-1.661370</td>\n",
       "      <td>0.959204</td>\n",
       "      <td>0.171013</td>\n",
       "      <td>0.886467</td>\n",
       "      <td>-0.994986</td>\n",
       "      <td>3</td>\n",
       "      <td>133.686922</td>\n",
       "    </tr>\n",
       "    <tr>\n",
       "      <th>1</th>\n",
       "      <td>【民办教师首次纳入职评体系】北京市人力社保局、市教委召开深化中小学教师职称制度改革工作部署会...</td>\n",
       "      <td>-1</td>\n",
       "      <td>民办教师 首次 纳入 职评 体系   北京市 人力 社保局   市教委 召开 深化 中小...</td>\n",
       "      <td>[-1.1353874817633858, -2.8555219246026797, 2.4...</td>\n",
       "      <td>-1.135387</td>\n",
       "      <td>-2.855522</td>\n",
       "      <td>2.436434</td>\n",
       "      <td>-0.619415</td>\n",
       "      <td>0.224819</td>\n",
       "      <td>0.110786</td>\n",
       "      <td>...</td>\n",
       "      <td>-1.203812</td>\n",
       "      <td>-1.442468</td>\n",
       "      <td>-0.137438</td>\n",
       "      <td>-1.831763</td>\n",
       "      <td>1.905068</td>\n",
       "      <td>-0.180687</td>\n",
       "      <td>2.954157</td>\n",
       "      <td>-0.281484</td>\n",
       "      <td>0</td>\n",
       "      <td>126.591760</td>\n",
       "    </tr>\n",
       "    <tr>\n",
       "      <th>2</th>\n",
       "      <td>#第8号台风#【粤海铁进出岛旅客列车逐步恢复运行】“电母”逐渐减弱，9:30琼州海峡恢复通航...</td>\n",
       "      <td>-1</td>\n",
       "      <td>第   号 台风     粤海铁 进出 岛 旅客列车 逐步 恢复 运行   电母   逐...</td>\n",
       "      <td>[-0.8650825799753269, -1.581405599291126, 2.41...</td>\n",
       "      <td>-0.865083</td>\n",
       "      <td>-1.581406</td>\n",
       "      <td>2.415784</td>\n",
       "      <td>-0.509915</td>\n",
       "      <td>0.556345</td>\n",
       "      <td>-0.707725</td>\n",
       "      <td>...</td>\n",
       "      <td>-1.700058</td>\n",
       "      <td>-1.464497</td>\n",
       "      <td>0.652276</td>\n",
       "      <td>0.496071</td>\n",
       "      <td>-1.426229</td>\n",
       "      <td>0.089534</td>\n",
       "      <td>0.970871</td>\n",
       "      <td>0.719858</td>\n",
       "      <td>4</td>\n",
       "      <td>128.594489</td>\n",
       "    </tr>\n",
       "    <tr>\n",
       "      <th>3</th>\n",
       "      <td>#马鞍山身边事# 【市拥军代表团赴舟山慰问“马鞍山舰”全体官兵】8月15—16日，在抗日战争...</td>\n",
       "      <td>[0.0, 0.0, 0.6666666666666666, 0.0, 0.33333333...</td>\n",
       "      <td>马鞍山 身边 事     市 拥军 代表团 赴 舟山 慰问   马鞍山 舰   全体官兵...</td>\n",
       "      <td>[-1.3286951894173398, -1.4941865827143193, 0.5...</td>\n",
       "      <td>-1.328695</td>\n",
       "      <td>-1.494187</td>\n",
       "      <td>0.593689</td>\n",
       "      <td>-1.503828</td>\n",
       "      <td>0.638641</td>\n",
       "      <td>-0.214053</td>\n",
       "      <td>...</td>\n",
       "      <td>-1.971308</td>\n",
       "      <td>-0.541990</td>\n",
       "      <td>0.303812</td>\n",
       "      <td>-0.785988</td>\n",
       "      <td>-0.144426</td>\n",
       "      <td>0.386441</td>\n",
       "      <td>1.326418</td>\n",
       "      <td>-0.214802</td>\n",
       "      <td>4</td>\n",
       "      <td>55.161004</td>\n",
       "    </tr>\n",
       "    <tr>\n",
       "      <th>4</th>\n",
       "      <td>回复@喝水也能活百年:用来吓唬人也是不错滴，美国人又把B1放到关岛去了[拜拜] //@喝水也...</td>\n",
       "      <td>[0.0, 0.5, 0.25, 0.0, 0.25]</td>\n",
       "      <td>回复   喝水 也 能活 百年   用来 吓唬人 也 是 不错 滴   美国 人 又 把  ...</td>\n",
       "      <td>[-0.4453779576402722, -0.25825825593236723, -0...</td>\n",
       "      <td>-0.445378</td>\n",
       "      <td>-0.258258</td>\n",
       "      <td>-0.426241</td>\n",
       "      <td>0.108222</td>\n",
       "      <td>0.758613</td>\n",
       "      <td>0.423980</td>\n",
       "      <td>...</td>\n",
       "      <td>0.141516</td>\n",
       "      <td>-0.728641</td>\n",
       "      <td>0.673966</td>\n",
       "      <td>0.380734</td>\n",
       "      <td>1.202363</td>\n",
       "      <td>-0.119897</td>\n",
       "      <td>-0.031803</td>\n",
       "      <td>0.083750</td>\n",
       "      <td>2</td>\n",
       "      <td>74.894707</td>\n",
       "    </tr>\n",
       "  </tbody>\n",
       "</table>\n",
       "<p>5 rows × 206 columns</p>\n",
       "</div>"
      ],
      "text/plain": [
       "                                                text  \\\n",
       "0  中国青年女科学家奖十周年纪念大会:12月17日，全国妇联、中国科协、中国联合国教科文组织及@...   \n",
       "1  【民办教师首次纳入职评体系】北京市人力社保局、市教委召开深化中小学教师职称制度改革工作部署会...   \n",
       "2  #第8号台风#【粤海铁进出岛旅客列车逐步恢复运行】“电母”逐渐减弱，9:30琼州海峡恢复通航...   \n",
       "3  #马鞍山身边事# 【市拥军代表团赴舟山慰问“马鞍山舰”全体官兵】8月15—16日，在抗日战争...   \n",
       "4  回复@喝水也能活百年:用来吓唬人也是不错滴，美国人又把B1放到关岛去了[拜拜] //@喝水也...   \n",
       "\n",
       "                                         emo_prob_kw  \\\n",
       "0                          [0.0, 0.0, 1.0, 0.0, 0.0]   \n",
       "1                                                 -1   \n",
       "2                                                 -1   \n",
       "3  [0.0, 0.0, 0.6666666666666666, 0.0, 0.33333333...   \n",
       "4                        [0.0, 0.5, 0.25, 0.0, 0.25]   \n",
       "\n",
       "                                                 seg  \\\n",
       "0  中国 青年 女 科学家 奖 十周年 纪念大会   月   日   全国妇联   中国科协  ...   \n",
       "1    民办教师 首次 纳入 职评 体系   北京市 人力 社保局   市教委 召开 深化 中小...   \n",
       "2    第   号 台风     粤海铁 进出 岛 旅客列车 逐步 恢复 运行   电母   逐...   \n",
       "3    马鞍山 身边 事     市 拥军 代表团 赴 舟山 慰问   马鞍山 舰   全体官兵...   \n",
       "4  回复   喝水 也 能活 百年   用来 吓唬人 也 是 不错 滴   美国 人 又 把  ...   \n",
       "\n",
       "                                             sen2vec         0         1  \\\n",
       "0  [-0.46926108025945723, -0.39488003635779023, -... -0.469261 -0.394880   \n",
       "1  [-1.1353874817633858, -2.8555219246026797, 2.4... -1.135387 -2.855522   \n",
       "2  [-0.8650825799753269, -1.581405599291126, 2.41... -0.865083 -1.581406   \n",
       "3  [-1.3286951894173398, -1.4941865827143193, 0.5... -1.328695 -1.494187   \n",
       "4  [-0.4453779576402722, -0.25825825593236723, -0... -0.445378 -0.258258   \n",
       "\n",
       "          2         3         4         5     ...           192       193  \\\n",
       "0 -0.585550 -1.475477  1.007151  1.001829     ...     -0.394303  0.411053   \n",
       "1  2.436434 -0.619415  0.224819  0.110786     ...     -1.203812 -1.442468   \n",
       "2  2.415784 -0.509915  0.556345 -0.707725     ...     -1.700058 -1.464497   \n",
       "3  0.593689 -1.503828  0.638641 -0.214053     ...     -1.971308 -0.541990   \n",
       "4 -0.426241  0.108222  0.758613  0.423980     ...      0.141516 -0.728641   \n",
       "\n",
       "        194       195       196       197       198       199  label  \\\n",
       "0  0.323670 -1.661370  0.959204  0.171013  0.886467 -0.994986      3   \n",
       "1 -0.137438 -1.831763  1.905068 -0.180687  2.954157 -0.281484      0   \n",
       "2  0.652276  0.496071 -1.426229  0.089534  0.970871  0.719858      4   \n",
       "3  0.303812 -0.785988 -0.144426  0.386441  1.326418 -0.214802      4   \n",
       "4  0.673966  0.380734  1.202363 -0.119897 -0.031803  0.083750      2   \n",
       "\n",
       "   dis_center  \n",
       "0  133.686922  \n",
       "1  126.591760  \n",
       "2  128.594489  \n",
       "3   55.161004  \n",
       "4   74.894707  \n",
       "\n",
       "[5 rows x 206 columns]"
      ]
     },
     "execution_count": 8,
     "metadata": {},
     "output_type": "execute_result"
    }
   ],
   "source": [
    "T_news = T_news.reset_index(drop=True)\n",
    "T_news['dis_center'] = 0\n",
    "for index in range(T_news.shape[0]):\n",
    "    cluster_num = cluster_list[index]\n",
    "    df_T = T_news.loc[:, '0':'199']\n",
    "    T_news.iloc[index,-1] = np.sum(np.power(df_T.iloc[index, :] - cluster_ceter_list[cluster_num], 2))\n",
    "T_news.head()"
   ]
  },
  {
   "cell_type": "code",
   "execution_count": 10,
   "metadata": {},
   "outputs": [],
   "source": [
    "hlt_text = ['#西部资源重组媒体说明会# 【阙文彬回答媒体提问：继续加大稀贵金属投资】针对媒体关于公司主业方面的提问，西部资源实际控制人阙文彬说，从新能源到文化转到稀贵金属，我个人认为新的董事会或者新的经营班子接上后，应该在2亿-5亿的利润差不多，在这个基础上将现有的一些企业通过一种合法的途径出售，...全文： http://m.weibo.cn/1315587597/4010238174942685',\n",
    "            '#聚焦赣州#【[心]爸妈在哪里？崇义文昌塔旁发现的小男孩至今还在福利院】8月17日，一则“崇义县横水派出所民警在文昌塔附近一脐橙园树下，发现一名哭泣的小男孩至今无人认领”的消息，在微信朋友圈广泛转发，文章中还附有几张小男孩的照片。当日下午，记者了解到，目前小男孩经医院检查无碍后已被送往...全文： http://m.weibo.cn/1970239225/4009774025014136',\n",
    "            '#鹤壁身边事# 【淇滨区兰苑社区刘振强：带爸妈旅行，收获满满的幸福】“我父亲一直想出门走走，特别想去北京看一看。我以前没有在意，感觉父母还年轻，以后有的是机会。直到父亲生了一场大病，需要借助轮椅出行，我才感到了后悔，幸好还来得及补救。”8月16日，淇滨区兰苑社区的刘振强告诉记者，最近他...全文： http://m.weibo.cn/2514256341/4009491428875467',\n",
    "            '#里约奥运会# 【“不懂球的胖纸”辛苦啦[威武]】那位中国乒乓天团背后的胖子[偷笑]，对！刘国梁，绝对是个全能多面手。魔鬼训练队员，提供呐喊、助威、唤醒服务，送水送毛巾，么么哒队员[亲亲]，还得亲自煮面犒赏三军......于是中国连续三届奥运拿下乒乓全部金牌[奥运金牌]。有网友说：“又当爹又当妈...全文： http://m.weibo.cn/1891503444/4009944795388322',\n",
    "           '7月12日本报二版为您呈现：中国文物保护基金会召开专项基金工作座谈会、安徽铜陵全力抢险凤凰山铜矿金牛洞古采矿遗址、国博举办《四部医典》曼唐长卷——娘本唐卡艺术传承成果展、湖北实施“三级联审”模式，加快推进文物普查数据审核、新疆举办第一次全国可移动文物普查培训班、《南海诸岛地理志略》...全文： http://m.weibo.cn/1250227403/3997198805156773']\n",
    "def target(text):\n",
    "    target = 0\n",
    "    if text in hlt_text:\n",
    "        target = 1\n",
    "    else:\n",
    "        pass\n",
    "    return target\n",
    "T_news['target'] = T_news['text'].apply(target)"
   ]
  },
  {
   "cell_type": "code",
   "execution_count": 21,
   "metadata": {},
   "outputs": [],
   "source": [
    "import sklearn\n",
    "from sklearn.manifold import TSNE\n",
    "import matplotlib.pyplot as plt\n",
    "import matplotlib.patheffects as PathEffects\n",
    "import matplotlib\n",
    "from mpl_toolkits.mplot3d import axes3d \n",
    "import seaborn as sns\n",
    "from matplotlib import style\n",
    "\n",
    "RS = 2020\n",
    "X = T_news.loc[:,'0':'199'].values\n",
    "y = T_news['target'].values\n",
    "X2D = TSNE(random_state=RS).fit_transform(X)\n",
    "X2D = pd.DataFrame(X2D)\n",
    "X2D['target'] = y"
   ]
  },
  {
   "cell_type": "code",
   "execution_count": 23,
   "metadata": {
    "scrolled": true
   },
   "outputs": [
    {
     "data": {
      "image/png": "[encoded data removed]",
      "text/plain": [
       "<Figure size 432x288 with 1 Axes>"
      ]
     },
     "metadata": {},
     "output_type": "display_data"
    }
   ],
   "source": [
    "fig, ax = plt.subplots()\n",
    "ax.scatter(X2D.iloc[:,0][X2D['target']==0],X2D.iloc[:,1][X2D['target']==0], color='lightgrey')\n",
    "ax.scatter(X2D.iloc[:,0][X2D['target']==1],X2D.iloc[:,1][X2D['target']==1], marker='^', s=200, \n",
    "           facecolors='white',\n",
    "           linewidth=3,\n",
    "           color='#7FA5B7')\n",
    "ax.set_xticks([])\n",
    "ax.set_yticks([])\n",
    "ax.spines['top'].set_visible(False)\n",
    "ax.spines['right'].set_visible(False)\n",
    "ax.spines['bottom'].set_visible(False)\n",
    "ax.spines['left'].set_visible(False)\n",
    "plt.tight_layout()\n",
    "plt.savefig('images/HLT_text.pdf')\n",
    "plt.show()"
   ]
  },
  {
   "cell_type": "code",
   "execution_count": 14,
   "metadata": {},
   "outputs": [],
   "source": [
    "key_words = ['全文', '活动', '发布', '记者', '奥运', '早安', '近日', '发展', '获得', '工作', '进行', '头条', '市民', '奥运会', '小编', \n",
    " '经济', '举行', '本报', '选手', '天气', '正式', '汽车', '企业', '报名', '成为', '决赛', '日前', '嘻嘻', '科技', '平台', '建设', \n",
    " '私信', '显示', '晚安', '小伙伴', '体验', '故事', '生活', '世界', '我市', '公司', '市场', '学习', '历史', '计划', '身体',\n",
    " '问题', '部分', '偷笑', '艺术', '如何', '城市', '机会', '开展', '国际', '创新', '不少', '相关', '继续', '习近平', '电影', \n",
    " '支持', '加油', '获悉', '时代', '博文', '举办', '文化', '昨日', '价格', '江门', '发布会', '最好', '比赛', '周刊', '推荐', \n",
    " '产业', '以来', '全球', '社区', '母亲', '英国', '日报', '回复', '喜欢', '时间', '快乐', '王宝强', '视频', '坚持', '作品',\n",
    " '司机', '同时', '海南', '一年', '民警', '值得', '一场', '妻子', '中国女排', '甚至', '最高', '品牌', '详见', '周末', '目前', \n",
    " '期待', '摄影', '中心', '上海', '亿元', '首次', '不同', '互联网', '宁德', '投票', '投资', '邀请', '产品', '价值', '给力', \n",
    " '梦想', '年度', '未来', '精彩', '对于', '有限公司', '今年', '高温', '进一步', '一天', '链接', '服务', '即将', '门票', '发现', \n",
    " '环境', '上午', '公布', '周报', '每日', '提醒', '情况', '忘记', '健康', '金牌', '运河', '大会', '经历', '道路']\n",
    "hlt_text = ['#西部资源重组媒体说明会# 【阙文彬回答媒体提问：继续加大稀贵金属投资】针对媒体关于公司主业方面的提问，西部资源实际控制人阙文彬说，从新能源到文化转到稀贵金属，我个人认为新的董事会或者新的经营班子接上后，应该在2亿-5亿的利润差不多，在这个基础上将现有的一些企业通过一种合法的途径出售，...全文： http://m.weibo.cn/1315587597/4010238174942685',\n",
    "            '#聚焦赣州#【[心]爸妈在哪里？崇义文昌塔旁发现的小男孩至今还在福利院】8月17日，一则“崇义县横水派出所民警在文昌塔附近一脐橙园树下，发现一名哭泣的小男孩至今无人认领”的消息，在微信朋友圈广泛转发，文章中还附有几张小男孩的照片。当日下午，记者了解到，目前小男孩经医院检查无碍后已被送往...全文： http://m.weibo.cn/1970239225/4009774025014136',\n",
    "            '#鹤壁身边事# 【淇滨区兰苑社区刘振强：带爸妈旅行，收获满满的幸福】“我父亲一直想出门走走，特别想去北京看一看。我以前没有在意，感觉父母还年轻，以后有的是机会。直到父亲生了一场大病，需要借助轮椅出行，我才感到了后悔，幸好还来得及补救。”8月16日，淇滨区兰苑社区的刘振强告诉记者，最近他...全文： http://m.weibo.cn/2514256341/4009491428875467',\n",
    "            '#里约奥运会# 【“不懂球的胖纸”辛苦啦[威武]】那位中国乒乓天团背后的胖子[偷笑]，对！刘国梁，绝对是个全能多面手。魔鬼训练队员，提供呐喊、助威、唤醒服务，送水送毛巾，么么哒队员[亲亲]，还得亲自煮面犒赏三军......于是中国连续三届奥运拿下乒乓全部金牌[奥运金牌]。有网友说：“又当爹又当妈...全文： http://m.weibo.cn/1891503444/4009944795388322',\n",
    "           '7月12日本报二版为您呈现：中国文物保护基金会召开专项基金工作座谈会、安徽铜陵全力抢险凤凰山铜矿金牛洞古采矿遗址、国博举办《四部医典》曼唐长卷——娘本唐卡艺术传承成果展、湖北实施“三级联审”模式，加快推进文物普查数据审核、新疆举办第一次全国可移动文物普查培训班、《南海诸岛地理志略》...全文： http://m.weibo.cn/1250227403/3997198805156773']"
   ]
  },
  {
   "cell_type": "code",
   "execution_count": 15,
   "metadata": {},
   "outputs": [],
   "source": [
    "import jieba \n",
    "def cut_text(text):\n",
    "    for word in jieba.cut(text):\n",
    "        if word in key_words:\n",
    "            print(word)\n",
    "        else:\n",
    "            pass"
   ]
  },
  {
   "cell_type": "code",
   "execution_count": 18,
   "metadata": {},
   "outputs": [
    {
     "name": "stdout",
     "output_type": "stream",
     "text": [
      "继续\n",
      "投资\n",
      "公司\n",
      "文化\n",
      "企业\n",
      "全文\n"
     ]
    }
   ],
   "source": [
    "cut_text(hlt_text[0])"
   ]
  },
  {
   "cell_type": "code",
   "execution_count": 19,
   "metadata": {},
   "outputs": [
    {
     "name": "stdout",
     "output_type": "stream",
     "text": [
      "发现\n",
      "民警\n",
      "发现\n",
      "记者\n",
      "目前\n",
      "全文\n"
     ]
    }
   ],
   "source": [
    "cut_text(hlt_text[1])"
   ]
  },
  {
   "cell_type": "code",
   "execution_count": 20,
   "metadata": {},
   "outputs": [
    {
     "name": "stdout",
     "output_type": "stream",
     "text": [
      "社区\n",
      "机会\n",
      "一场\n",
      "社区\n",
      "记者\n",
      "全文\n"
     ]
    }
   ],
   "source": [
    "cut_text(hlt_text[2])"
   ]
  },
  {
   "cell_type": "code",
   "execution_count": 21,
   "metadata": {},
   "outputs": [
    {
     "name": "stdout",
     "output_type": "stream",
     "text": [
      "奥运会\n",
      "偷笑\n",
      "服务\n",
      "奥运\n",
      "金牌\n",
      "全文\n"
     ]
    }
   ],
   "source": [
    "cut_text(hlt_text[3])"
   ]
  },
  {
   "cell_type": "code",
   "execution_count": 22,
   "metadata": {},
   "outputs": [
    {
     "name": "stdout",
     "output_type": "stream",
     "text": [
      "本报\n",
      "工作\n",
      "举办\n",
      "艺术\n",
      "举办\n",
      "全文\n"
     ]
    }
   ],
   "source": [
    "cut_text(hlt_text[4])"
   ]
  },
  {
   "cell_type": "code",
   "execution_count": 16,
   "metadata": {},
   "outputs": [],
   "source": [
    "from collections import Counter\n",
    "key_words_HLT = []\n",
    "with open('data/key_words_HLT.txt', 'r', encoding='utf-8-sig') as f:\n",
    "    for word in f:\n",
    "        word = word.strip()\n",
    "        tup = (word, 'HLT')\n",
    "        key_words_HLT.append(tup)\n",
    "key_words_HLT = pd.DataFrame(key_words_HLT)\n",
    "key_words_HLT.columns = ['word', 'label']"
   ]
  },
  {
   "cell_type": "code",
   "execution_count": 17,
   "metadata": {},
   "outputs": [],
   "source": [
    "def word2vec(word):\n",
    "    word2vec = '-1'\n",
    "    try:\n",
    "        word2vec = Word2VecModel.wv[word]\n",
    "    except:\n",
    "        pass\n",
    "    return word2vec\n",
    "key_words_HLT['word2vec'] = key_words_HLT['word'].apply(word2vec)"
   ]
  },
  {
   "cell_type": "code",
   "execution_count": 18,
   "metadata": {},
   "outputs": [
    {
     "name": "stderr",
     "output_type": "stream",
     "text": [
      "C:\\Users\\ChuAI\\Anaconda3\\envs\\pytorch\\lib\\site-packages\\pandas\\core\\ops.py:1122: FutureWarning: elementwise comparison failed; returning scalar instead, but in the future will perform elementwise comparison\n",
      "  result = libops.scalar_compare(x, y, op)\n"
     ]
    }
   ],
   "source": [
    "key_words_HLT = key_words_HLT[key_words_HLT['word2vec']!='-1']\n",
    "\n",
    "HLT_words = ['继续', '投资', '公司', '文化', '企业', '全文', '发现', '民警', '发现', '记者', '目前', '全文', '社区', \n",
    "             '机会', '一场', '社区', '记者', '全文', '奥运会', '服务', '奥运', '金牌', '全文', '本报', '工作', '呈现', '举办',\n",
    "             '艺术', '举办', '全文', '哭泣', '转发', '收获', '幸福', '后悔', '幸好', '补救', '魔鬼', '助威', '么么哒', '犒赏']\n",
    "HLT_words = list(set(HLT_words))\n",
    "\n",
    "def target(word):\n",
    "    target = 0\n",
    "    if word in HLT_words:\n",
    "        target = 1\n",
    "    else:\n",
    "        pass\n",
    "    return target\n",
    "key_words_HLT['target'] = key_words_HLT['word'].apply(target)\n",
    "\n",
    "for j in range(200):\n",
    "    key_words_HLT[str(j)] = key_words_HLT['word2vec'].apply(lambda a: a[j])"
   ]
  },
  {
   "cell_type": "code",
   "execution_count": 19,
   "metadata": {},
   "outputs": [],
   "source": [
    "RS = 2020\n",
    "X = key_words_HLT.loc[:,'0':'199'].values\n",
    "y = key_words_HLT['target'].values\n",
    "X2D = TSNE(random_state=RS).fit_transform(X)\n",
    "X2D = pd.DataFrame(X2D)\n",
    "X2D['target'] = y"
   ]
  },
  {
   "cell_type": "code",
   "execution_count": 20,
   "metadata": {},
   "outputs": [
    {
     "data": {
      "image/png": "[encoded data removed]",
      "text/plain": [
       "<Figure size 432x288 with 1 Axes>"
      ]
     },
     "metadata": {},
     "output_type": "display_data"
    }
   ],
   "source": [
    "fig, ax = plt.subplots()\n",
    "\n",
    "ax.scatter(X2D.iloc[:,0][X2D['target']==0],X2D.iloc[:,1][X2D['target']==0], color='lightgrey')\n",
    "ax.scatter(X2D.iloc[:,0][X2D['target']==1],X2D.iloc[:,1][X2D['target']==1], marker='^', s=200, color='#7FA5B7',\n",
    "          facecolors='white',\n",
    "          linewidth=3\n",
    "          )\n",
    "ax.set_yticks([])\n",
    "ax.set_xticks([])\n",
    "ax.spines['top'].set_visible(False)\n",
    "ax.spines['right'].set_visible(False)\n",
    "ax.spines['bottom'].set_visible(False)\n",
    "ax.spines['left'].set_visible(False)\n",
    "\n",
    "plt.tight_layout()\n",
    "plt.savefig('images/HLT_words.pdf')\n",
    "plt.show()"
   ]
  }
 ],
 "metadata": {
  "kernelspec": {
   "display_name": "Python 3",
   "language": "python",
   "name": "python3"
  },
  "language_info": {
   "codemirror_mode": {
    "name": "ipython",
    "version": 3
   },
   "file_extension": ".py",
   "mimetype": "text/x-python",
   "name": "python",
   "nbconvert_exporter": "python",
   "pygments_lexer": "ipython3",
   "version": "3.7.3"
  }
 },
 "nbformat": 4,
 "nbformat_minor": 2
}
