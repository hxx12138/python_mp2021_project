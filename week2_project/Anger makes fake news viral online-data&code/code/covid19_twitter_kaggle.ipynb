{
 "cells": [
  {
   "cell_type": "code",
   "execution_count": 17,
   "metadata": {},
   "outputs": [
    {
     "name": "stderr",
     "output_type": "stream",
     "text": [
      "C:\\Users\\ChuAI\\Anaconda3\\envs\\pytorch\\lib\\site-packages\\ipykernel_launcher.py:11: UserWarning: Boolean Series key will be reindexed to match DataFrame index.\n",
      "  # This is added back by InteractiveShellApp.init_path()\n",
      "C:\\Users\\ChuAI\\Anaconda3\\envs\\pytorch\\lib\\site-packages\\ipykernel_launcher.py:13: UserWarning: Boolean Series key will be reindexed to match DataFrame index.\n",
      "  del sys.path[0]\n"
     ]
    },
    {
     "data": {
      "text/plain": [
       "(90000, 22)"
      ]
     },
     "execution_count": 17,
     "metadata": {},
     "output_type": "execute_result"
    }
   ],
   "source": [
    "import pandas as pd\n",
    "import numpy as np\n",
    "import os\n",
    "\n",
    "path = 'data/covid_kaggle/covid19'\n",
    "files = os.listdir(path)\n",
    "\n",
    "sample_data = []\n",
    "for file in files:\n",
    "    data = pd.read_csv(path+'/'+file)\n",
    "    sam_1 = data[data['retweet_count']>=10][data['lang']=='en'].sample(1000)\n",
    "    sample_data.append(sam_1)\n",
    "    sam_2 = data[data['retweet_count']<10][data['lang']=='en'].sample(1000)\n",
    "    sample_data.append(sam_2)\n",
    "sample_data = pd.concat(sample_data, axis=0)\n",
    "sample_data.shape"
   ]
  },
  {
   "cell_type": "code",
   "execution_count": 18,
   "metadata": {},
   "outputs": [],
   "source": [
    "sample_data.iloc[:25000,:].to_csv('data/covid_kaggle/covid19/covid19_1.csv', index=False)\n",
    "sample_data.iloc[25000:65000,:].to_csv('data/covid_kaggle/covid19/covid19_2.csv', index=False)\n",
    "sample_data.iloc[65000:,:].to_csv('data/covid_kaggle/covid19/covid19_3.csv', index=False)"
   ]
  },
  {
   "cell_type": "code",
   "execution_count": null,
   "metadata": {},
   "outputs": [],
   "source": []
  },
  {
   "cell_type": "code",
   "execution_count": null,
   "metadata": {},
   "outputs": [],
   "source": []
  },
  {
   "cell_type": "code",
   "execution_count": 27,
   "metadata": {},
   "outputs": [
    {
     "data": {
      "text/plain": [
       "(90000, 24)"
      ]
     },
     "execution_count": 27,
     "metadata": {},
     "output_type": "execute_result"
    }
   ],
   "source": [
    "path_2 = 'data/covid_kaggle/covid19/covid19_emo'\n",
    "files = os.listdir(path_2)\n",
    "\n",
    "covid = []\n",
    "for file in files:\n",
    "    data = pd.read_csv(path_2+'/'+file)\n",
    "    covid.append(data)\n",
    "covid = pd.concat(covid, axis=0)\n",
    "covid.shape"
   ]
  },
  {
   "cell_type": "code",
   "execution_count": 29,
   "metadata": {},
   "outputs": [],
   "source": [
    "import ast\n",
    "special_emos = ['anger', 'anticipation', 'disgust', 'fear', 'joy', 'sadness', 'surprise', 'trust']\n",
    "\n",
    "covid['emo_words'] = covid['emo_words'].apply(lambda j: ast.literal_eval(j))\n",
    "for emo in special_emos:\n",
    "    covid[emo] = covid['emo_words'].apply(lambda ew: ew[emo])\n",
    "covid['special_emos_sum'] = covid[special_emos].sum(axis=1)\n",
    "for emo in special_emos:\n",
    "    covid[emo] = covid[emo]/covid['special_emos_sum']"
   ]
  },
  {
   "cell_type": "code",
   "execution_count": 38,
   "metadata": {},
   "outputs": [],
   "source": [
    "import re\n",
    "covid['text_len'] = covid['text'].apply(lambda t: len(t))\n",
    "covid['have_htag'] = covid['text'].apply(lambda t: 1 if re.search('#.*?', t, re.S|re.M) is not None else 0)\n",
    "covid['have_url'] = covid['text'].apply(lambda t: 1 if re.search('http.*?', t, re.S|re.M) is not None else 0)\n",
    "covid['have_at'] = covid['text'].apply(lambda t : (1 if re.search('@(.*)', t, re.S|re.M) is not None else 0))"
   ]
  },
  {
   "cell_type": "code",
   "execution_count": 39,
   "metadata": {},
   "outputs": [],
   "source": [
    "import spacy\n",
    "nlp = spacy.load('en_core_web_sm')\n",
    "\n",
    "date_loc = []\n",
    "def id_ent(text):\n",
    "    doc = nlp(text)\n",
    "    date = 0\n",
    "    loc = 0\n",
    "    labels = []\n",
    "    for ent in doc.ents:\n",
    "        labels.append(ent.label_)\n",
    "    if 'DATE' in labels:\n",
    "        date = 1\n",
    "    if 'GPE' in labels:\n",
    "        loc = 1\n",
    "    date_loc.append([date, loc])\n",
    "covid['text'].apply(id_ent)\n",
    "covid[['have_date', 'have_loc']] = pd.DataFrame(date_loc)"
   ]
  },
  {
   "cell_type": "code",
   "execution_count": 41,
   "metadata": {},
   "outputs": [],
   "source": [
    "covid.to_csv(path_2+'/covid_reg.csv', index=False)"
   ]
  },
  {
   "cell_type": "code",
   "execution_count": 42,
   "metadata": {},
   "outputs": [],
   "source": [
    "elec_data = pd.read_csv(path_2+'/election_day_tweets_reg.csv')"
   ]
  },
  {
   "cell_type": "code",
   "execution_count": 50,
   "metadata": {},
   "outputs": [
    {
     "name": "stderr",
     "output_type": "stream",
     "text": [
      "C:\\Users\\ChuAI\\Anaconda3\\envs\\pytorch\\lib\\site-packages\\pandas\\core\\frame.py:3781: SettingWithCopyWarning: \n",
      "A value is trying to be set on a copy of a slice from a DataFrame\n",
      "\n",
      "See the caveats in the documentation: http://pandas.pydata.org/pandas-docs/stable/indexing.html#indexing-view-versus-copy\n",
      "  return super(DataFrame, self).rename(**kwargs)\n"
     ]
    }
   ],
   "source": [
    "sub_covid = covid[['user_id', 'retweet_count', 'followers_count', 'friends_count', 'status_id', 'emo_words', 'anger',\n",
    "       'anticipation', 'disgust', 'fear', 'joy', 'sadness', 'surprise',\n",
    "       'trust', 'special_emos_sum', 'text_len', 'have_htag', 'have_url',\n",
    "       'have_at', 'have_date', 'have_loc']]\n",
    "sub_covid.rename(columns={'status_id':'id'}, inplace=True)"
   ]
  },
  {
   "cell_type": "code",
   "execution_count": 51,
   "metadata": {},
   "outputs": [],
   "source": [
    "sub_elec_data = elec_data[['user.id', 'retweet_count', 'user.followers_count', 'user.friends_count', 'id', 'emo_words', 'anger',\n",
    "       'anticipation', 'disgust', 'fear', 'joy', 'sadness', 'surprise',\n",
    "       'trust', 'special_emos_sum', 'text_len', 'have_htag', 'have_url',\n",
    "       'have_at', 'have_date', 'have_loc']]\n",
    "sub_elec_data.rename(columns={'user.id':'user_id', 'user.followers_count':'followers_count', 'user.friends_count':'friends_count'}, inplace=True)"
   ]
  },
  {
   "cell_type": "code",
   "execution_count": 52,
   "metadata": {
    "scrolled": true
   },
   "outputs": [
    {
     "name": "stderr",
     "output_type": "stream",
     "text": [
      "C:\\Users\\ChuAI\\Anaconda3\\envs\\pytorch\\lib\\site-packages\\ipykernel_launcher.py:1: SettingWithCopyWarning: \n",
      "A value is trying to be set on a copy of a slice from a DataFrame.\n",
      "Try using .loc[row_indexer,col_indexer] = value instead\n",
      "\n",
      "See the caveats in the documentation: http://pandas.pydata.org/pandas-docs/stable/indexing.html#indexing-view-versus-copy\n",
      "  \"\"\"Entry point for launching an IPython kernel.\n",
      "C:\\Users\\ChuAI\\Anaconda3\\envs\\pytorch\\lib\\site-packages\\ipykernel_launcher.py:2: SettingWithCopyWarning: \n",
      "A value is trying to be set on a copy of a slice from a DataFrame.\n",
      "Try using .loc[row_indexer,col_indexer] = value instead\n",
      "\n",
      "See the caveats in the documentation: http://pandas.pydata.org/pandas-docs/stable/indexing.html#indexing-view-versus-copy\n",
      "  \n"
     ]
    },
    {
     "data": {
      "text/html": [
       "<div>\n",
       "<style scoped>\n",
       "    .dataframe tbody tr th:only-of-type {\n",
       "        vertical-align: middle;\n",
       "    }\n",
       "\n",
       "    .dataframe tbody tr th {\n",
       "        vertical-align: top;\n",
       "    }\n",
       "\n",
       "    .dataframe thead th {\n",
       "        text-align: right;\n",
       "    }\n",
       "</style>\n",
       "<table border=\"1\" class=\"dataframe\">\n",
       "  <thead>\n",
       "    <tr style=\"text-align: right;\">\n",
       "      <th></th>\n",
       "      <th>user_id</th>\n",
       "      <th>retweet_count</th>\n",
       "      <th>followers_count</th>\n",
       "      <th>friends_count</th>\n",
       "      <th>id</th>\n",
       "      <th>emo_words</th>\n",
       "      <th>anger</th>\n",
       "      <th>anticipation</th>\n",
       "      <th>disgust</th>\n",
       "      <th>fear</th>\n",
       "      <th>...</th>\n",
       "      <th>surprise</th>\n",
       "      <th>trust</th>\n",
       "      <th>special_emos_sum</th>\n",
       "      <th>text_len</th>\n",
       "      <th>have_htag</th>\n",
       "      <th>have_url</th>\n",
       "      <th>have_at</th>\n",
       "      <th>have_date</th>\n",
       "      <th>have_loc</th>\n",
       "      <th>label</th>\n",
       "    </tr>\n",
       "  </thead>\n",
       "  <tbody>\n",
       "    <tr>\n",
       "      <th>0</th>\n",
       "      <td>22729901</td>\n",
       "      <td>8.0</td>\n",
       "      <td>86551.0</td>\n",
       "      <td>2674.0</td>\n",
       "      <td>795839414735732737</td>\n",
       "      <td>{'anger': 1, 'anticipation': 2, 'disgust': 0, ...</td>\n",
       "      <td>0.142857</td>\n",
       "      <td>0.285714</td>\n",
       "      <td>0.0</td>\n",
       "      <td>0.0</td>\n",
       "      <td>...</td>\n",
       "      <td>0.142857</td>\n",
       "      <td>0.142857</td>\n",
       "      <td>7</td>\n",
       "      <td>139</td>\n",
       "      <td>1</td>\n",
       "      <td>0</td>\n",
       "      <td>1</td>\n",
       "      <td>1</td>\n",
       "      <td>1</td>\n",
       "      <td>politic</td>\n",
       "    </tr>\n",
       "    <tr>\n",
       "      <th>1</th>\n",
       "      <td>794779346</td>\n",
       "      <td>4.0</td>\n",
       "      <td>1689.0</td>\n",
       "      <td>344.0</td>\n",
       "      <td>795840310597193728</td>\n",
       "      <td>{'anger': 0, 'anticipation': 1, 'disgust': 0, ...</td>\n",
       "      <td>0.000000</td>\n",
       "      <td>1.000000</td>\n",
       "      <td>0.0</td>\n",
       "      <td>0.0</td>\n",
       "      <td>...</td>\n",
       "      <td>0.000000</td>\n",
       "      <td>0.000000</td>\n",
       "      <td>1</td>\n",
       "      <td>142</td>\n",
       "      <td>1</td>\n",
       "      <td>1</td>\n",
       "      <td>1</td>\n",
       "      <td>0</td>\n",
       "      <td>0</td>\n",
       "      <td>politic</td>\n",
       "    </tr>\n",
       "    <tr>\n",
       "      <th>2</th>\n",
       "      <td>794779346</td>\n",
       "      <td>2.0</td>\n",
       "      <td>1689.0</td>\n",
       "      <td>344.0</td>\n",
       "      <td>795850304956661760</td>\n",
       "      <td>{'anger': 0, 'anticipation': 0, 'disgust': 0, ...</td>\n",
       "      <td>NaN</td>\n",
       "      <td>NaN</td>\n",
       "      <td>NaN</td>\n",
       "      <td>NaN</td>\n",
       "      <td>...</td>\n",
       "      <td>NaN</td>\n",
       "      <td>NaN</td>\n",
       "      <td>0</td>\n",
       "      <td>138</td>\n",
       "      <td>1</td>\n",
       "      <td>1</td>\n",
       "      <td>1</td>\n",
       "      <td>0</td>\n",
       "      <td>0</td>\n",
       "      <td>politic</td>\n",
       "    </tr>\n",
       "    <tr>\n",
       "      <th>3</th>\n",
       "      <td>2311063720</td>\n",
       "      <td>2.0</td>\n",
       "      <td>3478.0</td>\n",
       "      <td>2951.0</td>\n",
       "      <td>795861571381710848</td>\n",
       "      <td>{'anger': 1, 'anticipation': 1, 'disgust': 0, ...</td>\n",
       "      <td>0.142857</td>\n",
       "      <td>0.142857</td>\n",
       "      <td>0.0</td>\n",
       "      <td>0.0</td>\n",
       "      <td>...</td>\n",
       "      <td>0.142857</td>\n",
       "      <td>0.285714</td>\n",
       "      <td>7</td>\n",
       "      <td>139</td>\n",
       "      <td>1</td>\n",
       "      <td>1</td>\n",
       "      <td>0</td>\n",
       "      <td>1</td>\n",
       "      <td>0</td>\n",
       "      <td>politic</td>\n",
       "    </tr>\n",
       "    <tr>\n",
       "      <th>4</th>\n",
       "      <td>484040156</td>\n",
       "      <td>1.0</td>\n",
       "      <td>1224.0</td>\n",
       "      <td>2154.0</td>\n",
       "      <td>795866702974189568</td>\n",
       "      <td>{'anger': 0, 'anticipation': 1, 'disgust': 0, ...</td>\n",
       "      <td>0.000000</td>\n",
       "      <td>0.500000</td>\n",
       "      <td>0.0</td>\n",
       "      <td>0.0</td>\n",
       "      <td>...</td>\n",
       "      <td>0.000000</td>\n",
       "      <td>0.500000</td>\n",
       "      <td>2</td>\n",
       "      <td>148</td>\n",
       "      <td>1</td>\n",
       "      <td>1</td>\n",
       "      <td>0</td>\n",
       "      <td>0</td>\n",
       "      <td>0</td>\n",
       "      <td>politic</td>\n",
       "    </tr>\n",
       "  </tbody>\n",
       "</table>\n",
       "<p>5 rows × 22 columns</p>\n",
       "</div>"
      ],
      "text/plain": [
       "      user_id  retweet_count  followers_count  friends_count  \\\n",
       "0    22729901            8.0          86551.0         2674.0   \n",
       "1   794779346            4.0           1689.0          344.0   \n",
       "2   794779346            2.0           1689.0          344.0   \n",
       "3  2311063720            2.0           3478.0         2951.0   \n",
       "4   484040156            1.0           1224.0         2154.0   \n",
       "\n",
       "                   id                                          emo_words  \\\n",
       "0  795839414735732737  {'anger': 1, 'anticipation': 2, 'disgust': 0, ...   \n",
       "1  795840310597193728  {'anger': 0, 'anticipation': 1, 'disgust': 0, ...   \n",
       "2  795850304956661760  {'anger': 0, 'anticipation': 0, 'disgust': 0, ...   \n",
       "3  795861571381710848  {'anger': 1, 'anticipation': 1, 'disgust': 0, ...   \n",
       "4  795866702974189568  {'anger': 0, 'anticipation': 1, 'disgust': 0, ...   \n",
       "\n",
       "      anger  anticipation  disgust  fear   ...     surprise     trust  \\\n",
       "0  0.142857      0.285714      0.0   0.0   ...     0.142857  0.142857   \n",
       "1  0.000000      1.000000      0.0   0.0   ...     0.000000  0.000000   \n",
       "2       NaN           NaN      NaN   NaN   ...          NaN       NaN   \n",
       "3  0.142857      0.142857      0.0   0.0   ...     0.142857  0.285714   \n",
       "4  0.000000      0.500000      0.0   0.0   ...     0.000000  0.500000   \n",
       "\n",
       "   special_emos_sum  text_len  have_htag  have_url  have_at  have_date  \\\n",
       "0                 7       139          1         0        1          1   \n",
       "1                 1       142          1         1        1          0   \n",
       "2                 0       138          1         1        1          0   \n",
       "3                 7       139          1         1        0          1   \n",
       "4                 2       148          1         1        0          0   \n",
       "\n",
       "   have_loc    label  \n",
       "0         1  politic  \n",
       "1         0  politic  \n",
       "2         0  politic  \n",
       "3         0  politic  \n",
       "4         0  politic  \n",
       "\n",
       "[5 rows x 22 columns]"
      ]
     },
     "execution_count": 52,
     "metadata": {},
     "output_type": "execute_result"
    }
   ],
   "source": [
    "sub_elec_data['label'] = 'politic'\n",
    "sub_covid['label'] = 'covid'\n",
    "data = sub_elec_data.append(sub_covid, ignore_index=True)\n",
    "data.head()"
   ]
  },
  {
   "cell_type": "code",
   "execution_count": 53,
   "metadata": {},
   "outputs": [],
   "source": [
    "data.to_csv(path_2+'/covid_elec_reg.csv', index=False)"
   ]
  }
 ],
 "metadata": {
  "kernelspec": {
   "display_name": "Python 3",
   "language": "python",
   "name": "python3"
  },
  "language_info": {
   "codemirror_mode": {
    "name": "ipython",
    "version": 3
   },
   "file_extension": ".py",
   "mimetype": "text/x-python",
   "name": "python",
   "nbconvert_exporter": "python",
   "pygments_lexer": "ipython3",
   "version": "3.7.3"
  }
 },
 "nbformat": 4,
 "nbformat_minor": 2
}
