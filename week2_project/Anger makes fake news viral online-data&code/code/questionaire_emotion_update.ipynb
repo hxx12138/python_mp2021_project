{
 "cells": [
  {
   "cell_type": "code",
   "execution_count": 2,
   "metadata": {},
   "outputs": [],
   "source": [
    "import pandas as pd\n",
    "data1 = pd.read_csv('data/questionaire/data1.csv')\n",
    "data2 = pd.read_csv('data/questionaire/data2.csv')"
   ]
  },
  {
   "cell_type": "code",
   "execution_count": 4,
   "metadata": {},
   "outputs": [
    {
     "name": "stdout",
     "output_type": "stream",
     "text": [
      "(645, 36)\n",
      "(636, 36)\n"
     ]
    }
   ],
   "source": [
    "print(data1.shape)\n",
    "print(data2.shape)"
   ]
  },
  {
   "cell_type": "code",
   "execution_count": 6,
   "metadata": {},
   "outputs": [],
   "source": [
    "sub1 = data1.drop(['ip'], axis=1)\n",
    "sub2 = data2.drop(['ip'], axis=1)\n",
    "sub1.to_csv('data/questionaire/unmarked.csv', index=False)\n",
    "sub2.to_csv('data/questionaire/marked.csv', index=False)"
   ]
  },
  {
   "cell_type": "code",
   "execution_count": 7,
   "metadata": {},
   "outputs": [
    {
     "data": {
      "text/html": [
       "<div>\n",
       "<style scoped>\n",
       "    .dataframe tbody tr th:only-of-type {\n",
       "        vertical-align: middle;\n",
       "    }\n",
       "\n",
       "    .dataframe tbody tr th {\n",
       "        vertical-align: top;\n",
       "    }\n",
       "\n",
       "    .dataframe thead th {\n",
       "        text-align: right;\n",
       "    }\n",
       "</style>\n",
       "<table border=\"1\" class=\"dataframe\">\n",
       "  <thead>\n",
       "    <tr style=\"text-align: right;\">\n",
       "      <th></th>\n",
       "      <th>idx</th>\n",
       "      <th>submittime</th>\n",
       "      <th>costtime</th>\n",
       "      <th>source</th>\n",
       "      <th>detail</th>\n",
       "      <th>text_id</th>\n",
       "      <th>M1-1</th>\n",
       "      <th>M1-2</th>\n",
       "      <th>M1-3</th>\n",
       "      <th>M1-4</th>\n",
       "      <th>...</th>\n",
       "      <th>M4-3</th>\n",
       "      <th>M4-4</th>\n",
       "      <th>total_score</th>\n",
       "      <th>text</th>\n",
       "      <th>label</th>\n",
       "      <th>emotion</th>\n",
       "      <th>M1</th>\n",
       "      <th>M2</th>\n",
       "      <th>M3</th>\n",
       "      <th>M4</th>\n",
       "    </tr>\n",
       "  </thead>\n",
       "  <tbody>\n",
       "    <tr>\n",
       "      <th>0</th>\n",
       "      <td>1</td>\n",
       "      <td>2019/12/3 10:19:15</td>\n",
       "      <td>122秒</td>\n",
       "      <td>样本服务</td>\n",
       "      <td>NaN</td>\n",
       "      <td>5</td>\n",
       "      <td>3</td>\n",
       "      <td>4</td>\n",
       "      <td>2</td>\n",
       "      <td>3</td>\n",
       "      <td>...</td>\n",
       "      <td>2</td>\n",
       "      <td>2</td>\n",
       "      <td>58</td>\n",
       "      <td>小女孩死于用完没有收好的手机充电器，她将充电器的一端放进嘴里，触电身亡，女孩父母悔恨不已，主...</td>\n",
       "      <td>HLF</td>\n",
       "      <td>fear</td>\n",
       "      <td>18</td>\n",
       "      <td>21</td>\n",
       "      <td>11</td>\n",
       "      <td>8</td>\n",
       "    </tr>\n",
       "    <tr>\n",
       "      <th>1</th>\n",
       "      <td>2</td>\n",
       "      <td>2019/12/3 10:21:11</td>\n",
       "      <td>116秒</td>\n",
       "      <td>样本服务</td>\n",
       "      <td>NaN</td>\n",
       "      <td>1</td>\n",
       "      <td>3</td>\n",
       "      <td>4</td>\n",
       "      <td>3</td>\n",
       "      <td>3</td>\n",
       "      <td>...</td>\n",
       "      <td>2</td>\n",
       "      <td>3</td>\n",
       "      <td>57</td>\n",
       "      <td>紧急通知： 妇幼保健院通知、：现在得白血病的小孩越来越多，妇幼保健院提示您，请不要给宝宝喝爽...</td>\n",
       "      <td>HLF</td>\n",
       "      <td>fear</td>\n",
       "      <td>19</td>\n",
       "      <td>18</td>\n",
       "      <td>8</td>\n",
       "      <td>12</td>\n",
       "    </tr>\n",
       "    <tr>\n",
       "      <th>2</th>\n",
       "      <td>3</td>\n",
       "      <td>2019/12/3 10:22:16</td>\n",
       "      <td>166秒</td>\n",
       "      <td>样本服务</td>\n",
       "      <td>NaN</td>\n",
       "      <td>2</td>\n",
       "      <td>2</td>\n",
       "      <td>3</td>\n",
       "      <td>2</td>\n",
       "      <td>2</td>\n",
       "      <td>...</td>\n",
       "      <td>2</td>\n",
       "      <td>2</td>\n",
       "      <td>50</td>\n",
       "      <td>看，安利老板死了！才56岁，吃了27年的纽崔莱，好讽刺啊。再看！安利成冠3S系统创始人陈观田...</td>\n",
       "      <td>HLF</td>\n",
       "      <td>disgust</td>\n",
       "      <td>14</td>\n",
       "      <td>20</td>\n",
       "      <td>9</td>\n",
       "      <td>7</td>\n",
       "    </tr>\n",
       "    <tr>\n",
       "      <th>3</th>\n",
       "      <td>4</td>\n",
       "      <td>2019/12/3 10:22:38</td>\n",
       "      <td>133秒</td>\n",
       "      <td>样本服务</td>\n",
       "      <td>NaN</td>\n",
       "      <td>4</td>\n",
       "      <td>3</td>\n",
       "      <td>3</td>\n",
       "      <td>4</td>\n",
       "      <td>3</td>\n",
       "      <td>...</td>\n",
       "      <td>3</td>\n",
       "      <td>3</td>\n",
       "      <td>69</td>\n",
       "      <td>在宁波已发现中国国内第一起埃博拉，此疾病基本死亡率90%。流入中国时间比专家预估时间早十天。...</td>\n",
       "      <td>HLF</td>\n",
       "      <td>fear</td>\n",
       "      <td>20</td>\n",
       "      <td>20</td>\n",
       "      <td>16</td>\n",
       "      <td>13</td>\n",
       "    </tr>\n",
       "    <tr>\n",
       "      <th>4</th>\n",
       "      <td>5</td>\n",
       "      <td>2019/12/3 10:23:15</td>\n",
       "      <td>117秒</td>\n",
       "      <td>样本服务</td>\n",
       "      <td>NaN</td>\n",
       "      <td>3</td>\n",
       "      <td>1</td>\n",
       "      <td>3</td>\n",
       "      <td>3</td>\n",
       "      <td>3</td>\n",
       "      <td>...</td>\n",
       "      <td>4</td>\n",
       "      <td>3</td>\n",
       "      <td>64</td>\n",
       "      <td>【可恶！骆驼被砍四肢当街行乞】骆驼一般只在动物园才能见到，但近日，人们却在福州街头见到一只乞...</td>\n",
       "      <td>HLF</td>\n",
       "      <td>anger</td>\n",
       "      <td>15</td>\n",
       "      <td>22</td>\n",
       "      <td>15</td>\n",
       "      <td>12</td>\n",
       "    </tr>\n",
       "  </tbody>\n",
       "</table>\n",
       "<p>5 rows × 35 columns</p>\n",
       "</div>"
      ],
      "text/plain": [
       "   idx          submittime costtime source  detail  text_id  M1-1  M1-2  M1-3  \\\n",
       "0    1  2019/12/3 10:19:15     122秒   样本服务     NaN        5     3     4     2   \n",
       "1    2  2019/12/3 10:21:11     116秒   样本服务     NaN        1     3     4     3   \n",
       "2    3  2019/12/3 10:22:16     166秒   样本服务     NaN        2     2     3     2   \n",
       "3    4  2019/12/3 10:22:38     133秒   样本服务     NaN        4     3     3     4   \n",
       "4    5  2019/12/3 10:23:15     117秒   样本服务     NaN        3     1     3     3   \n",
       "\n",
       "   M1-4 ...  M4-3  M4-4  total_score  \\\n",
       "0     3 ...     2     2           58   \n",
       "1     3 ...     2     3           57   \n",
       "2     2 ...     2     2           50   \n",
       "3     3 ...     3     3           69   \n",
       "4     3 ...     4     3           64   \n",
       "\n",
       "                                                text  label  emotion  M1  M2  \\\n",
       "0  小女孩死于用完没有收好的手机充电器，她将充电器的一端放进嘴里，触电身亡，女孩父母悔恨不已，主...    HLF     fear  18  21   \n",
       "1  紧急通知： 妇幼保健院通知、：现在得白血病的小孩越来越多，妇幼保健院提示您，请不要给宝宝喝爽...    HLF     fear  19  18   \n",
       "2  看，安利老板死了！才56岁，吃了27年的纽崔莱，好讽刺啊。再看！安利成冠3S系统创始人陈观田...    HLF  disgust  14  20   \n",
       "3  在宁波已发现中国国内第一起埃博拉，此疾病基本死亡率90%。流入中国时间比专家预估时间早十天。...    HLF     fear  20  20   \n",
       "4  【可恶！骆驼被砍四肢当街行乞】骆驼一般只在动物园才能见到，但近日，人们却在福州街头见到一只乞...    HLF    anger  15  22   \n",
       "\n",
       "   M3  M4  \n",
       "0  11   8  \n",
       "1   8  12  \n",
       "2   9   7  \n",
       "3  16  13  \n",
       "4  15  12  \n",
       "\n",
       "[5 rows x 35 columns]"
      ]
     },
     "execution_count": 7,
     "metadata": {},
     "output_type": "execute_result"
    }
   ],
   "source": [
    "sub1.head()"
   ]
  },
  {
   "cell_type": "markdown",
   "metadata": {},
   "source": [
    "# M-AVG"
   ]
  },
  {
   "cell_type": "code",
   "execution_count": 3,
   "metadata": {},
   "outputs": [],
   "source": [
    "data1['keywords'] = 0\n",
    "data2['keywords'] = 1\n",
    "data = data1.append(data2)\n",
    "data = data.reset_index(drop=True)\n",
    "Motis = {'M1':['M1-1', 'M1-2', 'M1-3', 'M1-4', 'M1-5', 'M1-6'], \n",
    "         'M2':['M2-1', 'M2-2', 'M2-3', 'M2-4', 'M2-5', 'M2-6'],\n",
    "         'M3':['M3-1', 'M3-2', 'M3-3', 'M3-4', 'M3-5'], \n",
    "         'M4':['M4-1', 'M4-2', 'M4-3', 'M4-4']}\n",
    "for m in ['M1', 'M2', 'M3', 'M4']:\n",
    "    col = Motis[m]\n",
    "    data[m] = data[col].apply(lambda x: x.sum()/len(x), axis=1)\n",
    "data['avg'] = data[['M1', 'M2', 'M3', 'M4']].apply(lambda x: x.sum()/len(x), axis=1)\n",
    "data['M1-avg'] = data['M1'] - data['avg']\n",
    "data['M2-avg'] = data['M2'] - data['avg']\n",
    "data['M3-avg'] = data['M3'] - data['avg']\n",
    "data['M4-avg'] = data['M4'] - data['avg']"
   ]
  },
  {
   "cell_type": "code",
   "execution_count": 4,
   "metadata": {},
   "outputs": [],
   "source": [
    "data_LHF = data[data['label']=='LHF']\n",
    "data_HLF = data[data['label']=='HLF']\n",
    "data_HLT = data[data['label']=='HLT']"
   ]
  },
  {
   "cell_type": "markdown",
   "metadata": {},
   "source": [
    "## 分组动机"
   ]
  },
  {
   "cell_type": "code",
   "execution_count": 5,
   "metadata": {},
   "outputs": [
    {
     "name": "stdout",
     "output_type": "stream",
     "text": [
      "M1-avg\n",
      "    unlabel: LHF-HLF:Ks_2sampResult(statistic=0.23536447754457232, pvalue=1.2108024755597135e-05)\n",
      "    unlabel: LHF-HLT:Ks_2sampResult(statistic=0.14434523809523808, pvalue=0.01921453614188351)\n",
      "    unlabel: HLF-HLT:Ks_2sampResult(statistic=0.11721394719025051, pvalue=0.0907231129906716)\n",
      "    label: LHF-HLF:Ks_2sampResult(statistic=0.24177897574123988, pvalue=6.381765591645383e-06)\n",
      "    label: LHF-HLT:Ks_2sampResult(statistic=0.15345618056780108, pvalue=0.011511565961241588)\n",
      "    label: HLF-HLT:Ks_2sampResult(statistic=0.10729862038273254, pvalue=0.1577630092243142)\n",
      "M2-avg\n",
      "    unlabel: LHF-HLF:Ks_2sampResult(statistic=0.12708192281651998, pvalue=0.05604977794496813)\n",
      "    unlabel: LHF-HLT:Ks_2sampResult(statistic=0.16726190476190475, pvalue=0.003970388047542128)\n",
      "    unlabel: HLF-HLT:Ks_2sampResult(statistic=0.21219109681787407, pvalue=8.808120461378799e-05)\n",
      "    label: LHF-HLF:Ks_2sampResult(statistic=0.09380053908355795, pvalue=0.2829522130409827)\n",
      "    label: LHF-HLT:Ks_2sampResult(statistic=0.18722447540116383, pvalue=0.0009575172980129665)\n",
      "    label: HLF-HLT:Ks_2sampResult(statistic=0.2664886515353805, pvalue=3.8770184862535473e-07)\n",
      "M3-avg\n",
      "    unlabel: LHF-HLF:Ks_2sampResult(statistic=0.10268562401263823, pvalue=0.1937235831894556)\n",
      "    unlabel: LHF-HLT:Ks_2sampResult(statistic=0.10029761904761905, pvalue=0.20743302276841513)\n",
      "    unlabel: HLF-HLT:Ks_2sampResult(statistic=0.13026828029790116, pvalue=0.044335538001846087)\n",
      "    label: LHF-HLF:Ks_2sampResult(statistic=0.13598382749326146, pvalue=0.03553809510874051)\n",
      "    label: LHF-HLT:Ks_2sampResult(statistic=0.05823487921001587, pvalue=0.8336333630992064)\n",
      "    label: HLF-HLT:Ks_2sampResult(statistic=0.10551846906987093, pvalue=0.17075753276337913)\n",
      "M4-avg\n",
      "    unlabel: LHF-HLF:Ks_2sampResult(statistic=0.08792597607763485, pvalue=0.3592677420829533)\n",
      "    unlabel: LHF-HLT:Ks_2sampResult(statistic=0.2836309523809524, pvalue=3.422114414064481e-08)\n",
      "    unlabel: HLF-HLT:Ks_2sampResult(statistic=0.23040792146242384, pvalue=1.46504859246388e-05)\n",
      "    label: LHF-HLF:Ks_2sampResult(statistic=0.09618149146451033, pvalue=0.26081298791031693)\n",
      "    label: LHF-HLT:Ks_2sampResult(statistic=0.274290248633398, pvalue=1.348808610357466e-07)\n",
      "    label: HLF-HLT:Ks_2sampResult(statistic=0.2136181575433912, pvalue=9.7627072706441e-05)\n"
     ]
    }
   ],
   "source": [
    "from scipy.stats import ks_2samp\n",
    "\n",
    "for m in ['M1-avg', 'M2-avg', 'M3-avg', 'M4-avg']:\n",
    "    print(m)\n",
    "    print('    unlabel: LHF-HLF:{}'.format(ks_2samp(data_LHF[m][data_LHF['keywords']==0], \n",
    "                                                    data_HLF[m][data_HLF['keywords']==0])))\n",
    "    print('    unlabel: LHF-HLT:{}'.format(ks_2samp(data_LHF[m][data_LHF['keywords']==0], \n",
    "                                                    data_HLT[m][data_HLT['keywords']==0])))\n",
    "    print('    unlabel: HLF-HLT:{}'.format(ks_2samp(data_HLF[m][data_HLF['keywords']==0], \n",
    "                                                    data_HLT[m][data_HLT['keywords']==0])))\n",
    "    print('    label: LHF-HLF:{}'.format(ks_2samp(data_LHF[m][data_LHF['keywords']==1], \n",
    "                                                  data_HLF[m][data_HLF['keywords']==1])))\n",
    "    print('    label: LHF-HLT:{}'.format(ks_2samp(data_LHF[m][data_LHF['keywords']==1], \n",
    "                                                  data_HLT[m][data_HLT['keywords']==1])))\n",
    "    print('    label: HLF-HLT:{}'.format(ks_2samp(data_HLF[m][data_HLF['keywords']==1], \n",
    "                                                  data_HLT[m][data_HLT['keywords']==1])))"
   ]
  },
  {
   "cell_type": "code",
   "execution_count": 8,
   "metadata": {},
   "outputs": [
    {
     "data": {
      "text/html": [
       "<div>\n",
       "<style scoped>\n",
       "    .dataframe tbody tr th:only-of-type {\n",
       "        vertical-align: middle;\n",
       "    }\n",
       "\n",
       "    .dataframe tbody tr th {\n",
       "        vertical-align: top;\n",
       "    }\n",
       "\n",
       "    .dataframe thead th {\n",
       "        text-align: right;\n",
       "    }\n",
       "</style>\n",
       "<table border=\"1\" class=\"dataframe\">\n",
       "  <thead>\n",
       "    <tr style=\"text-align: right;\">\n",
       "      <th></th>\n",
       "      <th>M1-avg</th>\n",
       "      <th>M2-avg</th>\n",
       "      <th>M3-avg</th>\n",
       "      <th>M4-avg</th>\n",
       "    </tr>\n",
       "  </thead>\n",
       "  <tbody>\n",
       "    <tr>\n",
       "      <th>count</th>\n",
       "      <td>212.000000</td>\n",
       "      <td>212.000000</td>\n",
       "      <td>212.000000</td>\n",
       "      <td>212.000000</td>\n",
       "    </tr>\n",
       "    <tr>\n",
       "      <th>mean</th>\n",
       "      <td>0.073487</td>\n",
       "      <td>0.498801</td>\n",
       "      <td>-0.264092</td>\n",
       "      <td>-0.308196</td>\n",
       "    </tr>\n",
       "    <tr>\n",
       "      <th>std</th>\n",
       "      <td>0.380414</td>\n",
       "      <td>0.405410</td>\n",
       "      <td>0.384499</td>\n",
       "      <td>0.409732</td>\n",
       "    </tr>\n",
       "    <tr>\n",
       "      <th>min</th>\n",
       "      <td>-1.004167</td>\n",
       "      <td>-0.700000</td>\n",
       "      <td>-1.112500</td>\n",
       "      <td>-1.620833</td>\n",
       "    </tr>\n",
       "    <tr>\n",
       "      <th>25%</th>\n",
       "      <td>-0.166667</td>\n",
       "      <td>0.182292</td>\n",
       "      <td>-0.552083</td>\n",
       "      <td>-0.607292</td>\n",
       "    </tr>\n",
       "    <tr>\n",
       "      <th>50%</th>\n",
       "      <td>0.037500</td>\n",
       "      <td>0.512500</td>\n",
       "      <td>-0.200000</td>\n",
       "      <td>-0.218750</td>\n",
       "    </tr>\n",
       "    <tr>\n",
       "      <th>75%</th>\n",
       "      <td>0.288542</td>\n",
       "      <td>0.791667</td>\n",
       "      <td>0.009375</td>\n",
       "      <td>-0.014583</td>\n",
       "    </tr>\n",
       "    <tr>\n",
       "      <th>max</th>\n",
       "      <td>1.058333</td>\n",
       "      <td>1.533333</td>\n",
       "      <td>0.783333</td>\n",
       "      <td>0.787500</td>\n",
       "    </tr>\n",
       "  </tbody>\n",
       "</table>\n",
       "</div>"
      ],
      "text/plain": [
       "           M1-avg      M2-avg      M3-avg      M4-avg\n",
       "count  212.000000  212.000000  212.000000  212.000000\n",
       "mean     0.073487    0.498801   -0.264092   -0.308196\n",
       "std      0.380414    0.405410    0.384499    0.409732\n",
       "min     -1.004167   -0.700000   -1.112500   -1.620833\n",
       "25%     -0.166667    0.182292   -0.552083   -0.607292\n",
       "50%      0.037500    0.512500   -0.200000   -0.218750\n",
       "75%      0.288542    0.791667    0.009375   -0.014583\n",
       "max      1.058333    1.533333    0.783333    0.787500"
      ]
     },
     "execution_count": 8,
     "metadata": {},
     "output_type": "execute_result"
    }
   ],
   "source": [
    "data_LHF[['M1-avg', 'M2-avg', 'M3-avg', 'M4-avg']][data_LHF['keywords']==1].describe()"
   ]
  },
  {
   "cell_type": "code",
   "execution_count": 10,
   "metadata": {},
   "outputs": [
    {
     "data": {
      "text/html": [
       "<div>\n",
       "<style scoped>\n",
       "    .dataframe tbody tr th:only-of-type {\n",
       "        vertical-align: middle;\n",
       "    }\n",
       "\n",
       "    .dataframe tbody tr th {\n",
       "        vertical-align: top;\n",
       "    }\n",
       "\n",
       "    .dataframe thead th {\n",
       "        text-align: right;\n",
       "    }\n",
       "</style>\n",
       "<table border=\"1\" class=\"dataframe\">\n",
       "  <thead>\n",
       "    <tr style=\"text-align: right;\">\n",
       "      <th></th>\n",
       "      <th>M1-avg</th>\n",
       "      <th>M2-avg</th>\n",
       "      <th>M3-avg</th>\n",
       "      <th>M4-avg</th>\n",
       "    </tr>\n",
       "  </thead>\n",
       "  <tbody>\n",
       "    <tr>\n",
       "      <th>count</th>\n",
       "      <td>210.000000</td>\n",
       "      <td>210.000000</td>\n",
       "      <td>210.000000</td>\n",
       "      <td>210.000000</td>\n",
       "    </tr>\n",
       "    <tr>\n",
       "      <th>mean</th>\n",
       "      <td>-0.097599</td>\n",
       "      <td>0.565893</td>\n",
       "      <td>-0.188552</td>\n",
       "      <td>-0.279742</td>\n",
       "    </tr>\n",
       "    <tr>\n",
       "      <th>std</th>\n",
       "      <td>0.347347</td>\n",
       "      <td>0.421701</td>\n",
       "      <td>0.333062</td>\n",
       "      <td>0.447777</td>\n",
       "    </tr>\n",
       "    <tr>\n",
       "      <th>min</th>\n",
       "      <td>-1.000000</td>\n",
       "      <td>-0.858333</td>\n",
       "      <td>-1.050000</td>\n",
       "      <td>-1.400000</td>\n",
       "    </tr>\n",
       "    <tr>\n",
       "      <th>25%</th>\n",
       "      <td>-0.315625</td>\n",
       "      <td>0.300000</td>\n",
       "      <td>-0.450000</td>\n",
       "      <td>-0.582292</td>\n",
       "    </tr>\n",
       "    <tr>\n",
       "      <th>50%</th>\n",
       "      <td>-0.102083</td>\n",
       "      <td>0.562500</td>\n",
       "      <td>-0.181250</td>\n",
       "      <td>-0.220833</td>\n",
       "    </tr>\n",
       "    <tr>\n",
       "      <th>75%</th>\n",
       "      <td>0.116667</td>\n",
       "      <td>0.856250</td>\n",
       "      <td>0.048958</td>\n",
       "      <td>0.025000</td>\n",
       "    </tr>\n",
       "    <tr>\n",
       "      <th>max</th>\n",
       "      <td>0.991667</td>\n",
       "      <td>1.741667</td>\n",
       "      <td>0.700000</td>\n",
       "      <td>0.808333</td>\n",
       "    </tr>\n",
       "  </tbody>\n",
       "</table>\n",
       "</div>"
      ],
      "text/plain": [
       "           M1-avg      M2-avg      M3-avg      M4-avg\n",
       "count  210.000000  210.000000  210.000000  210.000000\n",
       "mean    -0.097599    0.565893   -0.188552   -0.279742\n",
       "std      0.347347    0.421701    0.333062    0.447777\n",
       "min     -1.000000   -0.858333   -1.050000   -1.400000\n",
       "25%     -0.315625    0.300000   -0.450000   -0.582292\n",
       "50%     -0.102083    0.562500   -0.181250   -0.220833\n",
       "75%      0.116667    0.856250    0.048958    0.025000\n",
       "max      0.991667    1.741667    0.700000    0.808333"
      ]
     },
     "execution_count": 10,
     "metadata": {},
     "output_type": "execute_result"
    }
   ],
   "source": [
    "data_HLF[['M1-avg', 'M2-avg', 'M3-avg', 'M4-avg']][data_HLF['keywords']==1].describe()"
   ]
  },
  {
   "cell_type": "code",
   "execution_count": 6,
   "metadata": {},
   "outputs": [
    {
     "data": {
      "text/html": [
       "<div>\n",
       "<style scoped>\n",
       "    .dataframe tbody tr th:only-of-type {\n",
       "        vertical-align: middle;\n",
       "    }\n",
       "\n",
       "    .dataframe tbody tr th {\n",
       "        vertical-align: top;\n",
       "    }\n",
       "\n",
       "    .dataframe thead th {\n",
       "        text-align: right;\n",
       "    }\n",
       "</style>\n",
       "<table border=\"1\" class=\"dataframe\">\n",
       "  <thead>\n",
       "    <tr style=\"text-align: right;\">\n",
       "      <th></th>\n",
       "      <th>M1-avg</th>\n",
       "      <th>M2-avg</th>\n",
       "      <th>M3-avg</th>\n",
       "      <th>M4-avg</th>\n",
       "    </tr>\n",
       "  </thead>\n",
       "  <tbody>\n",
       "    <tr>\n",
       "      <th>count</th>\n",
       "      <td>214.000000</td>\n",
       "      <td>214.000000</td>\n",
       "      <td>214.000000</td>\n",
       "      <td>214.000000</td>\n",
       "    </tr>\n",
       "    <tr>\n",
       "      <th>mean</th>\n",
       "      <td>-0.037578</td>\n",
       "      <td>0.353388</td>\n",
       "      <td>-0.264213</td>\n",
       "      <td>-0.051597</td>\n",
       "    </tr>\n",
       "    <tr>\n",
       "      <th>std</th>\n",
       "      <td>0.337936</td>\n",
       "      <td>0.395185</td>\n",
       "      <td>0.360444</td>\n",
       "      <td>0.425809</td>\n",
       "    </tr>\n",
       "    <tr>\n",
       "      <th>min</th>\n",
       "      <td>-1.045833</td>\n",
       "      <td>-0.720833</td>\n",
       "      <td>-1.237500</td>\n",
       "      <td>-1.312500</td>\n",
       "    </tr>\n",
       "    <tr>\n",
       "      <th>25%</th>\n",
       "      <td>-0.240625</td>\n",
       "      <td>0.065625</td>\n",
       "      <td>-0.503125</td>\n",
       "      <td>-0.315625</td>\n",
       "    </tr>\n",
       "    <tr>\n",
       "      <th>50%</th>\n",
       "      <td>-0.045833</td>\n",
       "      <td>0.283333</td>\n",
       "      <td>-0.247917</td>\n",
       "      <td>-0.018750</td>\n",
       "    </tr>\n",
       "    <tr>\n",
       "      <th>75%</th>\n",
       "      <td>0.156250</td>\n",
       "      <td>0.637500</td>\n",
       "      <td>0.008333</td>\n",
       "      <td>0.244792</td>\n",
       "    </tr>\n",
       "    <tr>\n",
       "      <th>max</th>\n",
       "      <td>1.141667</td>\n",
       "      <td>1.483333</td>\n",
       "      <td>0.512500</td>\n",
       "      <td>0.941667</td>\n",
       "    </tr>\n",
       "  </tbody>\n",
       "</table>\n",
       "</div>"
      ],
      "text/plain": [
       "           M1-avg      M2-avg      M3-avg      M4-avg\n",
       "count  214.000000  214.000000  214.000000  214.000000\n",
       "mean    -0.037578    0.353388   -0.264213   -0.051597\n",
       "std      0.337936    0.395185    0.360444    0.425809\n",
       "min     -1.045833   -0.720833   -1.237500   -1.312500\n",
       "25%     -0.240625    0.065625   -0.503125   -0.315625\n",
       "50%     -0.045833    0.283333   -0.247917   -0.018750\n",
       "75%      0.156250    0.637500    0.008333    0.244792\n",
       "max      1.141667    1.483333    0.512500    0.941667"
      ]
     },
     "execution_count": 6,
     "metadata": {},
     "output_type": "execute_result"
    }
   ],
   "source": [
    "data_HLT[['M1-avg', 'M2-avg', 'M3-avg', 'M4-avg']][data_HLT['keywords']==1].describe()"
   ]
  },
  {
   "cell_type": "code",
   "execution_count": 6,
   "metadata": {},
   "outputs": [],
   "source": [
    "import statsmodels.api as sm\n",
    "def ecdf(data):\n",
    "    return sm.distributions.ECDF(data)"
   ]
  },
  {
   "cell_type": "code",
   "execution_count": 20,
   "metadata": {},
   "outputs": [],
   "source": [
    "import matplotlib.pyplot as plt\n",
    "import numpy as np\n",
    "\n",
    "def ccdf_plot_news(column, keywords, ls):\n",
    "    font1 = { 'weight': 'normal', 'size': 18}\n",
    "    font2 = { 'weight': 'normal', 'size': 14}\n",
    "    fig, ax = plt.subplots()\n",
    "    dp1 = data_HLT[column][data_HLT['keywords']==keywords]\n",
    "    dp2 = data_HLF[column][data_HLF['keywords']==keywords]\n",
    "    dp3 = data_LHF[column][data_LHF['keywords']==keywords]\n",
    "    dp_list = [dp1, dp2, dp3]\n",
    "    labels = ['HLT news', 'HLF news', 'LHF news']\n",
    "    colors = ['#7FA5B7', '#385989', '#D22027']\n",
    "    def dr(d):\n",
    "        drange = np.arange(min(d),max(d)+0.01,0.01)\n",
    "        return drange\n",
    "    for i in range(len(dp_list)):\n",
    "        ax.plot(dr(dp_list[i]), \n",
    "                1-ecdf(dp_list[i])(dr(dp_list[i])), \n",
    "                label=labels[i], \n",
    "                color=colors[i],\n",
    "                linewidth=3, \n",
    "                linestyle=ls)\n",
    "    ax.spines['top'].set_visible(False)\n",
    "    ax.spines['right'].set_visible(False)\n",
    "    ax.tick_params(labelsize=16, colors='black')\n",
    "    ax.set_xlabel(str(column), font1, color='black')\n",
    "    ax.set_ylabel('CCDF', font1, color='black')\n",
    "    if column == 'M1-avg':\n",
    "        ax.legend(prop=font1)\n",
    "    plt.tight_layout()\n",
    "    plt.savefig('images/'+str(column)+'_ccdf_'+str(keywords)+'.pdf')\n",
    "    plt.savefig('images/'+str(column)+'_ccdf_'+str(keywords)+'.jpg', dpi=600)\n",
    "    plt.show()"
   ]
  },
  {
   "cell_type": "code",
   "execution_count": 25,
   "metadata": {},
   "outputs": [
    {
     "data": {
      "image/png": "[encoded data removed]",
      "text/plain": [
       "<Figure size 432x288 with 1 Axes>"
      ]
     },
     "metadata": {
      "needs_background": "light"
     },
     "output_type": "display_data"
    },
    {
     "data": {
      "image/png": "[encoded data removed]",
      "text/plain": [
       "<Figure size 432x288 with 1 Axes>"
      ]
     },
     "metadata": {
      "needs_background": "light"
     },
     "output_type": "display_data"
    },
    {
     "data": {
      "image/png": "[encoded data removed]",
      "text/plain": [
       "<Figure size 432x288 with 1 Axes>"
      ]
     },
     "metadata": {
      "needs_background": "light"
     },
     "output_type": "display_data"
    },
    {
     "data": {
      "image/png": "[encoded data removed]",
      "text/plain": [
       "<Figure size 432x288 with 1 Axes>"
      ]
     },
     "metadata": {
      "needs_background": "light"
     },
     "output_type": "display_data"
    },
    {
     "data": {
      "image/png": "[encoded data removed]",
      "text/plain": [
       "<Figure size 432x288 with 1 Axes>"
      ]
     },
     "metadata": {
      "needs_background": "light"
     },
     "output_type": "display_data"
    },
    {
     "data": {
      "image/png": "[encoded data removed]",
      "text/plain": [
       "<Figure size 432x288 with 1 Axes>"
      ]
     },
     "metadata": {
      "needs_background": "light"
     },
     "output_type": "display_data"
    },
    {
     "data": {
      "image/png": "[encoded data removed]",
      "text/plain": [
       "<Figure size 432x288 with 1 Axes>"
      ]
     },
     "metadata": {
      "needs_background": "light"
     },
     "output_type": "display_data"
    },
    {
     "data": {
      "image/png": "[encoded data removed]",
      "text/plain": [
       "<Figure size 432x288 with 1 Axes>"
      ]
     },
     "metadata": {
      "needs_background": "light"
     },
     "output_type": "display_data"
    }
   ],
   "source": [
    "for m in ['M1-avg', 'M2-avg', 'M3-avg', 'M4-avg']:\n",
    "    ccdf_plot_news(m, 0, '-')\n",
    "    ccdf_plot_news(m, 1, '--')"
   ]
  },
  {
   "cell_type": "markdown",
   "metadata": {},
   "source": [
    "## 情绪anger-other"
   ]
  },
  {
   "cell_type": "code",
   "execution_count": 23,
   "metadata": {},
   "outputs": [],
   "source": [
    "anger_text = ['5月12日不要去电影院。请大家一定别进影院，大家一起为贞子票房为零，做努力！ 中国人拍的《金陵十三钗》在日本小鬼子票房为零。小日本拍的贞子3D将于5月12日在中国大陆上映。而5月12日既是南京大屠杀纪念日，又是国难日。勿忘国耻！作为中国人，敢不敢让贞子3D 5月12日票房为零。朋友们，必须转起转起',\n",
    "              '今天下午六点开始，全市高清探头全部启用，副驾驶不系安全带相同处罚，开车时打电话罚款50元，闯黄闪罚款200，越线停车罚款100，今天起晚六点至深夜2点，为期60天的全国交警集中查处酒驾，一经查获，一律拘役六个月，五年内不得考证。请相互转告至有车的本人、朋友及亲属，避免罚款']\n",
    "#               '【可恶！骆驼被砍四肢当街行乞】骆驼一般只在动物园才能见到，但近日，人们却在福州街头见到一只乞讨的骆驼。骆驼身旁有两位衣衫褴褛的人跪在地上磕头乞讨。民警发现，骆驼的四肢均有不同程度的损伤，四肢均无蹄子，据伤口观测有很大可能是人为造成。警方已协调相关部门处理']\n",
    "joy_text = ['#天津塘沽大爆炸#我不确定文字真实 我只知道我很感动 我只知道几批消防队员没有生还 他们奔赴爆炸现场的时候那种无畏 可他们为了人民 真的很伟大  没错我做不了什么 我只能给予他们最真诚的感谢🙏   我只是一个刚刚成年的学生 看法自然稚嫩 我只希望人们可以做好自己该做的事 不要被利益地位冲昏头脑',\n",
    "            '#西部资源重组媒体说明会# 【阙文彬回答媒体提问：继续加大稀贵金属投资】针对媒体关于公司主业方面的提问，西部资源实际控制人阙文彬说，从新能源到文化转到稀贵金属，我个人认为新的董事会或者新的经营班子接上后，应该在2亿-5亿的利润差不多，在这个基础上将现有的一些企业通过一种合法的途径出售，...全文： http://m.weibo.cn/1315587597/4010238174942685',\n",
    "            '#鹤壁身边事# 【淇滨区兰苑社区刘振强：带爸妈旅行，收获满满的幸福】“我父亲一直想出门走走，特别想去北京看一看。我以前没有在意，感觉父母还年轻，以后有的是机会。直到父亲生了一场大病，需要借助轮椅出行，我才感到了后悔，幸好还来得及补救。”8月16日，淇滨区兰苑社区的刘振强告诉记者，最近他...全文： http://m.weibo.cn/2514256341/4009491428875467',\n",
    "            '#里约奥运会# 【“不懂球的胖纸”辛苦啦[威武]】那位中国乒乓天团背后的胖子[偷笑]，对！刘国梁，绝对是个全能多面手。魔鬼训练队员，提供呐喊、助威、唤醒服务，送水送毛巾，么么哒队员[亲亲]，还得亲自煮面犒赏三军......于是中国连续三届奥运拿下乒乓全部金牌[奥运金牌]。有网友说：“又当爹又当妈...全文： http://m.weibo.cn/1891503444/4009944795388322',\n",
    "            '7月12日本报二版为您呈现：中国文物保护基金会召开专项基金工作座谈会、安徽铜陵全力抢险凤凰山铜矿金牛洞古采矿遗址、国博举办《四部医典》曼唐长卷——娘本唐卡艺术传承成果展、湖北实施“三级联审”模式，加快推进文物普查数据审核、新疆举办第一次全国可移动文物普查培训班、《南海诸岛地理志略》...全文： http://m.weibo.cn/1250227403/3997198805156773' \n",
    "           ]\n",
    "data['is_anger'] = data['text'].apply(lambda text: 1 if text in anger_text else 0)\n",
    "data['is_joy'] = data['text'].apply(lambda text: 1 if text in joy_text else 0)"
   ]
  },
  {
   "cell_type": "code",
   "execution_count": 24,
   "metadata": {},
   "outputs": [],
   "source": [
    "data_anger = data[data['is_anger']==1]\n",
    "data_joy = data[data['is_joy']==1]\n",
    "data_other = data[data['is_anger']!=1]"
   ]
  },
  {
   "cell_type": "code",
   "execution_count": 20,
   "metadata": {},
   "outputs": [
    {
     "name": "stdout",
     "output_type": "stream",
     "text": [
      "M1-avg\n",
      "    anger-other:Ks_2sampResult(statistic=0.12724618149146452, pvalue=0.016039436824046294)\n",
      "M2-avg\n",
      "    anger-other:Ks_2sampResult(statistic=0.09490116801437556, pvalue=0.13467073943460095)\n",
      "M3-avg\n",
      "    anger-other:Ks_2sampResult(statistic=0.05312219227313567, pvalue=0.7826989635014926)\n",
      "M4-avg\n",
      "    anger-other:Ks_2sampResult(statistic=0.06761006289308176, pvalue=0.49429677502332003)\n"
     ]
    }
   ],
   "source": [
    "for m in ['M1-avg', 'M2-avg', 'M3-avg', 'M4-avg']:\n",
    "    print(m)\n",
    "    print('    anger-other:{}'.format(ks_2samp(data_anger[m], data_other[m])))"
   ]
  },
  {
   "cell_type": "code",
   "execution_count": 21,
   "metadata": {},
   "outputs": [
    {
     "name": "stdout",
     "output_type": "stream",
     "text": [
      "M1-avg\n",
      "    anger-joy:Ks_2sampResult(statistic=0.1338808978969162, pvalue=0.02306741474954177)\n",
      "M2-avg\n",
      "    anger-joy:Ks_2sampResult(statistic=0.1246458537648469, pvalue=0.04170488010177398)\n",
      "M3-avg\n",
      "    anger-joy:Ks_2sampResult(statistic=0.055614579928081075, pvalue=0.8217609853796517)\n",
      "M4-avg\n",
      "    anger-joy:Ks_2sampResult(statistic=0.20212215320910973, pvalue=7.933185479269689e-05)\n"
     ]
    }
   ],
   "source": [
    "for m in ['M1-avg', 'M2-avg', 'M3-avg', 'M4-avg']:\n",
    "    print(m)\n",
    "    print('    anger-joy:{}'.format(ks_2samp(data_anger[m], data_joy[m])))"
   ]
  },
  {
   "cell_type": "code",
   "execution_count": 22,
   "metadata": {},
   "outputs": [
    {
     "data": {
      "text/html": [
       "<div>\n",
       "<style scoped>\n",
       "    .dataframe tbody tr th:only-of-type {\n",
       "        vertical-align: middle;\n",
       "    }\n",
       "\n",
       "    .dataframe tbody tr th {\n",
       "        vertical-align: top;\n",
       "    }\n",
       "\n",
       "    .dataframe thead th {\n",
       "        text-align: right;\n",
       "    }\n",
       "</style>\n",
       "<table border=\"1\" class=\"dataframe\">\n",
       "  <thead>\n",
       "    <tr style=\"text-align: right;\">\n",
       "      <th></th>\n",
       "      <th>M1-avg</th>\n",
       "      <th>M2-avg</th>\n",
       "      <th>M3-avg</th>\n",
       "      <th>M4-avg</th>\n",
       "    </tr>\n",
       "  </thead>\n",
       "  <tbody>\n",
       "    <tr>\n",
       "      <th>count</th>\n",
       "      <td>168.000000</td>\n",
       "      <td>168.000000</td>\n",
       "      <td>168.000000</td>\n",
       "      <td>168.000000</td>\n",
       "    </tr>\n",
       "    <tr>\n",
       "      <th>mean</th>\n",
       "      <td>0.027232</td>\n",
       "      <td>0.443899</td>\n",
       "      <td>-0.269196</td>\n",
       "      <td>-0.201935</td>\n",
       "    </tr>\n",
       "    <tr>\n",
       "      <th>std</th>\n",
       "      <td>0.324823</td>\n",
       "      <td>0.392053</td>\n",
       "      <td>0.378696</td>\n",
       "      <td>0.393358</td>\n",
       "    </tr>\n",
       "    <tr>\n",
       "      <th>min</th>\n",
       "      <td>-1.004167</td>\n",
       "      <td>-0.475000</td>\n",
       "      <td>-1.283333</td>\n",
       "      <td>-1.325000</td>\n",
       "    </tr>\n",
       "    <tr>\n",
       "      <th>25%</th>\n",
       "      <td>-0.176042</td>\n",
       "      <td>0.135417</td>\n",
       "      <td>-0.455208</td>\n",
       "      <td>-0.422917</td>\n",
       "    </tr>\n",
       "    <tr>\n",
       "      <th>50%</th>\n",
       "      <td>0.039583</td>\n",
       "      <td>0.379167</td>\n",
       "      <td>-0.206250</td>\n",
       "      <td>-0.164583</td>\n",
       "    </tr>\n",
       "    <tr>\n",
       "      <th>75%</th>\n",
       "      <td>0.216667</td>\n",
       "      <td>0.718750</td>\n",
       "      <td>-0.032292</td>\n",
       "      <td>0.058333</td>\n",
       "    </tr>\n",
       "    <tr>\n",
       "      <th>max</th>\n",
       "      <td>0.983333</td>\n",
       "      <td>1.495833</td>\n",
       "      <td>0.783333</td>\n",
       "      <td>0.812500</td>\n",
       "    </tr>\n",
       "  </tbody>\n",
       "</table>\n",
       "</div>"
      ],
      "text/plain": [
       "           M1-avg      M2-avg      M3-avg      M4-avg\n",
       "count  168.000000  168.000000  168.000000  168.000000\n",
       "mean     0.027232    0.443899   -0.269196   -0.201935\n",
       "std      0.324823    0.392053    0.378696    0.393358\n",
       "min     -1.004167   -0.475000   -1.283333   -1.325000\n",
       "25%     -0.176042    0.135417   -0.455208   -0.422917\n",
       "50%      0.039583    0.379167   -0.206250   -0.164583\n",
       "75%      0.216667    0.718750   -0.032292    0.058333\n",
       "max      0.983333    1.495833    0.783333    0.812500"
      ]
     },
     "execution_count": 22,
     "metadata": {},
     "output_type": "execute_result"
    }
   ],
   "source": [
    "data_anger[['M1-avg', 'M2-avg', 'M3-avg', 'M4-avg']].describe()"
   ]
  },
  {
   "cell_type": "code",
   "execution_count": 24,
   "metadata": {},
   "outputs": [
    {
     "data": {
      "text/html": [
       "<div>\n",
       "<style scoped>\n",
       "    .dataframe tbody tr th:only-of-type {\n",
       "        vertical-align: middle;\n",
       "    }\n",
       "\n",
       "    .dataframe tbody tr th {\n",
       "        vertical-align: top;\n",
       "    }\n",
       "\n",
       "    .dataframe thead th {\n",
       "        text-align: right;\n",
       "    }\n",
       "</style>\n",
       "<table border=\"1\" class=\"dataframe\">\n",
       "  <thead>\n",
       "    <tr style=\"text-align: right;\">\n",
       "      <th></th>\n",
       "      <th>M1-avg</th>\n",
       "      <th>M2-avg</th>\n",
       "      <th>M3-avg</th>\n",
       "      <th>M4-avg</th>\n",
       "    </tr>\n",
       "  </thead>\n",
       "  <tbody>\n",
       "    <tr>\n",
       "      <th>count</th>\n",
       "      <td>1113.000000</td>\n",
       "      <td>1113.000000</td>\n",
       "      <td>1113.000000</td>\n",
       "      <td>1113.000000</td>\n",
       "    </tr>\n",
       "    <tr>\n",
       "      <th>mean</th>\n",
       "      <td>-0.039477</td>\n",
       "      <td>0.491221</td>\n",
       "      <td>-0.257656</td>\n",
       "      <td>-0.194089</td>\n",
       "    </tr>\n",
       "    <tr>\n",
       "      <th>std</th>\n",
       "      <td>0.362966</td>\n",
       "      <td>0.424620</td>\n",
       "      <td>0.367132</td>\n",
       "      <td>0.449062</td>\n",
       "    </tr>\n",
       "    <tr>\n",
       "      <th>min</th>\n",
       "      <td>-1.116667</td>\n",
       "      <td>-0.858333</td>\n",
       "      <td>-1.558333</td>\n",
       "      <td>-1.620833</td>\n",
       "    </tr>\n",
       "    <tr>\n",
       "      <th>25%</th>\n",
       "      <td>-0.270833</td>\n",
       "      <td>0.175000</td>\n",
       "      <td>-0.495833</td>\n",
       "      <td>-0.495833</td>\n",
       "    </tr>\n",
       "    <tr>\n",
       "      <th>50%</th>\n",
       "      <td>-0.041667</td>\n",
       "      <td>0.491667</td>\n",
       "      <td>-0.233333</td>\n",
       "      <td>-0.137500</td>\n",
       "    </tr>\n",
       "    <tr>\n",
       "      <th>75%</th>\n",
       "      <td>0.191667</td>\n",
       "      <td>0.812500</td>\n",
       "      <td>0.000000</td>\n",
       "      <td>0.108333</td>\n",
       "    </tr>\n",
       "    <tr>\n",
       "      <th>max</th>\n",
       "      <td>1.141667</td>\n",
       "      <td>1.779167</td>\n",
       "      <td>0.700000</td>\n",
       "      <td>1.016667</td>\n",
       "    </tr>\n",
       "  </tbody>\n",
       "</table>\n",
       "</div>"
      ],
      "text/plain": [
       "            M1-avg       M2-avg       M3-avg       M4-avg\n",
       "count  1113.000000  1113.000000  1113.000000  1113.000000\n",
       "mean     -0.039477     0.491221    -0.257656    -0.194089\n",
       "std       0.362966     0.424620     0.367132     0.449062\n",
       "min      -1.116667    -0.858333    -1.558333    -1.620833\n",
       "25%      -0.270833     0.175000    -0.495833    -0.495833\n",
       "50%      -0.041667     0.491667    -0.233333    -0.137500\n",
       "75%       0.191667     0.812500     0.000000     0.108333\n",
       "max       1.141667     1.779167     0.700000     1.016667"
      ]
     },
     "execution_count": 24,
     "metadata": {},
     "output_type": "execute_result"
    }
   ],
   "source": [
    "data_other[['M1-avg', 'M2-avg', 'M3-avg', 'M4-avg']].describe()"
   ]
  },
  {
   "cell_type": "code",
   "execution_count": 25,
   "metadata": {},
   "outputs": [
    {
     "data": {
      "text/html": [
       "<div>\n",
       "<style scoped>\n",
       "    .dataframe tbody tr th:only-of-type {\n",
       "        vertical-align: middle;\n",
       "    }\n",
       "\n",
       "    .dataframe tbody tr th {\n",
       "        vertical-align: top;\n",
       "    }\n",
       "\n",
       "    .dataframe thead th {\n",
       "        text-align: right;\n",
       "    }\n",
       "</style>\n",
       "<table border=\"1\" class=\"dataframe\">\n",
       "  <thead>\n",
       "    <tr style=\"text-align: right;\">\n",
       "      <th></th>\n",
       "      <th>M1-avg</th>\n",
       "      <th>M2-avg</th>\n",
       "      <th>M3-avg</th>\n",
       "      <th>M4-avg</th>\n",
       "    </tr>\n",
       "  </thead>\n",
       "  <tbody>\n",
       "    <tr>\n",
       "      <th>count</th>\n",
       "      <td>437.000000</td>\n",
       "      <td>437.000000</td>\n",
       "      <td>437.000000</td>\n",
       "      <td>437.000000</td>\n",
       "    </tr>\n",
       "    <tr>\n",
       "      <th>mean</th>\n",
       "      <td>-0.057122</td>\n",
       "      <td>0.334945</td>\n",
       "      <td>-0.272378</td>\n",
       "      <td>-0.005444</td>\n",
       "    </tr>\n",
       "    <tr>\n",
       "      <th>std</th>\n",
       "      <td>0.323216</td>\n",
       "      <td>0.383744</td>\n",
       "      <td>0.373137</td>\n",
       "      <td>0.400885</td>\n",
       "    </tr>\n",
       "    <tr>\n",
       "      <th>min</th>\n",
       "      <td>-1.058333</td>\n",
       "      <td>-0.720833</td>\n",
       "      <td>-1.241667</td>\n",
       "      <td>-1.162500</td>\n",
       "    </tr>\n",
       "    <tr>\n",
       "      <th>25%</th>\n",
       "      <td>-0.266667</td>\n",
       "      <td>0.045833</td>\n",
       "      <td>-0.508333</td>\n",
       "      <td>-0.245833</td>\n",
       "    </tr>\n",
       "    <tr>\n",
       "      <th>50%</th>\n",
       "      <td>-0.045833</td>\n",
       "      <td>0.308333</td>\n",
       "      <td>-0.241667</td>\n",
       "      <td>-0.008333</td>\n",
       "    </tr>\n",
       "    <tr>\n",
       "      <th>75%</th>\n",
       "      <td>0.133333</td>\n",
       "      <td>0.600000</td>\n",
       "      <td>-0.004167</td>\n",
       "      <td>0.250000</td>\n",
       "    </tr>\n",
       "    <tr>\n",
       "      <th>max</th>\n",
       "      <td>1.141667</td>\n",
       "      <td>1.466667</td>\n",
       "      <td>0.691667</td>\n",
       "      <td>1.016667</td>\n",
       "    </tr>\n",
       "  </tbody>\n",
       "</table>\n",
       "</div>"
      ],
      "text/plain": [
       "           M1-avg      M2-avg      M3-avg      M4-avg\n",
       "count  437.000000  437.000000  437.000000  437.000000\n",
       "mean    -0.057122    0.334945   -0.272378   -0.005444\n",
       "std      0.323216    0.383744    0.373137    0.400885\n",
       "min     -1.058333   -0.720833   -1.241667   -1.162500\n",
       "25%     -0.266667    0.045833   -0.508333   -0.245833\n",
       "50%     -0.045833    0.308333   -0.241667   -0.008333\n",
       "75%      0.133333    0.600000   -0.004167    0.250000\n",
       "max      1.141667    1.466667    0.691667    1.016667"
      ]
     },
     "execution_count": 25,
     "metadata": {},
     "output_type": "execute_result"
    }
   ],
   "source": [
    "data_joy[['M1-avg', 'M2-avg', 'M3-avg', 'M4-avg']].describe()"
   ]
  },
  {
   "cell_type": "code",
   "execution_count": 7,
   "metadata": {},
   "outputs": [],
   "source": [
    "data_other_1 = data_other[data_other['is_joy']!=1]"
   ]
  },
  {
   "cell_type": "code",
   "execution_count": 24,
   "metadata": {},
   "outputs": [
    {
     "name": "stdout",
     "output_type": "stream",
     "text": [
      "M1-avg\n",
      "    anger-other1:Ks_2sampResult(statistic=0.1235207100591716, pvalue=0.029750929339478538)\n",
      "M2-avg\n",
      "    anger-other1:Ks_2sampResult(statistic=0.19396308819385744, pvalue=6.513239245853342e-05)\n",
      "M3-avg\n",
      "    anger-other1:Ks_2sampResult(statistic=0.06301070724147648, pvalue=0.6320066723482731)\n",
      "M4-avg\n",
      "    anger-other1:Ks_2sampResult(statistic=0.14472386587771202, pvalue=0.006284444527036692)\n"
     ]
    }
   ],
   "source": [
    "for m in ['M1-avg', 'M2-avg', 'M3-avg', 'M4-avg']:\n",
    "    print(m)\n",
    "    print('    anger-other1:{}'.format(ks_2samp(data_anger[m], data_other_1[m])))"
   ]
  },
  {
   "cell_type": "code",
   "execution_count": 27,
   "metadata": {},
   "outputs": [
    {
     "data": {
      "text/html": [
       "<div>\n",
       "<style scoped>\n",
       "    .dataframe tbody tr th:only-of-type {\n",
       "        vertical-align: middle;\n",
       "    }\n",
       "\n",
       "    .dataframe tbody tr th {\n",
       "        vertical-align: top;\n",
       "    }\n",
       "\n",
       "    .dataframe thead th {\n",
       "        text-align: right;\n",
       "    }\n",
       "</style>\n",
       "<table border=\"1\" class=\"dataframe\">\n",
       "  <thead>\n",
       "    <tr style=\"text-align: right;\">\n",
       "      <th></th>\n",
       "      <th>M1-avg</th>\n",
       "      <th>M2-avg</th>\n",
       "      <th>M3-avg</th>\n",
       "      <th>M4-avg</th>\n",
       "    </tr>\n",
       "  </thead>\n",
       "  <tbody>\n",
       "    <tr>\n",
       "      <th>count</th>\n",
       "      <td>676.000000</td>\n",
       "      <td>676.000000</td>\n",
       "      <td>676.000000</td>\n",
       "      <td>676.000000</td>\n",
       "    </tr>\n",
       "    <tr>\n",
       "      <th>mean</th>\n",
       "      <td>-0.028070</td>\n",
       "      <td>0.592246</td>\n",
       "      <td>-0.248139</td>\n",
       "      <td>-0.316038</td>\n",
       "    </tr>\n",
       "    <tr>\n",
       "      <th>std</th>\n",
       "      <td>0.386298</td>\n",
       "      <td>0.419381</td>\n",
       "      <td>0.363158</td>\n",
       "      <td>0.436432</td>\n",
       "    </tr>\n",
       "    <tr>\n",
       "      <th>min</th>\n",
       "      <td>-1.116667</td>\n",
       "      <td>-0.858333</td>\n",
       "      <td>-1.558333</td>\n",
       "      <td>-1.620833</td>\n",
       "    </tr>\n",
       "    <tr>\n",
       "      <th>25%</th>\n",
       "      <td>-0.270833</td>\n",
       "      <td>0.283333</td>\n",
       "      <td>-0.488542</td>\n",
       "      <td>-0.616667</td>\n",
       "    </tr>\n",
       "    <tr>\n",
       "      <th>50%</th>\n",
       "      <td>-0.037500</td>\n",
       "      <td>0.627083</td>\n",
       "      <td>-0.220833</td>\n",
       "      <td>-0.254167</td>\n",
       "    </tr>\n",
       "    <tr>\n",
       "      <th>75%</th>\n",
       "      <td>0.216667</td>\n",
       "      <td>0.900000</td>\n",
       "      <td>0.005208</td>\n",
       "      <td>-0.004167</td>\n",
       "    </tr>\n",
       "    <tr>\n",
       "      <th>max</th>\n",
       "      <td>1.066667</td>\n",
       "      <td>1.779167</td>\n",
       "      <td>0.700000</td>\n",
       "      <td>0.808333</td>\n",
       "    </tr>\n",
       "  </tbody>\n",
       "</table>\n",
       "</div>"
      ],
      "text/plain": [
       "           M1-avg      M2-avg      M3-avg      M4-avg\n",
       "count  676.000000  676.000000  676.000000  676.000000\n",
       "mean    -0.028070    0.592246   -0.248139   -0.316038\n",
       "std      0.386298    0.419381    0.363158    0.436432\n",
       "min     -1.116667   -0.858333   -1.558333   -1.620833\n",
       "25%     -0.270833    0.283333   -0.488542   -0.616667\n",
       "50%     -0.037500    0.627083   -0.220833   -0.254167\n",
       "75%      0.216667    0.900000    0.005208   -0.004167\n",
       "max      1.066667    1.779167    0.700000    0.808333"
      ]
     },
     "execution_count": 27,
     "metadata": {},
     "output_type": "execute_result"
    }
   ],
   "source": [
    "data_other_1[['M1-avg', 'M2-avg', 'M3-avg', 'M4-avg']].describe()"
   ]
  },
  {
   "cell_type": "code",
   "execution_count": 30,
   "metadata": {},
   "outputs": [
    {
     "name": "stdout",
     "output_type": "stream",
     "text": [
      "M1-avg\n",
      "    joy-other1:Ks_2sampResult(statistic=0.08815146304144719, pvalue=0.029916007752578966)\n",
      "M2-avg\n",
      "    joy-other1:Ks_2sampResult(statistic=0.27770706674068757, pvalue=1.6653345369377348e-15)\n",
      "M3-avg\n",
      "    joy-other1:Ks_2sampResult(statistic=0.040418127902725684, pvalue=0.7584172914058644)\n",
      "M4-avg\n",
      "    joy-other1:Ks_2sampResult(statistic=0.27148863282466523, pvalue=1.6653345369377348e-15)\n"
     ]
    }
   ],
   "source": [
    "for m in ['M1-avg', 'M2-avg', 'M3-avg', 'M4-avg']:\n",
    "    print(m)\n",
    "    print('    joy-other1:{}'.format(ks_2samp(data_joy[m], data_other_1[m])))"
   ]
  },
  {
   "cell_type": "code",
   "execution_count": 26,
   "metadata": {},
   "outputs": [],
   "source": [
    "def ccdf_plot_emo(column, ls):\n",
    "    font1 = { 'weight': 'normal', 'size': 18}\n",
    "    font2 = { 'weight': 'normal', 'size': 14}\n",
    "    fig, ax = plt.subplots()\n",
    "    dp1 = data_joy[column]\n",
    "    dp2 = data_anger[column]\n",
    "    dp_list = [dp1, dp2]\n",
    "    labels = ['Joy', 'Anger']\n",
    "    colors = ['#81B8DF', '#FE817D']\n",
    "    def dr(d):\n",
    "        drange = np.arange(min(d),max(d)+0.01,0.01)\n",
    "        return drange\n",
    "    for i in range(len(dp_list)):\n",
    "        ax.plot(dr(dp_list[i]), \n",
    "                1-ecdf(dp_list[i])(dr(dp_list[i])), \n",
    "                label=labels[i], \n",
    "                color=colors[i],\n",
    "                linewidth=3, \n",
    "                linestyle=ls)\n",
    "    ax.spines['top'].set_visible(False)\n",
    "    ax.spines['right'].set_visible(False)\n",
    "    ax.tick_params(labelsize=16, colors='black')\n",
    "    ax.set_xlabel(str(column), font1, color='black')\n",
    "    ax.set_ylabel('CCDF', font1, color='black')\n",
    "    if column == 'M1-avg':\n",
    "        ax.legend(prop=font1)\n",
    "    plt.tight_layout()\n",
    "    plt.savefig('images/'+str(column)+'_ccdf_emo.pdf')\n",
    "    plt.savefig('images/'+str(column)+'_ccdf_emo.jpg', dpi=600)\n",
    "    plt.show()"
   ]
  },
  {
   "cell_type": "code",
   "execution_count": 28,
   "metadata": {},
   "outputs": [
    {
     "data": {
      "image/png": "[encoded data removed]",
      "text/plain": [
       "<Figure size 432x288 with 1 Axes>"
      ]
     },
     "metadata": {
      "needs_background": "light"
     },
     "output_type": "display_data"
    },
    {
     "data": {
      "image/png": "[encoded data removed]",
      "text/plain": [
       "<Figure size 432x288 with 1 Axes>"
      ]
     },
     "metadata": {
      "needs_background": "light"
     },
     "output_type": "display_data"
    },
    {
     "data": {
      "image/png": "[encoded data removed]",
      "text/plain": [
       "<Figure size 432x288 with 1 Axes>"
      ]
     },
     "metadata": {
      "needs_background": "light"
     },
     "output_type": "display_data"
    },
    {
     "data": {
      "image/png": "[encoded data removed]",
      "text/plain": [
       "<Figure size 432x288 with 1 Axes>"
      ]
     },
     "metadata": {
      "needs_background": "light"
     },
     "output_type": "display_data"
    }
   ],
   "source": [
    "for m in ['M1-avg', 'M2-avg', 'M3-avg', 'M4-avg']:\n",
    "    ccdf_plot_emo(m, '-')"
   ]
  },
  {
   "cell_type": "code",
   "execution_count": 12,
   "metadata": {},
   "outputs": [
    {
     "data": {
      "image/png": "[encoded data removed]",
      "text/plain": [
       "<Figure size 432x288 with 1 Axes>"
      ]
     },
     "metadata": {},
     "output_type": "display_data"
    }
   ],
   "source": [
    "import matplotlib.pyplot as plt\n",
    "import numpy as np\n",
    "font1 = {\n",
    "    'weight' : 'normal',\n",
    "    'size'   : 18,\n",
    "}\n",
    "font2 = {\n",
    "    'weight' : 'normal',\n",
    "    'size'   : 14,\n",
    "}\n",
    "plt.style.use('ggplot')\n",
    "fig, ax = plt.subplots()\n",
    "dp1 = data_anger['M1-avg']\n",
    "dp2 = data_joy['M1-avg']\n",
    "dp3 = data_other_1['M1-avg']\n",
    "def dr(d):\n",
    "    drange = np.arange(min(d),max(d)+0.01,0.01)\n",
    "    return drange\n",
    "ax.plot(dr(dp2), \n",
    "        1-ecdf(dp2)(dr(dp2)), \n",
    "        label='Joy', color='#7FA5B7',\n",
    "        linewidth=3, linestyle=':')\n",
    "ax.plot(dr(dp3), \n",
    "        1-ecdf(dp3)(dr(dp3)), \n",
    "        label='Others', color='#385989',\n",
    "        linewidth=3, linestyle=':')\n",
    "ax.plot(dr(dp1), \n",
    "        1-ecdf(dp1)(dr(dp1)), \n",
    "        label='Anger', color='#D22027',\n",
    "        linewidth=3, linestyle=':')\n",
    "# ax.set_xticks(np.arange(0,1.2,0.2))\n",
    "ax.tick_params(labelsize=14, colors='black')\n",
    "# ax.set_ylim(0,1)\n",
    "# ax.set_xlim(0,1)\n",
    "ax.set_xlabel('M1-avg', font1, color='black')\n",
    "ax.set_ylabel('CCDF', font1, color='black')\n",
    "# ax.legend(prop=font1, loc='upper center', ncol=2)\n",
    "ax.legend(prop=font1)\n",
    "plt.tight_layout()\n",
    "plt.savefig('images/M1_ccdf_emo.pdf')\n",
    "plt.savefig('images/M1_ccdf_emo.jpg', dpi=600)\n",
    "plt.show()"
   ]
  },
  {
   "cell_type": "markdown",
   "metadata": {},
   "source": [
    "# 随机分组"
   ]
  },
  {
   "cell_type": "code",
   "execution_count": 29,
   "metadata": {},
   "outputs": [
    {
     "data": {
      "text/plain": [
       "(641, 44)"
      ]
     },
     "execution_count": 29,
     "metadata": {},
     "output_type": "execute_result"
    }
   ],
   "source": [
    "random1 = data.sample(frac=0.5, random_state=2020, axis=0)\n",
    "random2 = data.append(random1).drop_duplicates(keep=False)\n",
    "random2.shape"
   ]
  },
  {
   "cell_type": "code",
   "execution_count": 31,
   "metadata": {},
   "outputs": [],
   "source": [
    "def ccdf_plot_ran(column, ls):\n",
    "    font1 = { 'weight': 'normal', 'size': 18}\n",
    "    font2 = { 'weight': 'normal', 'size': 14}\n",
    "    fig, ax = plt.subplots()\n",
    "    dp1 = random1[column]\n",
    "    dp2 = random2[column]\n",
    "    dp_list = [dp1, dp2]\n",
    "    labels = ['Random1', 'Random2']\n",
    "    colors = ['#81B8DF', '#FE817D']\n",
    "    def dr(d):\n",
    "        drange = np.arange(min(d),max(d)+0.01,0.01)\n",
    "        return drange\n",
    "    for i in range(len(dp_list)):\n",
    "        ax.plot(dr(dp_list[i]), \n",
    "                1-ecdf(dp_list[i])(dr(dp_list[i])), \n",
    "                label=labels[i], \n",
    "                color=colors[i],\n",
    "                linewidth=3, \n",
    "                linestyle=ls)\n",
    "    ax.spines['top'].set_visible(False)\n",
    "    ax.spines['right'].set_visible(False)\n",
    "    ax.tick_params(labelsize=16, colors='black')\n",
    "    ax.set_xlabel(str(column), font1, color='black')\n",
    "    ax.set_ylabel('CCDF', font1, color='black')\n",
    "    if column == 'M1-avg':\n",
    "        ax.legend(prop=font1)\n",
    "    plt.tight_layout()\n",
    "    plt.savefig('images/'+str(column)+'_ccdf_random.pdf')\n",
    "    plt.savefig('images/'+str(column)+'_ccdf_random.jpg', dpi=600)\n",
    "    plt.show()"
   ]
  },
  {
   "cell_type": "code",
   "execution_count": 32,
   "metadata": {},
   "outputs": [
    {
     "data": {
      "image/png": "[encoded data removed]",
      "text/plain": [
       "<Figure size 432x288 with 1 Axes>"
      ]
     },
     "metadata": {
      "needs_background": "light"
     },
     "output_type": "display_data"
    },
    {
     "data": {
      "image/png": "[encoded data removed]",
      "text/plain": [
       "<Figure size 432x288 with 1 Axes>"
      ]
     },
     "metadata": {
      "needs_background": "light"
     },
     "output_type": "display_data"
    },
    {
     "data": {
      "image/png": "[encoded data removed]",
      "text/plain": [
       "<Figure size 432x288 with 1 Axes>"
      ]
     },
     "metadata": {
      "needs_background": "light"
     },
     "output_type": "display_data"
    },
    {
     "data": {
      "image/png": "[encoded data removed]",
      "text/plain": [
       "<Figure size 432x288 with 1 Axes>"
      ]
     },
     "metadata": {
      "needs_background": "light"
     },
     "output_type": "display_data"
    }
   ],
   "source": [
    "for m in ['M1-avg', 'M2-avg', 'M3-avg', 'M4-avg']:\n",
    "    ccdf_plot_ran(m, '--')"
   ]
  },
  {
   "cell_type": "code",
   "execution_count": 19,
   "metadata": {},
   "outputs": [
    {
     "name": "stdout",
     "output_type": "stream",
     "text": [
      "M1-avg\n",
      "    r1-r2:Ks_2sampResult(statistic=0.03967433697347894, pvalue=0.6731029224281972)\n",
      "M2-avg\n",
      "    r1-r2:Ks_2sampResult(statistic=0.06154202418096724, pvalue=0.1677828053517858)\n",
      "M3-avg\n",
      "    r1-r2:Ks_2sampResult(statistic=0.05264723088923557, pvalue=0.3169545188552879)\n",
      "M4-avg\n",
      "    r1-r2:Ks_2sampResult(statistic=0.05895817082683307, pvalue=0.20000777899651712)\n"
     ]
    }
   ],
   "source": [
    "from scipy.stats import ks_2samp\n",
    "for m in ['M1-avg', 'M2-avg', 'M3-avg', 'M4-avg']:\n",
    "    print(m)\n",
    "    print('    r1-r2:{}'.format(ks_2samp(random1[m], random2[m])))"
   ]
  },
  {
   "cell_type": "markdown",
   "metadata": {},
   "source": [
    "# M1-other"
   ]
  },
  {
   "cell_type": "code",
   "execution_count": 34,
   "metadata": {},
   "outputs": [],
   "source": [
    "data1['keywords'] = 0\n",
    "data2['keywords'] = 1\n",
    "data = data1.append(data2)\n",
    "data = data.reset_index(drop=True)\n",
    "Motis = {'M1':['M1-1', 'M1-2', 'M1-3', 'M1-4', 'M1-5', 'M1-6'], \n",
    "         'M2':['M2-1', 'M2-2', 'M2-3', 'M2-4', 'M2-5', 'M2-6'],\n",
    "         'M3':['M3-1', 'M3-2', 'M3-3', 'M3-4', 'M3-5'], \n",
    "         'M4':['M4-1', 'M4-2', 'M4-3', 'M4-4']}\n",
    "for m in ['M1', 'M2', 'M3', 'M4']:\n",
    "    col = Motis[m]\n",
    "    data[m] = data[col].apply(lambda x: x.sum()/len(x), axis=1)\n",
    "data['M1-other'] = data['M1'] - data[['M2', 'M3', 'M4']].apply(lambda x: x.sum()/len(x), axis=1)\n",
    "data['M2-other'] = data['M2'] - data[['M1', 'M3', 'M4']].apply(lambda x: x.sum()/len(x), axis=1)\n",
    "data['M3-other'] = data['M3'] - data[['M1', 'M2', 'M4']].apply(lambda x: x.sum()/len(x), axis=1)\n",
    "data['M4-other'] = data['M4'] - data[['M2', 'M3', 'M1']].apply(lambda x: x.sum()/len(x), axis=1)"
   ]
  },
  {
   "cell_type": "code",
   "execution_count": 35,
   "metadata": {},
   "outputs": [],
   "source": [
    "data_LHF = data[data['label']=='LHF']\n",
    "data_HLF = data[data['label']=='HLF']\n",
    "data_HLT = data[data['label']=='HLT']"
   ]
  },
  {
   "cell_type": "markdown",
   "metadata": {},
   "source": [
    "## 分组动机"
   ]
  },
  {
   "cell_type": "code",
   "execution_count": 36,
   "metadata": {},
   "outputs": [
    {
     "name": "stdout",
     "output_type": "stream",
     "text": [
      "M1-other\n",
      "    unlabel: LHF-HLF:Ks_2sampResult(statistic=0.23062514105168133, pvalue=1.9489164497343836e-05)\n",
      "    unlabel: LHF-HLT:Ks_2sampResult(statistic=0.14851190476190476, pvalue=0.01467705926413676)\n",
      "    label: LHF-HLF:Ks_2sampResult(statistic=0.24177897574123988, pvalue=6.381765591645383e-06)\n",
      "    label: LHF-HLT:Ks_2sampResult(statistic=0.15345618056780108, pvalue=0.011511565961241588)\n",
      "M2-other\n",
      "    unlabel: LHF-HLF:Ks_2sampResult(statistic=0.12708192281651998, pvalue=0.05604977794496813)\n",
      "    unlabel: LHF-HLT:Ks_2sampResult(statistic=0.17172619047619048, pvalue=0.0028420990138070534)\n",
      "    label: LHF-HLF:Ks_2sampResult(statistic=0.09380053908355795, pvalue=0.2829522130409827)\n",
      "    label: LHF-HLT:Ks_2sampResult(statistic=0.18722447540116383, pvalue=0.0009575172980129665)\n",
      "M3-other\n",
      "    unlabel: LHF-HLF:Ks_2sampResult(statistic=0.10268562401263823, pvalue=0.1937235831894556)\n",
      "    unlabel: LHF-HLT:Ks_2sampResult(statistic=0.10029761904761905, pvalue=0.20743302276841513)\n",
      "    label: LHF-HLF:Ks_2sampResult(statistic=0.13598382749326146, pvalue=0.03553809510874051)\n",
      "    label: LHF-HLT:Ks_2sampResult(statistic=0.05823487921001587, pvalue=0.8336333630992064)\n",
      "M4-other\n",
      "    unlabel: LHF-HLF:Ks_2sampResult(statistic=0.08792597607763485, pvalue=0.3592677420829533)\n",
      "    unlabel: LHF-HLT:Ks_2sampResult(statistic=0.2791666666666667, pvalue=6.00524312499573e-08)\n",
      "    label: LHF-HLF:Ks_2sampResult(statistic=0.09618149146451033, pvalue=0.26081298791031693)\n",
      "    label: LHF-HLT:Ks_2sampResult(statistic=0.274290248633398, pvalue=1.348808610357466e-07)\n"
     ]
    }
   ],
   "source": [
    "from scipy.stats import ks_2samp\n",
    "\n",
    "for m in ['M1-other', 'M2-other', 'M3-other', 'M4-other']:\n",
    "    print(m)\n",
    "    print('    unlabel: LHF-HLF:{}'.format(ks_2samp(data_LHF[m][data_LHF['keywords']==0], \n",
    "                                                    data_HLF[m][data_HLF['keywords']==0])))\n",
    "    print('    unlabel: LHF-HLT:{}'.format(ks_2samp(data_LHF[m][data_LHF['keywords']==0], \n",
    "                                                    data_HLT[m][data_HLT['keywords']==0])))\n",
    "    print('    label: LHF-HLF:{}'.format(ks_2samp(data_LHF[m][data_LHF['keywords']==1], \n",
    "                                                  data_HLF[m][data_HLF['keywords']==1])))\n",
    "    print('    label: LHF-HLT:{}'.format(ks_2samp(data_LHF[m][data_LHF['keywords']==1], \n",
    "                                                  data_HLT[m][data_HLT['keywords']==1])))"
   ]
  },
  {
   "cell_type": "code",
   "execution_count": 38,
   "metadata": {},
   "outputs": [
    {
     "data": {
      "text/html": [
       "<div>\n",
       "<style scoped>\n",
       "    .dataframe tbody tr th:only-of-type {\n",
       "        vertical-align: middle;\n",
       "    }\n",
       "\n",
       "    .dataframe tbody tr th {\n",
       "        vertical-align: top;\n",
       "    }\n",
       "\n",
       "    .dataframe thead th {\n",
       "        text-align: right;\n",
       "    }\n",
       "</style>\n",
       "<table border=\"1\" class=\"dataframe\">\n",
       "  <thead>\n",
       "    <tr style=\"text-align: right;\">\n",
       "      <th></th>\n",
       "      <th>M1-other</th>\n",
       "      <th>M2-other</th>\n",
       "      <th>M3-other</th>\n",
       "      <th>M4-other</th>\n",
       "    </tr>\n",
       "  </thead>\n",
       "  <tbody>\n",
       "    <tr>\n",
       "      <th>count</th>\n",
       "      <td>212.000000</td>\n",
       "      <td>212.000000</td>\n",
       "      <td>212.000000</td>\n",
       "      <td>212.000000</td>\n",
       "    </tr>\n",
       "    <tr>\n",
       "      <th>mean</th>\n",
       "      <td>0.097982</td>\n",
       "      <td>0.665068</td>\n",
       "      <td>-0.352123</td>\n",
       "      <td>-0.410928</td>\n",
       "    </tr>\n",
       "    <tr>\n",
       "      <th>std</th>\n",
       "      <td>0.507218</td>\n",
       "      <td>0.540546</td>\n",
       "      <td>0.512665</td>\n",
       "      <td>0.546309</td>\n",
       "    </tr>\n",
       "    <tr>\n",
       "      <th>min</th>\n",
       "      <td>-1.338889</td>\n",
       "      <td>-0.933333</td>\n",
       "      <td>-1.483333</td>\n",
       "      <td>-2.161111</td>\n",
       "    </tr>\n",
       "    <tr>\n",
       "      <th>25%</th>\n",
       "      <td>-0.222222</td>\n",
       "      <td>0.243056</td>\n",
       "      <td>-0.736111</td>\n",
       "      <td>-0.809722</td>\n",
       "    </tr>\n",
       "    <tr>\n",
       "      <th>50%</th>\n",
       "      <td>0.050000</td>\n",
       "      <td>0.683333</td>\n",
       "      <td>-0.266667</td>\n",
       "      <td>-0.291667</td>\n",
       "    </tr>\n",
       "    <tr>\n",
       "      <th>75%</th>\n",
       "      <td>0.384722</td>\n",
       "      <td>1.055556</td>\n",
       "      <td>0.012500</td>\n",
       "      <td>-0.019444</td>\n",
       "    </tr>\n",
       "    <tr>\n",
       "      <th>max</th>\n",
       "      <td>1.411111</td>\n",
       "      <td>2.044444</td>\n",
       "      <td>1.044444</td>\n",
       "      <td>1.050000</td>\n",
       "    </tr>\n",
       "  </tbody>\n",
       "</table>\n",
       "</div>"
      ],
      "text/plain": [
       "         M1-other    M2-other    M3-other    M4-other\n",
       "count  212.000000  212.000000  212.000000  212.000000\n",
       "mean     0.097982    0.665068   -0.352123   -0.410928\n",
       "std      0.507218    0.540546    0.512665    0.546309\n",
       "min     -1.338889   -0.933333   -1.483333   -2.161111\n",
       "25%     -0.222222    0.243056   -0.736111   -0.809722\n",
       "50%      0.050000    0.683333   -0.266667   -0.291667\n",
       "75%      0.384722    1.055556    0.012500   -0.019444\n",
       "max      1.411111    2.044444    1.044444    1.050000"
      ]
     },
     "execution_count": 38,
     "metadata": {},
     "output_type": "execute_result"
    }
   ],
   "source": [
    "data_LHF[['M1-other', 'M2-other', 'M3-other', 'M4-other']][data_LHF['keywords']==1].describe()"
   ]
  },
  {
   "cell_type": "code",
   "execution_count": 40,
   "metadata": {},
   "outputs": [
    {
     "data": {
      "text/html": [
       "<div>\n",
       "<style scoped>\n",
       "    .dataframe tbody tr th:only-of-type {\n",
       "        vertical-align: middle;\n",
       "    }\n",
       "\n",
       "    .dataframe tbody tr th {\n",
       "        vertical-align: top;\n",
       "    }\n",
       "\n",
       "    .dataframe thead th {\n",
       "        text-align: right;\n",
       "    }\n",
       "</style>\n",
       "<table border=\"1\" class=\"dataframe\">\n",
       "  <thead>\n",
       "    <tr style=\"text-align: right;\">\n",
       "      <th></th>\n",
       "      <th>M1-other</th>\n",
       "      <th>M2-other</th>\n",
       "      <th>M3-other</th>\n",
       "      <th>M4-other</th>\n",
       "    </tr>\n",
       "  </thead>\n",
       "  <tbody>\n",
       "    <tr>\n",
       "      <th>count</th>\n",
       "      <td>210.000000</td>\n",
       "      <td>210.000000</td>\n",
       "      <td>210.000000</td>\n",
       "      <td>210.000000</td>\n",
       "    </tr>\n",
       "    <tr>\n",
       "      <th>mean</th>\n",
       "      <td>-0.130132</td>\n",
       "      <td>0.754524</td>\n",
       "      <td>-0.251402</td>\n",
       "      <td>-0.372989</td>\n",
       "    </tr>\n",
       "    <tr>\n",
       "      <th>std</th>\n",
       "      <td>0.463129</td>\n",
       "      <td>0.562268</td>\n",
       "      <td>0.444083</td>\n",
       "      <td>0.597036</td>\n",
       "    </tr>\n",
       "    <tr>\n",
       "      <th>min</th>\n",
       "      <td>-1.333333</td>\n",
       "      <td>-1.144444</td>\n",
       "      <td>-1.400000</td>\n",
       "      <td>-1.866667</td>\n",
       "    </tr>\n",
       "    <tr>\n",
       "      <th>25%</th>\n",
       "      <td>-0.420833</td>\n",
       "      <td>0.400000</td>\n",
       "      <td>-0.600000</td>\n",
       "      <td>-0.776389</td>\n",
       "    </tr>\n",
       "    <tr>\n",
       "      <th>50%</th>\n",
       "      <td>-0.136111</td>\n",
       "      <td>0.750000</td>\n",
       "      <td>-0.241667</td>\n",
       "      <td>-0.294444</td>\n",
       "    </tr>\n",
       "    <tr>\n",
       "      <th>75%</th>\n",
       "      <td>0.155556</td>\n",
       "      <td>1.141667</td>\n",
       "      <td>0.065278</td>\n",
       "      <td>0.033333</td>\n",
       "    </tr>\n",
       "    <tr>\n",
       "      <th>max</th>\n",
       "      <td>1.322222</td>\n",
       "      <td>2.322222</td>\n",
       "      <td>0.933333</td>\n",
       "      <td>1.077778</td>\n",
       "    </tr>\n",
       "  </tbody>\n",
       "</table>\n",
       "</div>"
      ],
      "text/plain": [
       "         M1-other    M2-other    M3-other    M4-other\n",
       "count  210.000000  210.000000  210.000000  210.000000\n",
       "mean    -0.130132    0.754524   -0.251402   -0.372989\n",
       "std      0.463129    0.562268    0.444083    0.597036\n",
       "min     -1.333333   -1.144444   -1.400000   -1.866667\n",
       "25%     -0.420833    0.400000   -0.600000   -0.776389\n",
       "50%     -0.136111    0.750000   -0.241667   -0.294444\n",
       "75%      0.155556    1.141667    0.065278    0.033333\n",
       "max      1.322222    2.322222    0.933333    1.077778"
      ]
     },
     "execution_count": 40,
     "metadata": {},
     "output_type": "execute_result"
    }
   ],
   "source": [
    "data_HLF[['M1-other', 'M2-other', 'M3-other', 'M4-other']][data_HLF['keywords']==1].describe()"
   ]
  },
  {
   "cell_type": "code",
   "execution_count": 42,
   "metadata": {},
   "outputs": [
    {
     "data": {
      "text/html": [
       "<div>\n",
       "<style scoped>\n",
       "    .dataframe tbody tr th:only-of-type {\n",
       "        vertical-align: middle;\n",
       "    }\n",
       "\n",
       "    .dataframe tbody tr th {\n",
       "        vertical-align: top;\n",
       "    }\n",
       "\n",
       "    .dataframe thead th {\n",
       "        text-align: right;\n",
       "    }\n",
       "</style>\n",
       "<table border=\"1\" class=\"dataframe\">\n",
       "  <thead>\n",
       "    <tr style=\"text-align: right;\">\n",
       "      <th></th>\n",
       "      <th>M1-other</th>\n",
       "      <th>M2-other</th>\n",
       "      <th>M3-other</th>\n",
       "      <th>M4-other</th>\n",
       "    </tr>\n",
       "  </thead>\n",
       "  <tbody>\n",
       "    <tr>\n",
       "      <th>count</th>\n",
       "      <td>214.000000</td>\n",
       "      <td>214.000000</td>\n",
       "      <td>214.000000</td>\n",
       "      <td>214.000000</td>\n",
       "    </tr>\n",
       "    <tr>\n",
       "      <th>mean</th>\n",
       "      <td>-0.050104</td>\n",
       "      <td>0.471184</td>\n",
       "      <td>-0.352285</td>\n",
       "      <td>-0.068795</td>\n",
       "    </tr>\n",
       "    <tr>\n",
       "      <th>std</th>\n",
       "      <td>0.450581</td>\n",
       "      <td>0.526914</td>\n",
       "      <td>0.480592</td>\n",
       "      <td>0.567745</td>\n",
       "    </tr>\n",
       "    <tr>\n",
       "      <th>min</th>\n",
       "      <td>-1.394444</td>\n",
       "      <td>-0.961111</td>\n",
       "      <td>-1.650000</td>\n",
       "      <td>-1.750000</td>\n",
       "    </tr>\n",
       "    <tr>\n",
       "      <th>25%</th>\n",
       "      <td>-0.320833</td>\n",
       "      <td>0.087500</td>\n",
       "      <td>-0.670833</td>\n",
       "      <td>-0.420833</td>\n",
       "    </tr>\n",
       "    <tr>\n",
       "      <th>50%</th>\n",
       "      <td>-0.061111</td>\n",
       "      <td>0.377778</td>\n",
       "      <td>-0.330556</td>\n",
       "      <td>-0.025000</td>\n",
       "    </tr>\n",
       "    <tr>\n",
       "      <th>75%</th>\n",
       "      <td>0.208333</td>\n",
       "      <td>0.850000</td>\n",
       "      <td>0.011111</td>\n",
       "      <td>0.326389</td>\n",
       "    </tr>\n",
       "    <tr>\n",
       "      <th>max</th>\n",
       "      <td>1.522222</td>\n",
       "      <td>1.977778</td>\n",
       "      <td>0.683333</td>\n",
       "      <td>1.255556</td>\n",
       "    </tr>\n",
       "  </tbody>\n",
       "</table>\n",
       "</div>"
      ],
      "text/plain": [
       "         M1-other    M2-other    M3-other    M4-other\n",
       "count  214.000000  214.000000  214.000000  214.000000\n",
       "mean    -0.050104    0.471184   -0.352285   -0.068795\n",
       "std      0.450581    0.526914    0.480592    0.567745\n",
       "min     -1.394444   -0.961111   -1.650000   -1.750000\n",
       "25%     -0.320833    0.087500   -0.670833   -0.420833\n",
       "50%     -0.061111    0.377778   -0.330556   -0.025000\n",
       "75%      0.208333    0.850000    0.011111    0.326389\n",
       "max      1.522222    1.977778    0.683333    1.255556"
      ]
     },
     "execution_count": 42,
     "metadata": {},
     "output_type": "execute_result"
    }
   ],
   "source": [
    "data_HLT[['M1-other', 'M2-other', 'M3-other', 'M4-other']][data_HLT['keywords']==1].describe()"
   ]
  },
  {
   "cell_type": "markdown",
   "metadata": {},
   "source": [
    "## 情绪anger-other"
   ]
  },
  {
   "cell_type": "code",
   "execution_count": 30,
   "metadata": {},
   "outputs": [],
   "source": [
    "data_anger = data[data['emotion']=='anger']\n",
    "data_other = data[data['emotion']!='anger']"
   ]
  },
  {
   "cell_type": "code",
   "execution_count": 31,
   "metadata": {},
   "outputs": [
    {
     "name": "stdout",
     "output_type": "stream",
     "text": [
      "M1-other\n",
      "    unlabel: anger-other:Ks_2sampResult(statistic=0.12575623992946827, pvalue=0.07181923869227991)\n",
      "    label: anger-other:Ks_2sampResult(statistic=0.11673344368299739, pvalue=0.11555241718680631)\n",
      "M2-other\n",
      "    unlabel: anger-other:Ks_2sampResult(statistic=0.0761560210379108, pvalue=0.5639956447236127)\n",
      "    label: anger-other:Ks_2sampResult(statistic=0.052333586003124856, pvalue=0.92633094757249)\n",
      "M3-other\n",
      "    unlabel: anger-other:Ks_2sampResult(statistic=0.0594047365700909, pvalue=0.8389911176449083)\n",
      "    label: anger-other:Ks_2sampResult(statistic=0.09784508763516545, pvalue=0.2612671088204028)\n",
      "M4-other\n",
      "    unlabel: anger-other:Ks_2sampResult(statistic=0.0902775666555194, pvalue=0.3517165984246472)\n",
      "    label: anger-other:Ks_2sampResult(statistic=0.09205946506195567, pvalue=0.3276859663893177)\n"
     ]
    }
   ],
   "source": [
    "for m in ['M1-other', 'M2-other', 'M3-other', 'M4-other']:\n",
    "    print(m)\n",
    "    print('    unlabel: anger-other:{}'.format(ks_2samp(data_anger[m][data_anger['keywords']==0], \n",
    "                                                    data_other[m][data_other['keywords']==0])))\n",
    "    print('    label: anger-other:{}'.format(ks_2samp(data_anger[m][data_anger['keywords']==1], \n",
    "                                                    data_other[m][data_other['keywords']==1])))"
   ]
  },
  {
   "cell_type": "code",
   "execution_count": 57,
   "metadata": {},
   "outputs": [],
   "source": [
    "anger_text = ['5月12日不要去电影院。请大家一定别进影院，大家一起为贞子票房为零，做努力！ 中国人拍的《金陵十三钗》在日本小鬼子票房为零。小日本拍的贞子3D将于5月12日在中国大陆上映。而5月12日既是南京大屠杀纪念日，又是国难日。勿忘国耻！作为中国人，敢不敢让贞子3D 5月12日票房为零。朋友们，必须转起转起',\n",
    "              '今天下午六点开始，全市高清探头全部启用，副驾驶不系安全带相同处罚，开车时打电话罚款50元，闯黄闪罚款200，越线停车罚款100，今天起晚六点至深夜2点，为期60天的全国交警集中查处酒驾，一经查获，一律拘役六个月，五年内不得考证。请相互转告至有车的本人、朋友及亲属，避免罚款']\n",
    "#               '【可恶！骆驼被砍四肢当街行乞】骆驼一般只在动物园才能见到，但近日，人们却在福州街头见到一只乞讨的骆驼。骆驼身旁有两位衣衫褴褛的人跪在地上磕头乞讨。民警发现，骆驼的四肢均有不同程度的损伤，四肢均无蹄子，据伤口观测有很大可能是人为造成。警方已协调相关部门处理']\n",
    "data['is_anger'] = data['text'].apply(lambda text: 1 if text in anger_text else 0)"
   ]
  },
  {
   "cell_type": "code",
   "execution_count": 58,
   "metadata": {},
   "outputs": [],
   "source": [
    "data_anger = data[data['is_anger']==1]\n",
    "data_other = data[data['is_anger']!=1]"
   ]
  },
  {
   "cell_type": "code",
   "execution_count": 59,
   "metadata": {},
   "outputs": [
    {
     "name": "stdout",
     "output_type": "stream",
     "text": [
      "M1-other\n",
      "    anger-other:Ks_2sampResult(statistic=0.12724618149146452, pvalue=0.016039436824046294)\n",
      "M2-other\n",
      "    anger-other:Ks_2sampResult(statistic=0.09490116801437556, pvalue=0.13467073943460095)\n",
      "M3-other\n",
      "    anger-other:Ks_2sampResult(statistic=0.05312219227313567, pvalue=0.7826989635014926)\n",
      "M4-other\n",
      "    anger-other:Ks_2sampResult(statistic=0.06761006289308176, pvalue=0.49429677502332003)\n"
     ]
    }
   ],
   "source": [
    "for m in ['M1-other', 'M2-other', 'M3-other', 'M4-other']:\n",
    "    print(m)\n",
    "    print('    anger-other:{}'.format(ks_2samp(data_anger[m], data_other[m])))"
   ]
  },
  {
   "cell_type": "code",
   "execution_count": 60,
   "metadata": {},
   "outputs": [
    {
     "data": {
      "text/html": [
       "<div>\n",
       "<style scoped>\n",
       "    .dataframe tbody tr th:only-of-type {\n",
       "        vertical-align: middle;\n",
       "    }\n",
       "\n",
       "    .dataframe tbody tr th {\n",
       "        vertical-align: top;\n",
       "    }\n",
       "\n",
       "    .dataframe thead th {\n",
       "        text-align: right;\n",
       "    }\n",
       "</style>\n",
       "<table border=\"1\" class=\"dataframe\">\n",
       "  <thead>\n",
       "    <tr style=\"text-align: right;\">\n",
       "      <th></th>\n",
       "      <th>M1-other</th>\n",
       "      <th>M2-other</th>\n",
       "      <th>M3-other</th>\n",
       "      <th>M4-other</th>\n",
       "    </tr>\n",
       "  </thead>\n",
       "  <tbody>\n",
       "    <tr>\n",
       "      <th>count</th>\n",
       "      <td>168.000000</td>\n",
       "      <td>168.000000</td>\n",
       "      <td>168.000000</td>\n",
       "      <td>168.000000</td>\n",
       "    </tr>\n",
       "    <tr>\n",
       "      <th>mean</th>\n",
       "      <td>0.036310</td>\n",
       "      <td>0.591865</td>\n",
       "      <td>-0.358929</td>\n",
       "      <td>-0.269246</td>\n",
       "    </tr>\n",
       "    <tr>\n",
       "      <th>std</th>\n",
       "      <td>0.433098</td>\n",
       "      <td>0.522737</td>\n",
       "      <td>0.504928</td>\n",
       "      <td>0.524477</td>\n",
       "    </tr>\n",
       "    <tr>\n",
       "      <th>min</th>\n",
       "      <td>-1.338889</td>\n",
       "      <td>-0.633333</td>\n",
       "      <td>-1.711111</td>\n",
       "      <td>-1.766667</td>\n",
       "    </tr>\n",
       "    <tr>\n",
       "      <th>25%</th>\n",
       "      <td>-0.234722</td>\n",
       "      <td>0.180556</td>\n",
       "      <td>-0.606944</td>\n",
       "      <td>-0.563889</td>\n",
       "    </tr>\n",
       "    <tr>\n",
       "      <th>50%</th>\n",
       "      <td>0.052778</td>\n",
       "      <td>0.505556</td>\n",
       "      <td>-0.275000</td>\n",
       "      <td>-0.219444</td>\n",
       "    </tr>\n",
       "    <tr>\n",
       "      <th>75%</th>\n",
       "      <td>0.288889</td>\n",
       "      <td>0.958333</td>\n",
       "      <td>-0.043056</td>\n",
       "      <td>0.077778</td>\n",
       "    </tr>\n",
       "    <tr>\n",
       "      <th>max</th>\n",
       "      <td>1.311111</td>\n",
       "      <td>1.994444</td>\n",
       "      <td>1.044444</td>\n",
       "      <td>1.083333</td>\n",
       "    </tr>\n",
       "  </tbody>\n",
       "</table>\n",
       "</div>"
      ],
      "text/plain": [
       "         M1-other    M2-other    M3-other    M4-other\n",
       "count  168.000000  168.000000  168.000000  168.000000\n",
       "mean     0.036310    0.591865   -0.358929   -0.269246\n",
       "std      0.433098    0.522737    0.504928    0.524477\n",
       "min     -1.338889   -0.633333   -1.711111   -1.766667\n",
       "25%     -0.234722    0.180556   -0.606944   -0.563889\n",
       "50%      0.052778    0.505556   -0.275000   -0.219444\n",
       "75%      0.288889    0.958333   -0.043056    0.077778\n",
       "max      1.311111    1.994444    1.044444    1.083333"
      ]
     },
     "execution_count": 60,
     "metadata": {},
     "output_type": "execute_result"
    }
   ],
   "source": [
    "data_anger[['M1-other', 'M2-other', 'M3-other', 'M4-other']].describe()"
   ]
  },
  {
   "cell_type": "code",
   "execution_count": 61,
   "metadata": {},
   "outputs": [
    {
     "data": {
      "text/html": [
       "<div>\n",
       "<style scoped>\n",
       "    .dataframe tbody tr th:only-of-type {\n",
       "        vertical-align: middle;\n",
       "    }\n",
       "\n",
       "    .dataframe tbody tr th {\n",
       "        vertical-align: top;\n",
       "    }\n",
       "\n",
       "    .dataframe thead th {\n",
       "        text-align: right;\n",
       "    }\n",
       "</style>\n",
       "<table border=\"1\" class=\"dataframe\">\n",
       "  <thead>\n",
       "    <tr style=\"text-align: right;\">\n",
       "      <th></th>\n",
       "      <th>M1-other</th>\n",
       "      <th>M2-other</th>\n",
       "      <th>M3-other</th>\n",
       "      <th>M4-other</th>\n",
       "    </tr>\n",
       "  </thead>\n",
       "  <tbody>\n",
       "    <tr>\n",
       "      <th>count</th>\n",
       "      <td>1113.000000</td>\n",
       "      <td>1113.000000</td>\n",
       "      <td>1113.000000</td>\n",
       "      <td>1113.000000</td>\n",
       "    </tr>\n",
       "    <tr>\n",
       "      <th>mean</th>\n",
       "      <td>-0.052636</td>\n",
       "      <td>0.654962</td>\n",
       "      <td>-0.343541</td>\n",
       "      <td>-0.258785</td>\n",
       "    </tr>\n",
       "    <tr>\n",
       "      <th>std</th>\n",
       "      <td>0.483955</td>\n",
       "      <td>0.566160</td>\n",
       "      <td>0.489510</td>\n",
       "      <td>0.598750</td>\n",
       "    </tr>\n",
       "    <tr>\n",
       "      <th>min</th>\n",
       "      <td>-1.488889</td>\n",
       "      <td>-1.144444</td>\n",
       "      <td>-2.077778</td>\n",
       "      <td>-2.161111</td>\n",
       "    </tr>\n",
       "    <tr>\n",
       "      <th>25%</th>\n",
       "      <td>-0.361111</td>\n",
       "      <td>0.233333</td>\n",
       "      <td>-0.661111</td>\n",
       "      <td>-0.661111</td>\n",
       "    </tr>\n",
       "    <tr>\n",
       "      <th>50%</th>\n",
       "      <td>-0.055556</td>\n",
       "      <td>0.655556</td>\n",
       "      <td>-0.311111</td>\n",
       "      <td>-0.183333</td>\n",
       "    </tr>\n",
       "    <tr>\n",
       "      <th>75%</th>\n",
       "      <td>0.255556</td>\n",
       "      <td>1.083333</td>\n",
       "      <td>0.000000</td>\n",
       "      <td>0.144444</td>\n",
       "    </tr>\n",
       "    <tr>\n",
       "      <th>max</th>\n",
       "      <td>1.522222</td>\n",
       "      <td>2.372222</td>\n",
       "      <td>0.933333</td>\n",
       "      <td>1.355556</td>\n",
       "    </tr>\n",
       "  </tbody>\n",
       "</table>\n",
       "</div>"
      ],
      "text/plain": [
       "          M1-other     M2-other     M3-other     M4-other\n",
       "count  1113.000000  1113.000000  1113.000000  1113.000000\n",
       "mean     -0.052636     0.654962    -0.343541    -0.258785\n",
       "std       0.483955     0.566160     0.489510     0.598750\n",
       "min      -1.488889    -1.144444    -2.077778    -2.161111\n",
       "25%      -0.361111     0.233333    -0.661111    -0.661111\n",
       "50%      -0.055556     0.655556    -0.311111    -0.183333\n",
       "75%       0.255556     1.083333     0.000000     0.144444\n",
       "max       1.522222     2.372222     0.933333     1.355556"
      ]
     },
     "execution_count": 61,
     "metadata": {},
     "output_type": "execute_result"
    }
   ],
   "source": [
    "data_other[['M1-other', 'M2-other', 'M3-other', 'M4-other']].describe()"
   ]
  },
  {
   "cell_type": "code",
   "execution_count": null,
   "metadata": {},
   "outputs": [],
   "source": []
  }
 ],
 "metadata": {
  "kernelspec": {
   "display_name": "Python 3",
   "language": "python",
   "name": "python3"
  },
  "language_info": {
   "codemirror_mode": {
    "name": "ipython",
    "version": 3
   },
   "file_extension": ".py",
   "mimetype": "text/x-python",
   "name": "python",
   "nbconvert_exporter": "python",
   "pygments_lexer": "ipython3",
   "version": "3.7.4"
  }
 },
 "nbformat": 4,
 "nbformat_minor": 2
}
