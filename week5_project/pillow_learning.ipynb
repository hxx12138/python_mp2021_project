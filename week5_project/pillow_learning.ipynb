{
 "cells": [
  {
   "cell_type": "markdown",
   "metadata": {},
   "source": [
    "# pillow 库学习"
   ]
  },
  {
   "cell_type": "code",
   "execution_count": 3,
   "metadata": {},
   "outputs": [],
   "source": [
    "from PIL import Image"
   ]
  },
  {
   "cell_type": "code",
   "execution_count": 18,
   "metadata": {},
   "outputs": [
    {
     "name": "stdout",
     "output_type": "stream",
     "text": [
      "图像的格式 None\n",
      "图像大小，格式为（宽度，高度） (2160, 2160)\n",
      "图片的高度 2160 图片的宽度 2160\n",
      "获取（100，100）处的像素值 (12, 6, 33)\n"
     ]
    }
   ],
   "source": [
    "im = Image.open('/Users/xihe/Desktop/流星雨.png').convert(mode='RGB')\n",
    "im.show()\n",
    "print('图像的格式',im.format)\n",
    "print('图像大小，格式为（宽度，高度）',im.size)\n",
    "print('图片的高度',im.height,'图片的宽度',im.width)\n",
    "print('获取（100，100）处的像素值',im.getpixel((100,100)))"
   ]
  },
  {
   "cell_type": "code",
   "execution_count": 14,
   "metadata": {},
   "outputs": [],
   "source": [
    "# 图像混合\n",
    "\n",
    "im1 = Image.new('RGB',(2160,2160),'blue')\n",
    "im2 = Image.new('RGB',im1.size,'black')\n",
    "\n",
    "Image.blend(im1,im2,alpha=0.5).show()\n",
    "Image.blend(im1,im2,alpha=0).show()\n",
    "Image.blend(im1,im2,alpha=1).show()"
   ]
  },
  {
   "cell_type": "code",
   "execution_count": 17,
   "metadata": {},
   "outputs": [],
   "source": [
    "# 遮罩混合\n",
    "\n",
    "r,g,b=im2.split()\n",
    "Image.composite(im2,im,r).show()"
   ]
  },
  {
   "cell_type": "code",
   "execution_count": 47,
   "metadata": {},
   "outputs": [],
   "source": [
    "# 缩放图像\n",
    "\n",
    "im.show()\n",
    "# 每个像素扩大两倍\n",
    "im_eval=Image.eval(im,lambda i:i*2)\n",
    "im_eval.show()"
   ]
  },
  {
   "cell_type": "code",
   "execution_count": 24,
   "metadata": {},
   "outputs": [],
   "source": [
    "# 图像缩放\n",
    "\n",
    "im3=im.copy()\n",
    "im3.thumbnail((500,500))\n",
    "im3.show()"
   ]
  },
  {
   "cell_type": "code",
   "execution_count": 28,
   "metadata": {},
   "outputs": [],
   "source": [
    "# 图像剪切和粘贴\n",
    "\n",
    "im4 = im.copy()\n",
    "im_crop = im.crop((30,30,500,500))\n",
    "im4.paste(im_crop,(10,10))\n",
    "im4.show()"
   ]
  },
  {
   "cell_type": "code",
   "execution_count": 29,
   "metadata": {},
   "outputs": [],
   "source": [
    "# 图像旋转\n",
    "\n",
    "im.rotate(90).show()"
   ]
  },
  {
   "cell_type": "code",
   "execution_count": 33,
   "metadata": {},
   "outputs": [],
   "source": [
    "# 格式转化\n",
    "\n",
    "im.transpose(Image.FLIP_TOP_BOTTOM).show()\n",
    "im.transpose(Image.FLIP_LEFT_RIGHT).show()\n",
    "im.transpose(Image.ROTATE_90).show()\n",
    "im.transpose(Image.ROTATE_180).show()\n",
    "im.transpose(Image.TRANSPOSE).show()"
   ]
  },
  {
   "cell_type": "code",
   "execution_count": 40,
   "metadata": {},
   "outputs": [],
   "source": [
    "# 图片分离和合并\n",
    "\n",
    "r1,g1,b1=im.split()\n",
    "r2,g2,b2=im1.split()\n",
    "temp=[r1,g2,b1]\n",
    "im_merge=Image.merge('RGB',temp)\n",
    "im_merge.show()"
   ]
  },
  {
   "cell_type": "code",
   "execution_count": 37,
   "metadata": {},
   "outputs": [],
   "source": [
    "# 图像滤镜\n",
    "\n",
    "from PIL import ImageFilter\n",
    "im_filter=im.filter(ImageFilter.GaussianBlur).show()"
   ]
  },
  {
   "cell_type": "code",
   "execution_count": 39,
   "metadata": {},
   "outputs": [],
   "source": [
    "im_1 = Image.open('/Users/xihe/Desktop/流星雨.png').convert(mode='1')\n",
    "im_1.show()"
   ]
  },
  {
   "cell_type": "code",
   "execution_count": 49,
   "metadata": {},
   "outputs": [],
   "source": [
    "w,h = im.size\n",
    "im_output = Image.new('RGB',(w*2,h*2))\n",
    "im_output.paste(im,(0,0))\n",
    "im_output.paste(im_1,(w,0))\n",
    "im_output.paste(im_merge,(0,h))\n",
    "im_output.paste(im_eval,(w,h))\n",
    "im_output.show()"
   ]
  },
  {
   "cell_type": "code",
   "execution_count": 54,
   "metadata": {},
   "outputs": [],
   "source": [
    "# 更多的图像滤镜\n",
    "\n",
    "w,h = im.size\n",
    "im_output = Image.new('RGB',(w*2,h*2))\n",
    "im_output.paste(im,(0,0))\n",
    "\n",
    "im_filter1=im.filter(ImageFilter.EDGE_ENHANCE)\n",
    "im_filter2=im.filter(ImageFilter.FIND_EDGES)\n",
    "im_filter3=im.filter(ImageFilter.GaussianBlur)\n",
    "im_output.paste(im_filter1,(w,0))\n",
    "im_output.paste(im_filter2,(0,h))\n",
    "im_output.paste(im_filter3,(w,h))\n",
    "im_output.show()"
   ]
  },
  {
   "cell_type": "code",
   "execution_count": 55,
   "metadata": {},
   "outputs": [],
   "source": [
    "im_filter2.show()"
   ]
  },
  {
   "cell_type": "code",
   "execution_count": 64,
   "metadata": {},
   "outputs": [],
   "source": [
    "# 图像合成\n",
    "\n",
    "from PIL import ImageChops\n",
    "\n",
    "# 加法\n",
    "ImageChops.add(im,im_filter2).show()\n",
    "# 减法\n",
    "ImageChops.subtract(im,im_filter2).show()\n",
    "# 变暗\n",
    "ImageChops.darker(im,im_filter2).show()\n",
    "# 变亮\n",
    "ImageChops.lighter(im,im_filter2).show()\n",
    "# 叠加\n",
    "ImageChops.multiply(im,im_filter2).show()\n",
    "# 屏幕\n",
    "ImageChops.screen(im,im_filter2).show()\n",
    "# 反色\n",
    "ImageChops.invert(im).show()\n",
    "# 比较\n",
    "ImageChops.difference(im,im_filter2).show()"
   ]
  },
  {
   "cell_type": "code",
   "execution_count": 68,
   "metadata": {},
   "outputs": [],
   "source": [
    "# 调整图像色彩\n",
    "from PIL import ImageEnhance\n",
    "\n",
    "w,h = im.size\n",
    "im_output=Image.new('RGB',(3*w,h))\n",
    "im_output.paste(im,(0,0))\n",
    "\n",
    "# 获取色彩调整器\n",
    "im_color = ImageEnhance.Color(im)\n",
    "\n",
    "im_color_h = im_color.enhance(1.5)\n",
    "im_output.paste(im_color_h,(w,0))\n",
    "im_color_l = im_color.enhance(0.5)\n",
    "im_output.paste(im_color_l,(2*w,0))\n",
    "\n",
    "im_output.show()"
   ]
  },
  {
   "cell_type": "code",
   "execution_count": 69,
   "metadata": {},
   "outputs": [],
   "source": [
    "# 调整图像亮度\n",
    "\n",
    "w,h = im.size\n",
    "im_output=Image.new('RGB',(3*w,h))\n",
    "im_output.paste(im,(0,0))\n",
    "\n",
    "# 获取亮度调整器\n",
    "im_bright = ImageEnhance.Brightness(im)\n",
    "\n",
    "im_bright_h = im_bright.enhance(1.5)\n",
    "im_output.paste(im_bright_h,(w,0))\n",
    "im_bright_l = im_bright.enhance(0.5)\n",
    "im_output.paste(im_bright_l,(2*w,0))\n",
    "\n",
    "im_output.show()"
   ]
  },
  {
   "cell_type": "code",
   "execution_count": 70,
   "metadata": {},
   "outputs": [],
   "source": [
    "# 调整像素点\n",
    "\n",
    "w,h = im.size\n",
    "im_output=Image.new('RGB',(3*w,h))\n",
    "im_output.paste(im,(0,0))\n",
    "\n",
    "im_point_h = im.point(lambda i:i*1.4)\n",
    "im_output.paste(im_point_h,(w,0))\n",
    "im_point_l = im.point(lambda i:i*0.5)\n",
    "im_output.paste(im_point_l,(2*w,0))\n",
    "\n",
    "im_output.show()"
   ]
  },
  {
   "cell_type": "code",
   "execution_count": 219,
   "metadata": {},
   "outputs": [],
   "source": [
    "# 绘图\n",
    "\n",
    "from PIL import ImageDraw,ImageFont\n",
    "\n",
    "# 创建画布\n",
    "im_draw = Image.new('RGB',(2000,2000),'violet')\n",
    "im_heart = Image.new('RGB',(1000,1000),'white')\n",
    "\n",
    "draw_heart=ImageDraw.Draw(im_heart)\n",
    "draw_heart.ellipse((300,50,700,650),fill='violet')\n",
    "im_left = im_heart.rotate(30)\n",
    "im_right = im_heart.rotate(330)\n",
    "im_heart = ImageChops.darker(im_left,im_right)\n",
    "#im_heart.show()\n",
    "\n",
    "w,h = im_draw.size\n",
    "\n",
    "draw_obj=ImageDraw.Draw(im_draw)\n",
    "\n",
    "im_heart_crop = im_heart.crop((195,95,805,650))\n",
    "\n",
    "draw_obj.rectangle((500,500,1500,1500),fill='pink',outline='violet')\n",
    "\n",
    "im_draw.paste(im_heart_crop,(700,700))\n",
    "draw_obj.arc((0,0,w-1,h-1),0,360,fill='pink',width=10)\n",
    "draw_obj.line((0,0,w,h),fill='lightblue',width=10)\n",
    "draw_obj.line((0,h,w,0),fill='lightblue',width=10)\n",
    "\n",
    "\n",
    "font = ImageFont.truetype('AmericanTypewriter.ttc',200)\n",
    "draw_obj.text((820,840),'love',font = font,fill='pink')\n",
    "\n",
    "im_heart_crop = im_heart.crop((300,300,700,700))\n",
    "\n",
    "\n",
    "\n",
    "im_draw.show()\n"
   ]
  },
  {
   "cell_type": "code",
   "execution_count": 94,
   "metadata": {},
   "outputs": [],
   "source": [
    "# 在原有图片上进行绘制\n",
    "\n",
    "w,h = im.size\n",
    "draw_obj = ImageDraw.Draw(im)\n",
    "\n",
    "draw_obj.arc((0,0,w-1,h-1),0,360,fill='white')\n",
    "im.save('circle.png')"
   ]
  },
  {
   "cell_type": "code",
   "execution_count": 112,
   "metadata": {},
   "outputs": [],
   "source": []
  },
  {
   "cell_type": "code",
   "execution_count": null,
   "metadata": {},
   "outputs": [],
   "source": []
  }
 ],
 "metadata": {
  "kernelspec": {
   "display_name": "Python 3",
   "language": "python",
   "name": "python3"
  },
  "language_info": {
   "codemirror_mode": {
    "name": "ipython",
    "version": 3
   },
   "file_extension": ".py",
   "mimetype": "text/x-python",
   "name": "python",
   "nbconvert_exporter": "python",
   "pygments_lexer": "ipython3",
   "version": "3.8.5"
  }
 },
 "nbformat": 4,
 "nbformat_minor": 4
}
