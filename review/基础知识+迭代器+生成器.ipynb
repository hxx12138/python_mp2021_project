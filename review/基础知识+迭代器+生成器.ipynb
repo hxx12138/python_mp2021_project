{
 "cells": [
  {
   "cell_type": "markdown",
   "metadata": {},
   "source": [
    "# 期末复习"
   ]
  },
  {
   "cell_type": "markdown",
   "metadata": {},
   "source": [
    "## python基础语法"
   ]
  },
  {
   "cell_type": "markdown",
   "metadata": {},
   "source": [
    "### python关键词"
   ]
  },
  {
   "cell_type": "code",
   "execution_count": 2,
   "metadata": {},
   "outputs": [
    {
     "name": "stdout",
     "output_type": "stream",
     "text": [
      "['False', 'None', 'True', 'and', 'as', 'assert', 'async', 'await', 'break', 'class', 'continue', 'def', 'del', 'elif', 'else', 'except', 'finally', 'for', 'from', 'global', 'if', 'import', 'in', 'is', 'lambda', 'nonlocal', 'not', 'or', 'pass', 'raise', 'return', 'try', 'while', 'with', 'yield']\n"
     ]
    }
   ],
   "source": [
    "import keyword\n",
    "print(keyword.kwlist)"
   ]
  },
  {
   "cell_type": "code",
   "execution_count": 4,
   "metadata": {},
   "outputs": [
    {
     "name": "stdout",
     "output_type": "stream",
     "text": [
      "4345330048\n"
     ]
    }
   ],
   "source": [
    "a = 2\n",
    "print(id(a))"
   ]
  },
  {
   "cell_type": "code",
   "execution_count": 13,
   "metadata": {},
   "outputs": [
    {
     "name": "stdout",
     "output_type": "stream",
     "text": [
      "<class 'type'>\n",
      "True\n",
      "False\n",
      "True\n"
     ]
    }
   ],
   "source": [
    "class a:\n",
    "    def __init__(self) -> None:\n",
    "        pass\n",
    "class b(a):\n",
    "    def __init__(self) -> None:\n",
    "        pass\n",
    "\n",
    "c = 2\n",
    "print(type(a))\n",
    "print(isinstance(c,int))\n",
    "print(issubclass(a,b))\n",
    "print(issubclass(b,a))"
   ]
  },
  {
   "cell_type": "code",
   "execution_count": 19,
   "metadata": {},
   "outputs": [
    {
     "name": "stdout",
     "output_type": "stream",
     "text": [
      "True\n",
      "False\n",
      "True\n",
      "False\n"
     ]
    }
   ],
   "source": [
    "a = 20\n",
    "b = 20\n",
    "print(id(a)==id(b))\n",
    "b = 30\n",
    "print(id(a)==id(b))\n",
    "print(id(30)==id(b))\n",
    "a = [20]\n",
    "b = [20]\n",
    "print(id(a)==id(b))"
   ]
  },
  {
   "cell_type": "code",
   "execution_count": 24,
   "metadata": {},
   "outputs": [
    {
     "name": "stdout",
     "output_type": "stream",
     "text": [
      "False\n",
      "True\n",
      "False\n",
      "-1\n",
      "2\n"
     ]
    }
   ],
   "source": [
    "print(-1==True)\n",
    "print(1==True)\n",
    "print(2==True)\n",
    "if -1:\n",
    "    print(-1)\n",
    "if 2:\n",
    "    print(2)"
   ]
  },
  {
   "cell_type": "code",
   "execution_count": 31,
   "metadata": {},
   "outputs": [
    {
     "name": "stdout",
     "output_type": "stream",
     "text": [
      "True\n",
      "True\n",
      "False\n"
     ]
    }
   ],
   "source": [
    "a = 1\n",
    "b = 2\n",
    "c = 2\n",
    "print(a<b==c)\n",
    "ans = b==c\n",
    "print(ans)\n",
    "print(a<ans)"
   ]
  },
  {
   "cell_type": "code",
   "execution_count": 34,
   "metadata": {},
   "outputs": [
    {
     "name": "stdout",
     "output_type": "stream",
     "text": [
      "0000000000\n",
      "False\n"
     ]
    }
   ],
   "source": [
    "a = ''\n",
    "b = a.zfill(10)\n",
    "print(a.zfill(10))\n",
    "print(id(a)==id(b))"
   ]
  },
  {
   "cell_type": "code",
   "execution_count": 36,
   "metadata": {},
   "outputs": [
    {
     "name": "stdout",
     "output_type": "stream",
     "text": [
      "[1, 2, 3, 1, 2, 3]\n"
     ]
    }
   ],
   "source": [
    "List1 = [1,2,3]\n",
    "print(List1 * 2)"
   ]
  },
  {
   "cell_type": "code",
   "execution_count": 40,
   "metadata": {},
   "outputs": [
    {
     "name": "stdout",
     "output_type": "stream",
     "text": [
      "False\n",
      "False\n",
      "140579380725184\n",
      "4345187064\n"
     ]
    }
   ],
   "source": [
    "L1 = [1,2,3]\n",
    "L2 = [1,2,3]\n",
    "print(id(L1)==id(L2))\n",
    "L3 = L1[:]\n",
    "print(id(L1)==id(L3))\n",
    "print(id(L1))\n",
    "print(id(L1.append(4)))"
   ]
  },
  {
   "cell_type": "code",
   "execution_count": 44,
   "metadata": {},
   "outputs": [
    {
     "name": "stdout",
     "output_type": "stream",
     "text": [
      "<zip object at 0x7fdb41354840>\n",
      "[(1, 4), (2, 5), (3, 6)]\n",
      "[(1, 4), (1, 5), (1, 6), (2, 4), (2, 5), (2, 6), (3, 4), (3, 5), (3, 6)]\n"
     ]
    }
   ],
   "source": [
    "a = [1,2,3]\n",
    "b = [4,5,6]\n",
    "zipped = zip(a,b)\n",
    "print(zipped)\n",
    "print(list(zipped))\n",
    "List = [(i,j) for i in a for j in b]\n",
    "print(List)"
   ]
  },
  {
   "cell_type": "code",
   "execution_count": 47,
   "metadata": {},
   "outputs": [
    {
     "name": "stdout",
     "output_type": "stream",
     "text": [
      "None\n"
     ]
    }
   ],
   "source": [
    "a = [2,5,1,3,8,2,6,4,2]\n",
    "a = a.sort()\n",
    "print(a)"
   ]
  },
  {
   "cell_type": "code",
   "execution_count": 50,
   "metadata": {},
   "outputs": [
    {
     "name": "stdout",
     "output_type": "stream",
     "text": [
      "[1, 2, 3, 4, 5, 6, 7, 8, 9, 0]\n"
     ]
    }
   ],
   "source": [
    "ll = [[1,2,3],[4,5,6,7],[8,9,0]]\n",
    "ll_f = [e for ele in ll for e in ele]\n",
    "print(ll_f)"
   ]
  },
  {
   "cell_type": "code",
   "execution_count": 55,
   "metadata": {},
   "outputs": [
    {
     "name": "stdout",
     "output_type": "stream",
     "text": [
      "([1, 2, 3], 4)\n",
      "{1: 'one', 2: 'two', 3: 'three'}\n"
     ]
    }
   ],
   "source": [
    "tupl = ([1,2,3],4)\n",
    "#tupl[0] = [1,2,3,4] # 报错不能修改\n",
    "#print(tupl[0].append(4))\n",
    "print(tupl)\n",
    "a = dict(list(enumerate(['one','two','three'],start=1)))\n",
    "print(a)"
   ]
  },
  {
   "cell_type": "code",
   "execution_count": 57,
   "metadata": {},
   "outputs": [
    {
     "name": "stdout",
     "output_type": "stream",
     "text": [
      "0x7fdb41aae980\n",
      "[1]\n",
      "0x7fdb41aae980\n",
      "[1, 2]\n",
      "0x7fdb41aae980\n",
      "[1, 2, 3]\n"
     ]
    }
   ],
   "source": [
    "def f(a,L=[]):\n",
    "    print(hex(id(L)))\n",
    "    L.append(a)\n",
    "    return L\n",
    "print(f(1))\n",
    "print(f(2))\n",
    "print(f(3))"
   ]
  },
  {
   "cell_type": "code",
   "execution_count": 63,
   "metadata": {},
   "outputs": [
    {
     "name": "stdout",
     "output_type": "stream",
     "text": [
      "{1: 'one', 2: 'two', 3: 'three'}\n",
      "1 2 3\n",
      "{'one': 1, 'two': 2, 'three': 3}\n",
      "0\n",
      "(1, 2, 3)\n",
      "{'one': 1, 'two': 2, 'three': 3}\n"
     ]
    }
   ],
   "source": [
    "def f(x,*args,**kwargs):\n",
    "    print(x)\n",
    "    print(args)\n",
    "    print(kwargs)\n",
    "x = 0\n",
    "args = (1,2,3)\n",
    "print(a)\n",
    "#print(*args)\n",
    "print(*args)\n",
    "kwargs = {'one':1,'two':2,'three':3}\n",
    "print(kwargs)\n",
    "\n",
    "f(x,*args,**kwargs)"
   ]
  },
  {
   "cell_type": "markdown",
   "metadata": {},
   "source": [
    "## 迭代器和生成器"
   ]
  },
  {
   "cell_type": "code",
   "execution_count": 66,
   "metadata": {},
   "outputs": [
    {
     "name": "stdout",
     "output_type": "stream",
     "text": [
      "True\n",
      "0 a\n",
      "1 b\n",
      "2 c\n"
     ]
    }
   ],
   "source": [
    "from collections import Iterable\n",
    "print(isinstance([1,2,3], Iterable))\n",
    "\n",
    "# 同时迭代序号和元素\n",
    "for i,value in enumerate(['a','b','c']):\n",
    "    print(i,value)\n"
   ]
  },
  {
   "cell_type": "code",
   "execution_count": 72,
   "metadata": {},
   "outputs": [
    {
     "name": "stdout",
     "output_type": "stream",
     "text": [
      "[0, 1, 4, 9, 16, 25, 36, 49, 64, 81]\n",
      "0\n",
      "1 4 9 16 25 36 49 64 81 "
     ]
    }
   ],
   "source": [
    "# 列表\n",
    "L = [x*x for x in range(10)]\n",
    "print(L)\n",
    "# 生成器\n",
    "G = (x*x for x in range(10))\n",
    "print(next(G))\n",
    "\n",
    "for i in G:\n",
    "    print(i,end=' ')\n",
    "# print(next(G)) # StopIteration\n"
   ]
  },
  {
   "cell_type": "code",
   "execution_count": 5,
   "metadata": {},
   "outputs": [
    {
     "name": "stdout",
     "output_type": "stream",
     "text": [
      "<generator object fib at 0x7ff2990ad510>\n",
      "1\n",
      "1\n",
      "2\n",
      "3\n",
      "5\n",
      "8\n",
      "\n",
      "None\n",
      "1\n"
     ]
    }
   ],
   "source": [
    "def fib(max):\n",
    "\tn,a,b=0,0,1\n",
    "\twhile(n<max):\n",
    "\t\tyield b\n",
    "\t\ta,b=b,a+b\n",
    "\t\tn+=1\n",
    "\t#return 'done'\n",
    "\n",
    "print(fib(6))\n",
    "#print(len(fib(6)))\n",
    "\n",
    "for f in fib(6):\n",
    "\t#print(f)\n",
    "\tpass\n",
    "\n",
    "f=fib(6)\n",
    "while True:\n",
    "\ttry:\n",
    "\t\tprint(next(f))\n",
    "\texcept StopIteration as si:\n",
    "\t\tprint(si)\n",
    "\t\tprint(si.value)\n",
    "\t\tprint(1)\n",
    "\t\tbreak"
   ]
  },
  {
   "cell_type": "code",
   "execution_count": 79,
   "metadata": {},
   "outputs": [
    {
     "name": "stdout",
     "output_type": "stream",
     "text": [
      "[1, 2, 3, 4, 5, 6, 7, 8, 9, 10]\n",
      "1\n",
      "2\n",
      "3\n",
      "4\n",
      "5\n",
      "6\n",
      "7\n",
      "8\n",
      "9\n",
      "10\n"
     ]
    }
   ],
   "source": [
    "from collections import Iterable\n",
    "\n",
    "def flatten(items,ingore_types=(str,bytes)):\n",
    "\tfor x in items:\n",
    "\t\tif isinstance(x,Iterable) and not isinstance(x,ingore_types):\n",
    "\t\t\tyield from flatten(x,ingore_types)\n",
    "\t\telse:\n",
    "\t\t\tyield x\n",
    "\n",
    "items=[1,2,[3,4,5],[6,7],[[[8]]],9,10]\n",
    "finput=list(flatten(items))\n",
    "print(finput)\n",
    "for x in flatten(items):\n",
    "\tprint(x)"
   ]
  },
  {
   "cell_type": "code",
   "execution_count": 94,
   "metadata": {},
   "outputs": [
    {
     "name": "stdout",
     "output_type": "stream",
     "text": [
      "True\n"
     ]
    },
    {
     "name": "stderr",
     "output_type": "stream",
     "text": [
      "<ipython-input-94-48f0635c4347>:5: DeprecationWarning: Using or importing the ABCs from 'collections' instead of from 'collections.abc' is deprecated since Python 3.3, and in 3.9 it will stop working\n",
      "  from collections import Iterator\n"
     ]
    }
   ],
   "source": [
    "# 迭代器\n",
    "# 可以被next()函数调用并不断返回下一个值的对象称为迭代器\n",
    "# 迭代器可以记住遍历位置\n",
    "# 迭代器只能往前不能后退(”消耗“数据）\n",
    "from collections import Iterator\n",
    "print(isinstance((x for x in range(10)), Iterator))"
   ]
  },
  {
   "cell_type": "code",
   "execution_count": 82,
   "metadata": {},
   "outputs": [],
   "source": [
    "# 迭代器可以产生所有数据，惰性求值\n",
    "# 生成器都是Iterator，但list、dict、str虽然是Iterable，却不是Iterator\n",
    "# 把list、dict、str等Iterable变成Iterator可以使用iter()函数"
   ]
  },
  {
   "cell_type": "code",
   "execution_count": 84,
   "metadata": {},
   "outputs": [
    {
     "name": "stdout",
     "output_type": "stream",
     "text": [
      "2 4 6 8 10 12 14 16 18 20 22 24 26 28 30 32 34 36 38 40 42 44 46 48 50 52 54 56 58 60 62 64 66 68 70 72 74 76 78 80 82 84 86 88 90 92 94 96 98 100 "
     ]
    }
   ],
   "source": [
    "# 创建迭代器\n",
    "# iter()函数\n",
    "# 把一个类作为一个迭代器使用需要在类中实现两个方法 __iter__() 与 __next__()\n",
    "# __iter__()返回一个特殊的迭代器对象，这个迭代器对象实现了 __next__() 方法\n",
    "# __next__() 方法返回下一个元素并通过StopIteration 异常标识迭代的完成\n",
    "class Numbers:\n",
    "    def __init__(self,start=1,step=1,max=100):\n",
    "        self._start=start\n",
    "        self._step=step\n",
    "        self._max=max\n",
    "        self._a=self._start\n",
    "        #self._list=[]\n",
    "\n",
    "    def __iter__(self):\n",
    "        \n",
    "        return self\n",
    "        #return iter(self._list)\n",
    "\n",
    "    def __next__(self):\n",
    "        if self._a <= self._max:\n",
    "            x = self._a\n",
    "            self._a += self._step\n",
    "            return x\n",
    "        else:\n",
    "            raise StopIteration('大于max:{}'.format(self._max))\n",
    "\n",
    "num=Numbers(start=2,step=2,max=100)\n",
    "#myiter=iter(num)\n",
    "for x in num:\n",
    "    print(x,end=' ')"
   ]
  },
  {
   "cell_type": "code",
   "execution_count": 87,
   "metadata": {},
   "outputs": [
    {
     "name": "stdout",
     "output_type": "stream",
     "text": [
      "6\n",
      "5\n",
      "4\n",
      "3\n",
      "2\n",
      "1\n",
      "6\n",
      "5\n",
      "4\n",
      "3\n",
      "2\n",
      "1\n",
      "10\n",
      "9\n",
      "8\n",
      "7\n",
      "6\n",
      "5\n",
      "4\n",
      "3\n",
      "2\n",
      "1\n",
      "1\n",
      "2\n",
      "3\n",
      "4\n",
      "5\n",
      "6\n",
      "7\n",
      "8\n",
      "9\n",
      "10\n"
     ]
    }
   ],
   "source": [
    "a=[1,2,3,4,5,6]\n",
    "for x in reversed(a):\n",
    "\tpass\n",
    "\tprint(x)\n",
    "\n",
    "for x in reversed(range(1, 7)):\n",
    "\tpass\n",
    "\tprint(x)\n",
    "\n",
    "class Countdown:\n",
    "\tdef __init__(self,start):\n",
    "\t\tself.start=start\n",
    "\t\tself._n=self.start\n",
    "\t\t\n",
    "\n",
    "\tdef __iter__(self):\n",
    "\t\t\n",
    "\t\treturn self\n",
    "\n",
    "\tdef __next__(self):\n",
    "\t\tif self._n>0:\n",
    "\t\t\tx=self._n\n",
    "\t\t\tself._n-=1\n",
    "\t\t\treturn x\n",
    "\t\telse:\n",
    "\t\t\traise StopIteration('Countdown is over')\n",
    "\n",
    "\tdef __reversed__(self):\n",
    "\t\tself._n=1\n",
    "\t\twhile self._n<=self.start:\n",
    "\t\t\tyield self._n\n",
    "\t\t\tself._n+=1\n",
    "\n",
    "cd=Countdown(10)\n",
    "\n",
    "for c in cd:\n",
    "\tprint(c)\n",
    "\n",
    "for c in reversed(cd):\n",
    "\tprint(c)"
   ]
  },
  {
   "cell_type": "code",
   "execution_count": 7,
   "metadata": {},
   "outputs": [
    {
     "name": "stdout",
     "output_type": "stream",
     "text": [
      "['a', 'b', 'c', 'd']\n",
      "['a', 'b', 'c', 'd']\n",
      "['a', 'b', 'c', 'd']\n"
     ]
    }
   ],
   "source": [
    "# 迭代器相关工具\n",
    "import itertools\n",
    "import operator\n",
    "\n",
    "l1=list(range(0,6))\n",
    "l2=[True,False,True,False,True]\n",
    "# 并行处理两个可迭代对象，如果selector_it中的元素为真，则返回it中对应位置的元素\n",
    "for i in itertools.compress(l1,l2):\n",
    "\tpass\n",
    "\t#print(i)\n",
    "\n",
    "def predictate(k):\n",
    "\tif k%2==0:\n",
    "\t\treturn True\n",
    "\telse:\n",
    "\t\treturn False\n",
    "\n",
    "# 不断使用当前元素作为参数调用predicate函数并测试返回结果，如果函数返回值为真，则生成当前元素，循环继续;否则立即中断当前循环\n",
    "for i in itertools.takewhile(predictate,l1):\n",
    "\tpass\n",
    "\t#print(i)\n",
    "\n",
    "# 处理it,跳过predicate计算结果为True的元素后，不再进一步检查，输出剩下的元素\n",
    "for i in itertools.dropwhile(predictate,l1):\n",
    "\tpass\n",
    "\t#print(i)\n",
    "\n",
    "# 作用类似于[:stop]\n",
    "for i in itertools.islice(l1,2):\n",
    "\tpass\n",
    "\t#print(i)\n",
    "\n",
    "# 累计求和\n",
    "for i in itertools.accumulate(l1):\n",
    "\tpass\n",
    "\t#print(i)\n",
    "\n",
    "# 把it中各个元素传给func 类似于map(func,*element)\n",
    "l2=['a','b','c','d']\n",
    "#print(list(enumerate(l2,2)))\n",
    "for s in itertools.starmap(operator.mul,enumerate(l2,1)):\n",
    "\tpass\n",
    "\t#print(s)\n",
    "\n",
    "# 返回一个生成器,依次产生it1...里的元素\n",
    "for i in itertools.chain(l1,l2):\n",
    "\tpass\n",
    "\t#print(i)\n",
    "\n",
    "# it是一个由可迭代对象组成的可迭代对象，将之拆分并依次返回\n",
    "for i in itertools.chain.from_iterable(enumerate(l2,1)):\n",
    "\tpass\n",
    "\t#print(i)\n",
    "\n",
    "# 从输入的各个可迭代对象中获取元素，合并成由N个元素组成的元组\n",
    "l3=['e','f','g']\n",
    "for i in itertools.product(l1,l2,l3):\n",
    "\tpass\n",
    "\t#print(i)\n",
    "\n",
    "# 对应元素组合，元素个数与最短的列表一致\n",
    "for e in zip(l1,l2,l3):\n",
    "\tpass\n",
    "\t#print(e)\n",
    "\n",
    "z=zip(l1,l2)\n",
    "#print(*z)\n",
    "#print(*z)\n",
    "for i in zip(*z):\n",
    "\tpass\n",
    "\t#print(i)\n",
    "\n",
    "# 元素个数与最长的列表一致\n",
    "for e in itertools.zip_longest(l1,l2,l3,fillvalue='0'):\n",
    "\tpass\n",
    "\t#print(e)\n",
    "\n",
    "l4=[1,1,2,3]\n",
    "# 把it中out_len个元素的组合以元组的形式输出，不包同一元素的组合\n",
    "for i in itertools.combinations(l4,3):\n",
    "\tpass\n",
    "\t#print(i)\n",
    "# 包含同一元素的组合\t\n",
    "for i in itertools.combinations_with_replacement(l4,2):\n",
    "\tpass\n",
    "\t#print(i)\n",
    "\n",
    "# 不断产生数字，可以是浮点\n",
    "#for n in itertools.count(start=0,step=0.1):\n",
    "\t#pass\n",
    "\t#print(n)\n",
    "\n",
    "# 按顺序重复输出it中的各个元素\t\n",
    "#for s in itertools.cycle(l2):\n",
    "#\tpass\n",
    "\t#print(s)\n",
    "\n",
    "# 生成长度为out_len的it元素的所有排列\n",
    "for c in itertools.permutations(l4):\n",
    "\tpass\n",
    "\t#print(c)\n",
    "\n",
    "# 重复不断生成times个指定元素\n",
    "for n in itertools.repeat('a',5):\n",
    "\tpass\n",
    "\t#print(n)\n",
    "\n",
    "# 返回groupb (key,group)，其中key是分组标准，group是生成器，用于产生分组中的元素，须对输入的可迭代对象使用分组标准进行排序，否则输出会混乱\n",
    "animals = ['duck','eagle','rat','giraffe','bear','bat','dolphin','shark','lion']\n",
    "animals.sort(key=len,reverse=True)\n",
    "for length,group in itertools.groupby(animals,len):#reversed(animals)\n",
    "\tpass\n",
    "\t#print(length,':',list(group))\n",
    "\n",
    "g1,g2,g3=itertools.tee(l2,3)\n",
    "print(list(g1))\n",
    "print(list(g2))\n",
    "print(list(g3))"
   ]
  },
  {
   "cell_type": "code",
   "execution_count": 2,
   "metadata": {},
   "outputs": [
    {
     "name": "stdout",
     "output_type": "stream",
     "text": [
      "| / - \\ | / - \\ | / - \\ | / - "
     ]
    },
    {
     "ename": "KeyboardInterrupt",
     "evalue": "",
     "output_type": "error",
     "traceback": [
      "\u001b[0;31m---------------------------------------------------------------------------\u001b[0m",
      "\u001b[0;31mKeyboardInterrupt\u001b[0m                         Traceback (most recent call last)",
      "\u001b[0;32m<ipython-input-2-1b790b4a36ae>\u001b[0m in \u001b[0;36m<module>\u001b[0;34m\u001b[0m\n\u001b[1;32m     11\u001b[0m                 \u001b[0mtime\u001b[0m\u001b[0;34m.\u001b[0m\u001b[0msleep\u001b[0m\u001b[0;34m(\u001b[0m\u001b[0;36m0.5\u001b[0m\u001b[0;34m)\u001b[0m\u001b[0;34m\u001b[0m\u001b[0;34m\u001b[0m\u001b[0m\n\u001b[1;32m     12\u001b[0m \u001b[0;34m\u001b[0m\u001b[0m\n\u001b[0;32m---> 13\u001b[0;31m \u001b[0mspin\u001b[0m\u001b[0;34m(\u001b[0m\u001b[0msys\u001b[0m\u001b[0;34m.\u001b[0m\u001b[0margv\u001b[0m\u001b[0;34m[\u001b[0m\u001b[0;36m1\u001b[0m\u001b[0;34m]\u001b[0m\u001b[0;34m)\u001b[0m\u001b[0;34m\u001b[0m\u001b[0;34m\u001b[0m\u001b[0m\n\u001b[0m",
      "\u001b[0;32m<ipython-input-2-1b790b4a36ae>\u001b[0m in \u001b[0;36mspin\u001b[0;34m(msg)\u001b[0m\n\u001b[1;32m      9\u001b[0m                 \u001b[0msys\u001b[0m\u001b[0;34m.\u001b[0m\u001b[0mstdout\u001b[0m\u001b[0;34m.\u001b[0m\u001b[0mflush\u001b[0m\u001b[0;34m(\u001b[0m\u001b[0;34m)\u001b[0m\u001b[0;34m\u001b[0m\u001b[0;34m\u001b[0m\u001b[0m\n\u001b[1;32m     10\u001b[0m                 \u001b[0msys\u001b[0m\u001b[0;34m.\u001b[0m\u001b[0mstdout\u001b[0m\u001b[0;34m.\u001b[0m\u001b[0mwrite\u001b[0m\u001b[0;34m(\u001b[0m\u001b[0;34m'\\x08'\u001b[0m\u001b[0;34m*\u001b[0m\u001b[0mlen\u001b[0m\u001b[0;34m(\u001b[0m\u001b[0mstatus\u001b[0m\u001b[0;34m)\u001b[0m\u001b[0;34m)\u001b[0m\u001b[0;31m#'\\x08'是退格符，删除\u001b[0m\u001b[0;34m\u001b[0m\u001b[0;34m\u001b[0m\u001b[0m\n\u001b[0;32m---> 11\u001b[0;31m                 \u001b[0mtime\u001b[0m\u001b[0;34m.\u001b[0m\u001b[0msleep\u001b[0m\u001b[0;34m(\u001b[0m\u001b[0;36m0.5\u001b[0m\u001b[0;34m)\u001b[0m\u001b[0;34m\u001b[0m\u001b[0;34m\u001b[0m\u001b[0m\n\u001b[0m\u001b[1;32m     12\u001b[0m \u001b[0;34m\u001b[0m\u001b[0m\n\u001b[1;32m     13\u001b[0m \u001b[0mspin\u001b[0m\u001b[0;34m(\u001b[0m\u001b[0msys\u001b[0m\u001b[0;34m.\u001b[0m\u001b[0margv\u001b[0m\u001b[0;34m[\u001b[0m\u001b[0;36m1\u001b[0m\u001b[0;34m]\u001b[0m\u001b[0;34m)\u001b[0m\u001b[0;34m\u001b[0m\u001b[0;34m\u001b[0m\u001b[0m\n",
      "\u001b[0;31mKeyboardInterrupt\u001b[0m: "
     ]
    }
   ],
   "source": [
    "import itertools\n",
    "import time\n",
    "import sys\n",
    "\n",
    "def spin(msg):\n",
    "\tfor s in itertools.cycle('|/-\\\\'):\n",
    "\t\tstatus=s+' '+msg\n",
    "\t\tsys.stdout.write(status)\n",
    "\t\tsys.stdout.flush()\n",
    "\t\tsys.stdout.write('\\x08'*len(status))#'\\x08'是退格符，删除\n",
    "\t\ttime.sleep(0.5)\n",
    "\n",
    "spin(sys.argv[1])\n",
    "# 在终端运行"
   ]
  },
  {
   "cell_type": "code",
   "execution_count": null,
   "metadata": {},
   "outputs": [],
   "source": []
  }
 ],
 "metadata": {
  "interpreter": {
   "hash": "40d3a090f54c6569ab1632332b64b2c03c39dcf918b08424e98f38b5ae0af88f"
  },
  "kernelspec": {
   "display_name": "Python 3.8.8 64-bit ('base': conda)",
   "language": "python",
   "name": "python3"
  },
  "language_info": {
   "codemirror_mode": {
    "name": "ipython",
    "version": 3
   },
   "file_extension": ".py",
   "mimetype": "text/x-python",
   "name": "python",
   "nbconvert_exporter": "python",
   "pygments_lexer": "ipython3",
   "version": "3.8.8"
  },
  "orig_nbformat": 4
 },
 "nbformat": 4,
 "nbformat_minor": 2
}
